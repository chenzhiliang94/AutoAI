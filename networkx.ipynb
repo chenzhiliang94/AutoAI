{
 "cells": [
  {
   "cell_type": "code",
   "execution_count": 13,
   "metadata": {},
   "outputs": [],
   "source": [
    "%matplotlib inline\n",
    "import matplotlib.pyplot as plt\n",
    "import networkx as nx\n",
    "import torch\n",
    "from Components.DifferentiablePolynomial import *\n",
    "from Models.ModelExponential import *\n",
    "from Models.ModelSinCos import *\n",
    "from Models.ModelWeightedSum import *"
   ]
  },
  {
   "cell_type": "code",
   "execution_count": 14,
   "metadata": {},
   "outputs": [],
   "source": [
    "class DirectedFunctionalGraph(nx.DiGraph):\n",
    "    def __init__(self, incoming_graph_data=None, **attr):\n",
    "        super().__init__(incoming_graph_data, **attr)\n",
    "\n",
    "    def add_edge(self, u_of_edge, v_of_edge, **attr):\n",
    "        \"\"\"Add an edges from each u to v.\n",
    "        Parameters\n",
    "        ----------\n",
    "        u_of_edge : Ordered list of input nodes\n",
    "\n",
    "        v_of_edge : node\n",
    "        \"\"\"\n",
    "        if not (isinstance(u_of_edge, list) or isinstance(u_of_edge, tuple)):\n",
    "            u_of_edge = [u_of_edge]\n",
    "        required_inputs = self.nodes[v_of_edge][\"component\"].inputs\n",
    "        if required_inputs > 1:\n",
    "            assert len(u_of_edge) == required_inputs, f\"node {v_of_edge} require {required_inputs} parents, only {len(u_of_edge)} supplied\"\n",
    "            for u in u_of_edge:\n",
    "                if not u is None:\n",
    "                    super().add_edge(u, v_of_edge, **attr)\n",
    "        else:\n",
    "            super().add_edge(u_of_edge[0], v_of_edge, **attr)\n",
    "        self.nodes[v_of_edge][\"parents\"] = u_of_edge\n",
    "\n",
    "    def forward(self, sources:dict, sink):\n",
    "        def backward_(node):\n",
    "            component = self.nodes[node][\"component\"]\n",
    "            if node in sources:\n",
    "                x = sources[node]\n",
    "                if not torch.is_tensor(x):\n",
    "                    x = torch.tensor(x)\n",
    "                return component(x)\n",
    "            assert \"parents\" in self.nodes[node]\n",
    "            input = [backward_(parent) for parent in self.nodes[node][\"parents\"]]\n",
    "            input = torch.tensor(input)\n",
    "            return component(input)\n",
    "        return backward_(sink)\n"
   ]
  },
  {
   "cell_type": "code",
   "execution_count": 35,
   "metadata": {},
   "outputs": [
    {
     "data": {
      "image/png": "[encoded data removed]",
      "text/plain": [
       "<Figure size 640x480 with 1 Axes>"
      ]
     },
     "metadata": {},
     "output_type": "display_data"
    }
   ],
   "source": [
    "DG = DirectedFunctionalGraph()\n",
    "DG.add_node(1, component=DifferentiablePolynomial())\n",
    "DG.add_node(2, component=ModelSinCos())\n",
    "DG.add_node(3, component=ModelWeightedSum())\n",
    "DG.add_node(4, component=ModelExponential())\n",
    "DG.add_node(5, component=ModelWeightedSum())\n",
    "DG.add_node(6, component=ModelWeightedSum())\n",
    "DG.add_node(7, component=ModelSinCos())\n",
    "\n",
    "DG.add_edge((1,2),3)\n",
    "DG.add_edge((4,2),5)\n",
    "DG.add_edge(3,4)\n",
    "DG.add_edge((7,5),6)\n",
    "list(DG.predecessors(3))\n",
    "nx.draw_networkx(DG)"
   ]
  },
  {
   "cell_type": "code",
   "execution_count": 36,
   "metadata": {},
   "outputs": [
    {
     "name": "stdout",
     "output_type": "stream",
     "text": [
      "tensor(1.5220, dtype=torch.float64)\n",
      "tensor(0.2392, dtype=torch.float64)\n",
      "tensor(1.7612, dtype=torch.float64)\n",
      "tensor(1.7612, dtype=torch.float64)\n"
     ]
    }
   ],
   "source": [
    "input_1 = 1.4\n",
    "input_2 = 2.4\n",
    "\n",
    "output_1 = DG.forward({1: input_1}, 1)\n",
    "output_2 = DG.forward({2: input_2}, 2)\n",
    "print(output_1)\n",
    "print(output_2)\n",
    "print(DG.forward({3: [output_1, output_2]}, 3))\n",
    "print(DG.forward({1: input_1, 2: input_2}, 3))"
   ]
  },
  {
   "cell_type": "code",
   "execution_count": 37,
   "metadata": {},
   "outputs": [
    {
     "name": "stdout",
     "output_type": "stream",
     "text": [
      "tensor(1.5220, dtype=torch.float64)\n",
      "tensor(1.7612, dtype=torch.float64)\n",
      "tensor(0.4111, dtype=torch.float64)\n",
      "tensor(-0.6878, dtype=torch.float64)\n",
      "tensor(-0.2767, dtype=torch.float64)\n",
      "tensor(-0.2767, dtype=torch.float64)\n"
     ]
    }
   ],
   "source": [
    "input_1 = 1.4\n",
    "input_2 = 2.4\n",
    "input_7 = 3.4\n",
    "\n",
    "output_1 = DG.forward({1: input_1}, 1)\n",
    "output_3 = DG.forward({1: input_1, 2: input_2}, 3)\n",
    "output_4 = DG.forward({4: output_3}, 4)\n",
    "output_5 = DG.forward({5: (output_4, output_2)}, 5)\n",
    "output_7 = DG.forward({7: input_7}, 7)\n",
    "print(output_1)\n",
    "print(output_3)\n",
    "print(output_5)\n",
    "print(output_7)\n",
    "print(DG.forward({6: [output_5, output_7]}, 6))\n",
    "print(DG.forward({1: input_1, 2: input_2, 7: input_7}, 6))"
   ]
  }
 ],
 "metadata": {
  "kernelspec": {
   "display_name": "bo",
   "language": "python",
   "name": "python3"
  },
  "language_info": {
   "codemirror_mode": {
    "name": "ipython",
    "version": 3
   },
   "file_extension": ".py",
   "mimetype": "text/x-python",
   "name": "python",
   "nbconvert_exporter": "python",
   "pygments_lexer": "ipython3",
   "version": "3.8.16"
  },
  "orig_nbformat": 4
 },
 "nbformat": 4,
 "nbformat_minor": 2
}
