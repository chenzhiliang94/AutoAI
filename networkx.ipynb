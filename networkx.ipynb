{
 "cells": [
  {
   "cell_type": "code",
   "execution_count": 1,
   "metadata": {},
   "outputs": [],
   "source": [
    "%matplotlib inline\n",
    "import matplotlib.pyplot as plt\n",
    "import networkx as nx\n",
    "from Components.DifferentiablePolynomial import *\n",
    "from Models.ModelExponential import *\n",
    "from Models.ModelSinCos import *\n",
    "from Models.ModelWeightedSum import *\n",
    "from GraphDecomposition.DirectedFunctionalGraph import DirectedFunctionalGraph"
   ]
  },
  {
   "cell_type": "code",
   "execution_count": 3,
   "metadata": {},
   "outputs": [
    {
     "name": "stdout",
     "output_type": "stream",
     "text": [
      "adding edge from 6 to 3\n",
      "adding edge from 7 to 3\n"
     ]
    },
    {
     "name": "stderr",
     "output_type": "stream",
     "text": [
      "/home/zhiliang/dev/AutoAI/GraphDecomposition/DirectedFunctionalGraph.py:28: UserWarning: Parents of 3 previously defined as (6, 7), attempting to overwrite with [2]\n",
      "  warnings.warn(f'Parents of {v_of_edge} previously defined as {self.nodes[v_of_edge][\"parents\"]}, attempting to overwrite with {u_of_edge}')\n"
     ]
    },
    {
     "ename": "AssertionError",
     "evalue": "node 3 require 2 parents, but 1 supplied",
     "output_type": "error",
     "traceback": [
      "\u001b[0;31m---------------------------------------------------------------------------\u001b[0m",
      "\u001b[0;31mAssertionError\u001b[0m                            Traceback (most recent call last)",
      "Cell \u001b[0;32mIn[3], line 12\u001b[0m\n\u001b[1;32m     10\u001b[0m \u001b[39m# Test warning for multiple parents\u001b[39;00m\n\u001b[1;32m     11\u001b[0m DG\u001b[39m.\u001b[39madd_edge((\u001b[39m6\u001b[39m,\u001b[39m7\u001b[39m),\u001b[39m3\u001b[39m)\n\u001b[0;32m---> 12\u001b[0m DG\u001b[39m.\u001b[39;49madd_edge(\u001b[39m2\u001b[39;49m,\u001b[39m3\u001b[39;49m)\n\u001b[1;32m     14\u001b[0m DG\u001b[39m.\u001b[39madd_edge((\u001b[39m4\u001b[39m,\u001b[39m2\u001b[39m),\u001b[39m5\u001b[39m)\n\u001b[1;32m     16\u001b[0m \u001b[39m# Test warning for singular parents\u001b[39;00m\n",
      "File \u001b[0;32m~/dev/AutoAI/GraphDecomposition/DirectedFunctionalGraph.py:33\u001b[0m, in \u001b[0;36mDirectedFunctionalGraph.add_edge\u001b[0;34m(self, u_of_edge, v_of_edge, **attr)\u001b[0m\n\u001b[1;32m     31\u001b[0m     \u001b[39mself\u001b[39m\u001b[39m.\u001b[39mnodes[v_of_edge]\u001b[39m.\u001b[39mpop(\u001b[39m\"\u001b[39m\u001b[39mparents\u001b[39m\u001b[39m\"\u001b[39m)\n\u001b[1;32m     32\u001b[0m required_inputs \u001b[39m=\u001b[39m \u001b[39mself\u001b[39m\u001b[39m.\u001b[39mnodes[v_of_edge][\u001b[39m\"\u001b[39m\u001b[39mcomponent\u001b[39m\u001b[39m\"\u001b[39m]\u001b[39m.\u001b[39minputs\n\u001b[0;32m---> 33\u001b[0m \u001b[39massert\u001b[39;00m \u001b[39mlen\u001b[39m(u_of_edge) \u001b[39m==\u001b[39m required_inputs, \u001b[39mf\u001b[39m\u001b[39m\"\u001b[39m\u001b[39mnode \u001b[39m\u001b[39m{\u001b[39;00mv_of_edge\u001b[39m}\u001b[39;00m\u001b[39m require \u001b[39m\u001b[39m{\u001b[39;00mrequired_inputs\u001b[39m}\u001b[39;00m\u001b[39m parents, but \u001b[39m\u001b[39m{\u001b[39;00m\u001b[39mlen\u001b[39m(u_of_edge)\u001b[39m}\u001b[39;00m\u001b[39m supplied\u001b[39m\u001b[39m\"\u001b[39m\n\u001b[1;32m     34\u001b[0m \u001b[39mif\u001b[39;00m required_inputs \u001b[39m>\u001b[39m \u001b[39m1\u001b[39m:\n\u001b[1;32m     35\u001b[0m     \u001b[39mfor\u001b[39;00m u \u001b[39min\u001b[39;00m u_of_edge:\n",
      "\u001b[0;31mAssertionError\u001b[0m: node 3 require 2 parents, but 1 supplied"
     ]
    }
   ],
   "source": [
    "DG = DirectedFunctionalGraph()\n",
    "DG.add_node(1, component=DifferentiablePolynomial())\n",
    "DG.add_node(2, component=ModelSinCos())\n",
    "DG.add_node(3, component=ModelWeightedSum())\n",
    "DG.add_node(4, component=ModelExponential())\n",
    "DG.add_node(5, component=ModelWeightedSum())\n",
    "DG.add_node(6, component=ModelWeightedSum())\n",
    "DG.add_node(7, component=ModelSinCos())\n",
    "\n",
    "# Test warning for multiple parents\n",
    "DG.add_edge((6,7),3)\n",
    "DG.add_edge((1,2),3)\n",
    "\n",
    "DG.add_edge((4,2),5)\n",
    "\n",
    "# Test warning for singular parents\n",
    "DG.add_edge(2,4)\n",
    "DG.add_edge(3,4)\n",
    "\n",
    "DG.add_edge((7,5),6)\n",
    "list(DG.predecessors(3))\n",
    "nx.draw_networkx(DG)"
   ]
  },
  {
   "cell_type": "code",
   "execution_count": 2,
   "metadata": {},
   "outputs": [
    {
     "ename": "NameError",
     "evalue": "name 'DG' is not defined",
     "output_type": "error",
     "traceback": [
      "\u001b[0;31m---------------------------------------------------------------------------\u001b[0m",
      "\u001b[0;31mNameError\u001b[0m                                 Traceback (most recent call last)",
      "Cell \u001b[0;32mIn[2], line 4\u001b[0m\n\u001b[1;32m      1\u001b[0m input_1 \u001b[39m=\u001b[39m \u001b[39m1.4\u001b[39m\n\u001b[1;32m      2\u001b[0m input_2 \u001b[39m=\u001b[39m \u001b[39m2.4\u001b[39m\n\u001b[0;32m----> 4\u001b[0m output_1 \u001b[39m=\u001b[39m DG\u001b[39m.\u001b[39mforward({\u001b[39m1\u001b[39m: input_1}, \u001b[39m1\u001b[39m)\n\u001b[1;32m      5\u001b[0m output_2 \u001b[39m=\u001b[39m DG\u001b[39m.\u001b[39mforward({\u001b[39m2\u001b[39m: input_2}, \u001b[39m2\u001b[39m)\n\u001b[1;32m      6\u001b[0m \u001b[39mprint\u001b[39m(output_1)\n",
      "\u001b[0;31mNameError\u001b[0m: name 'DG' is not defined"
     ]
    }
   ],
   "source": [
    "input_1 = 1.4\n",
    "input_2 = 2.4\n",
    "\n",
    "output_1 = DG.forward({1: input_1}, 1)\n",
    "output_2 = DG.forward({2: input_2}, 2)\n",
    "print(output_1)\n",
    "print(output_2)\n",
    "print(DG.forward({3: [output_1, output_2]}, 3))\n",
    "print(DG.forward({1: input_1, 2: input_2}, 3))"
   ]
  },
  {
   "cell_type": "code",
   "execution_count": 4,
   "metadata": {},
   "outputs": [
    {
     "name": "stdout",
     "output_type": "stream",
     "text": [
      "tensor(1.5220, dtype=torch.float64)\n",
      "tensor(1.7612, dtype=torch.float64)\n",
      "tensor(0.4111, dtype=torch.float64)\n",
      "tensor(-0.6878, dtype=torch.float64)\n",
      "tensor(-0.2767, dtype=torch.float64)\n",
      "tensor(-0.2767, dtype=torch.float64)\n"
     ]
    }
   ],
   "source": [
    "input_1 = 1.4\n",
    "input_2 = 2.4\n",
    "input_7 = 3.4\n",
    "\n",
    "output_1 = DG.forward({1: input_1}, 1)\n",
    "output_3 = DG.forward({1: input_1, 2: input_2}, 3)\n",
    "output_4 = DG.forward({4: output_3}, 4)\n",
    "output_5 = DG.forward({5: (output_4, output_2)}, 5)\n",
    "output_7 = DG.forward({7: input_7}, 7)\n",
    "print(output_1)\n",
    "print(output_3)\n",
    "print(output_5)\n",
    "print(output_7)\n",
    "print(DG.forward({6: [output_5, output_7]}, 6))\n",
    "print(DG.forward({1: input_1, 2: input_2, 7: input_7}, 6))"
   ]
  },
  {
   "cell_type": "code",
   "execution_count": null,
   "metadata": {},
   "outputs": [],
   "source": []
  }
 ],
 "metadata": {
  "kernelspec": {
   "display_name": "bo",
   "language": "python",
   "name": "python3"
  },
  "language_info": {
   "codemirror_mode": {
    "name": "ipython",
    "version": 3
   },
   "file_extension": ".py",
   "mimetype": "text/x-python",
   "name": "python",
   "nbconvert_exporter": "python",
   "pygments_lexer": "ipython3",
   "version": "3.10.6"
  },
  "orig_nbformat": 4
 },
 "nbformat": 4,
 "nbformat_minor": 2
}
