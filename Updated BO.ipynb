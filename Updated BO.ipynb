{
 "cells": [
  {
   "cell_type": "code",
   "execution_count": 830,
   "metadata": {},
   "outputs": [
    {
     "name": "stdout",
     "output_type": "stream",
     "text": [
      "The autoreload extension is already loaded. To reload it, use:\n",
      "  %reload_ext autoreload\n"
     ]
    }
   ],
   "source": [
    "import math\n",
    "import numpy as np\n",
    "import matplotlib.pyplot as plt\n",
    "import torch\n",
    "import copy\n",
    "from collections import defaultdict\n",
    "\n",
    "from Components.ConditionalNormalDistribution import ConditionalNormalDistribution\n",
    "from Components.DifferentiablePolynomial import DifferentiablePolynomial\n",
    "from Models.ModelExponential import ModelExponential\n",
    "from Models.ModelSinCos import ModelSinCos\n",
    "from Models.ModelLogistic import ModelLogistic\n",
    "from Models.ModelSigmoid import ModelSigmoid\n",
    "from Composition.SequentialSystem import SequentialSystem\n",
    "from SearchAlgorithm.skeleton import BO_skeleton, BO_graph\n",
    "\n",
    "from GraphDecomposition.DirectedFunctionalGraph import DirectedFunctionalGraph\n",
    "from Components.DifferentiablePolynomial import DifferentiablePolynomial\n",
    "from Models.ModelSinCos import ModelSinCos\n",
    "from Models.ModelConstant import ModelConstant\n",
    "from Models.ModelWeightedSum import ModelWeightedSum\n",
    "from Models.ModelExponential import ModelExponential\n",
    "\n",
    "%load_ext autoreload\n",
    "%autoreload 2\n",
    "from GraphDecomposition.Heuristic import *\n",
    "from helper import *\n",
    "from Plotting.HeatMapLossFunction import *\n",
    "\n"
   ]
  },
  {
   "cell_type": "code",
   "execution_count": 831,
   "metadata": {},
   "outputs": [],
   "source": [
    "# ground truth param\n",
    "\n",
    "ground_truth_param = {1 : np.array([0.7, 1.1, -0.5]), 2: np.array([0.4, 0.5]), 8: np.array([-0.2, -0.2]), 9: np.array([-0.5, 0.5]), 10: np.array([-0.2, 0.1]), 11: np.array([-0.3, 0.3, 0.2]),\n",
    "                      12: np.array([0.1, 0.1]), \"Blackbox3\":np.array([1.3, -0.5]), 4:np.array([1.1, -0.5]), \"Blackbox5\":np.array([0.7, -0.5]),\n",
    "                      \"Blackbox6\": np.array([0.7, 1.1]), 7: np.array([0.7, -0.5])}\n",
    "\n",
    "# single input, single output\n",
    "def get_data(component : Model, input_range_lower, input_range_upper, ground_truth_param, noisy=True):\n",
    "    # ground truth for training\n",
    "    component = copy.deepcopy(component)\n",
    "    component.set_params(ground_truth_param)\n",
    "\n",
    "    X_local = torch.tensor(np.random.uniform(input_range_lower, input_range_upper, size=100))\n",
    "    y_local = component.forward(X_local, noisy=noisy)  # labeling effort of A\n",
    "\n",
    "    return X_local, y_local\n",
    "\n",
    "# multi input, single output (default is input size 2)\n",
    "def get_data_tree(component : Model, input_range_lower, input_range_upper, ground_truth_param, inputs=2):\n",
    "    # ground truth for training\n",
    "    component = copy.deepcopy(component)\n",
    "    component.set_params(ground_truth_param)\n",
    "\n",
    "    X_local = torch.tensor(np.random.uniform(input_range_lower, input_range_upper, size=(inputs,100)))\n",
    "    y_local = component.forward(X_local, noisy=True)  # labeling effort of A\n",
    "\n",
    "    return X_local, y_local\n"
   ]
  },
  {
   "cell_type": "code",
   "execution_count": 717,
   "metadata": {},
   "outputs": [],
   "source": [
    "# def generate_dg_test():\n",
    "#     ground_truth_param = {1 : np.array([0.7, -0.5]), 2: np.array([0.2, 0.6]), 3: np.array([-0.5, 0.5, 0.5]), \"Blackbox4\": np.array([0.5])}\n",
    "#     np.random.seed = 1\n",
    "#     DG = DirectedFunctionalGraph()\n",
    "\n",
    "#     # white box components\n",
    "#     DG.add_node(1, component=ModelWeightedSum())\n",
    "#     x,y = get_data_tree(DG.nodes[1][\"component\"], -5, 5, ground_truth_param[1])\n",
    "#     DG.nodes[1][\"component\"].attach_local_data(x,y)\n",
    "\n",
    "#     DG.add_node(2, component=ModelSinCos())\n",
    "#     x,y = get_data(DG.nodes[2][\"component\"], -3, 3, ground_truth_param[2])\n",
    "#     DG.nodes[2][\"component\"].attach_local_data(x,y)\n",
    "    \n",
    "#     DG.add_node(3, component=DifferentiablePolynomial())\n",
    "#     x,y = get_data(DG.nodes[3][\"component\"], -3, 3, ground_truth_param[3])\n",
    "#     DG.nodes[3][\"component\"].attach_local_data(x,y)\n",
    "\n",
    "#     # black box components\n",
    "#     DG.add_node(\"Blackbox4\", component=ModelSigmoid())\n",
    "#     DG.nodes[\"Blackbox4\"][\"component\"].set_params(ground_truth_param[\"Blackbox4\"])\n",
    "\n",
    "#     # Test warning for multiple parents\n",
    "#     DG.add_edge([2,3],1)\n",
    "\n",
    "#     DG.add_edge(3,\"Blackbox4\")\n",
    "\n",
    "#     X_end, y_end = get_end_to_end_data(DG, ground_truth_param)\n",
    "#     DG.system_x = X_end\n",
    "#     DG.system_y = y_end\n",
    "    \n",
    "#     DG.random_initialize_param()\n",
    "#     return DG\n"
   ]
  },
  {
   "attachments": {},
   "cell_type": "markdown",
   "metadata": {},
   "source": [
    "# Generate the system"
   ]
  },
  {
   "cell_type": "code",
   "execution_count": 832,
   "metadata": {},
   "outputs": [],
   "source": [
    "def generate_dg():\n",
    "    np.random.seed = 10\n",
    "    DG = DirectedFunctionalGraph()\n",
    "\n",
    "    # white box components\n",
    "    DG.add_node(1, component=DifferentiablePolynomial())\n",
    "    x,y = get_data(DG.nodes[1][\"component\"], 0, 5, ground_truth_param[1])\n",
    "    DG.nodes[1][\"component\"].attach_local_data(x,y)\n",
    "\n",
    "    DG.add_node(2, component=ModelSinCos())\n",
    "    x,y = get_data(DG.nodes[2][\"component\"], -3, 6, ground_truth_param[2])\n",
    "    DG.nodes[2][\"component\"].attach_local_data(x,y)\n",
    "\n",
    "    DG.add_node(4, component=ModelExponential())\n",
    "    x,y = get_data(DG.nodes[4][\"component\"], 0, 5, ground_truth_param[4])\n",
    "    DG.nodes[4][\"component\"].attach_local_data(x,y)\n",
    "\n",
    "    DG.add_node(7, component=ModelSinCos())\n",
    "    x,y = get_data(DG.nodes[7][\"component\"], 0, 5, ground_truth_param[7])\n",
    "    DG.nodes[7][\"component\"].attach_local_data(x,y)\n",
    "    \n",
    "    DG.add_node(8, component=ModelExponential())\n",
    "    x,y = get_data(DG.nodes[8][\"component\"], -1, 2, ground_truth_param[8])\n",
    "    DG.nodes[8][\"component\"].attach_local_data(x,y)\n",
    "    \n",
    "    DG.add_node(9, component=ModelExponential())\n",
    "    x,y = get_data(DG.nodes[9][\"component\"], -5, 5, ground_truth_param[9])\n",
    "    DG.nodes[9][\"component\"].attach_local_data(x,y)\n",
    "    \n",
    "    DG.add_node(10, component=ModelSinCos())\n",
    "    x,y = get_data(DG.nodes[10][\"component\"], -2, 2, ground_truth_param[10])\n",
    "    DG.nodes[10][\"component\"].attach_local_data(x,y)\n",
    "    \n",
    "    DG.add_node(11, component=DifferentiablePolynomial())\n",
    "    x,y = get_data(DG.nodes[11][\"component\"], 0, 5, ground_truth_param[11])\n",
    "    DG.nodes[11][\"component\"].attach_local_data(x,y)\n",
    "    \n",
    "    DG.add_node(12, component=ModelSinCos())\n",
    "    x,y = get_data(DG.nodes[12][\"component\"], 0, 5, ground_truth_param[12])\n",
    "    DG.nodes[12][\"component\"].attach_local_data(x,y)\n",
    "\n",
    "    # black box components\n",
    "    DG.add_node(\"Blackbox3\", component=ModelWeightedSum())\n",
    "    DG.nodes[\"Blackbox3\"][\"component\"].set_params(ground_truth_param[\"Blackbox3\"])\n",
    "\n",
    "    DG.add_node(\"Blackbox5\", component=ModelWeightedSum())\n",
    "    DG.nodes[\"Blackbox5\"][\"component\"].set_params(ground_truth_param[\"Blackbox5\"])\n",
    "\n",
    "    DG.add_node(\"Blackbox6\", component=ModelWeightedSum())\n",
    "    DG.nodes[\"Blackbox6\"][\"component\"].set_params(ground_truth_param[\"Blackbox6\"])\n",
    "\n",
    "    # Test warning for multiple parents\n",
    "    DG.add_edge([\"Blackbox6\",7],\"Blackbox3\")\n",
    "    DG.add_edge([1,2],\"Blackbox3\")\n",
    "\n",
    "    DG.add_edge([4,2],\"Blackbox5\")\n",
    "\n",
    "    # Test warning for singular parents\n",
    "    DG.add_edge(2,4)\n",
    "    DG.add_edge(\"Blackbox3\",4)\n",
    "    DG.add_edge([7,\"Blackbox5\"],\"Blackbox6\")\n",
    "    \n",
    "    DG.add_edge(8, 7)\n",
    "    DG.add_edge(9, 8)\n",
    "    DG.add_edge(10, 9)\n",
    "    DG.add_edge(11, 10)\n",
    "    DG.add_edge(12, 11)\n",
    "\n",
    "    X_end, y_end = get_end_to_end_data(DG, ground_truth_param)\n",
    "    DG.system_x = X_end\n",
    "    DG.system_y = y_end\n",
    "    \n",
    "    DG.random_initialize_param()\n",
    "    return DG\n"
   ]
  },
  {
   "cell_type": "code",
   "execution_count": 884,
   "metadata": {},
   "outputs": [
    {
     "name": "stdout",
     "output_type": "stream",
     "text": [
      "adding edge from Blackbox6 to Blackbox3\n",
      "adding edge from 7 to Blackbox3\n",
      "adding edge from 1 to Blackbox3\n",
      "adding edge from 2 to Blackbox3\n",
      "adding edge from 4 to Blackbox5\n",
      "adding edge from 2 to Blackbox5\n",
      "adding edge from 7 to Blackbox6\n",
      "adding edge from Blackbox5 to Blackbox6\n",
      "({1: [0.19358676523336915, 0.206428531023793, 0.5378919212984483], 2: [0.7856916026128591, -0.20989229483752792], 4: [-0.5475163610993157, 0.5772695057766517], 7: [-0.18611799013772945, -0.14298668458374153], 8: [-0.6507506610714784, 0.0067278469442257904], 9: [0.9226290343576615, -0.14603974161105282], 10: [0.6255352694425043, 0.04054649692896528], 11: [0.11945183899481271, -0.668664370912817, -0.7236446235144092], 12: [-0.793909244262905, 0.48801561398126725]}, [0.19358676523336915, 0.206428531023793, 0.5378919212984483, 0.7856916026128591, -0.20989229483752792, -0.5475163610993157, 0.5772695057766517, -0.18611799013772945, -0.14298668458374153, -0.6507506610714784, 0.0067278469442257904, 0.9226290343576615, -0.14603974161105282, 0.6255352694425043, 0.04054649692896528, 0.11945183899481271, -0.668664370912817, -0.7236446235144092, -0.793909244262905, 0.48801561398126725])\n"
     ]
    },
    {
     "name": "stderr",
     "output_type": "stream",
     "text": [
      "/home/zhiliang/dev/AutoAI/GraphDecomposition/DirectedFunctionalGraph.py:30: UserWarning: Parents of Blackbox3 previously defined as ['Blackbox6', 7], attempting to overwrite with [1, 2]\n",
      "  warnings.warn(f'Parents of {v_of_edge} previously defined as {self.nodes[v_of_edge][\"parents\"]}, attempting to overwrite with {u_of_edge}')\n",
      "/home/zhiliang/dev/AutoAI/GraphDecomposition/DirectedFunctionalGraph.py:30: UserWarning: Parents of 4 previously defined as [2], attempting to overwrite with ['Blackbox3']\n",
      "  warnings.warn(f'Parents of {v_of_edge} previously defined as {self.nodes[v_of_edge][\"parents\"]}, attempting to overwrite with {u_of_edge}')\n"
     ]
    },
    {
     "data": {
      "image/png": "[encoded data removed]",
      "text/plain": [
       "<Figure size 640x480 with 1 Axes>"
      ]
     },
     "metadata": {},
     "output_type": "display_data"
    }
   ],
   "source": [
    "DG = generate_dg()\n",
    "print(DG.get_all_params())\n",
    "nx.draw_networkx(DG)\n",
    "plt.show()"
   ]
  },
  {
   "attachments": {},
   "cell_type": "markdown",
   "metadata": {},
   "source": [
    "# Gradient Descent of local components"
   ]
  },
  {
   "cell_type": "code",
   "execution_count": 834,
   "metadata": {},
   "outputs": [
    {
     "data": {
      "image/png": "[encoded data removed]",
      "text/plain": [
       "<Figure size 640x480 with 1 Axes>"
      ]
     },
     "metadata": {},
     "output_type": "display_data"
    }
   ],
   "source": [
    "#grad descent\n",
    "DG.random_initialize_param()\n",
    "\n",
    "lower_bound_local_loss = show_system_loss_from_grad_descent(DG, itr=200, plot=True)\n",
    "lower_bound_local_loss = [x.detach().numpy().tolist() for x in lower_bound_local_loss]"
   ]
  },
  {
   "attachments": {},
   "cell_type": "markdown",
   "metadata": {},
   "source": [
    "# Vanilla BO over all parameters"
   ]
  },
  {
   "cell_type": "code",
   "execution_count": 847,
   "metadata": {},
   "outputs": [
    {
     "name": "stdout",
     "output_type": "stream",
     "text": [
      "BO iteration:  0\n",
      "Current best objective:  -10000\n",
      "BO iteration:  1\n",
      "Current best objective:  tensor(-1.9619, dtype=torch.float64)\n"
     ]
    },
    {
     "name": "stderr",
     "output_type": "stream",
     "text": [
      "/home/zhiliang/.local/lib/python3.10/site-packages/botorch/models/utils/assorted.py:173: InputDataWarning: Input data is not contained to the unit cube. Please consider min-max scaling the input data.\n",
      "  warnings.warn(msg, InputDataWarning)\n",
      "/home/zhiliang/.local/lib/python3.10/site-packages/botorch/models/utils/assorted.py:201: InputDataWarning: Input data is not standardized. Please consider scaling the input to zero mean and unit variance.\n",
      "  warnings.warn(msg, InputDataWarning)\n",
      "/home/zhiliang/.local/lib/python3.10/site-packages/botorch/models/utils/assorted.py:173: InputDataWarning: Input data is not contained to the unit cube. Please consider min-max scaling the input data.\n",
      "  warnings.warn(msg, InputDataWarning)\n",
      "/home/zhiliang/.local/lib/python3.10/site-packages/botorch/models/utils/assorted.py:201: InputDataWarning: Input data is not standardized. Please consider scaling the input to zero mean and unit variance.\n",
      "  warnings.warn(msg, InputDataWarning)\n"
     ]
    },
    {
     "name": "stdout",
     "output_type": "stream",
     "text": [
      "BO iteration:  2\n",
      "Current best objective:  tensor(-1.9619, dtype=torch.float64)\n",
      "BO iteration:  3\n",
      "Current best objective:  tensor(-1.9619, dtype=torch.float64)\n"
     ]
    },
    {
     "name": "stderr",
     "output_type": "stream",
     "text": [
      "/home/zhiliang/.local/lib/python3.10/site-packages/botorch/models/utils/assorted.py:173: InputDataWarning: Input data is not contained to the unit cube. Please consider min-max scaling the input data.\n",
      "  warnings.warn(msg, InputDataWarning)\n",
      "/home/zhiliang/.local/lib/python3.10/site-packages/botorch/models/utils/assorted.py:201: InputDataWarning: Input data is not standardized. Please consider scaling the input to zero mean and unit variance.\n",
      "  warnings.warn(msg, InputDataWarning)\n",
      "/home/zhiliang/.local/lib/python3.10/site-packages/botorch/models/utils/assorted.py:173: InputDataWarning: Input data is not contained to the unit cube. Please consider min-max scaling the input data.\n",
      "  warnings.warn(msg, InputDataWarning)\n",
      "/home/zhiliang/.local/lib/python3.10/site-packages/botorch/models/utils/assorted.py:201: InputDataWarning: Input data is not standardized. Please consider scaling the input to zero mean and unit variance.\n",
      "  warnings.warn(msg, InputDataWarning)\n"
     ]
    },
    {
     "name": "stdout",
     "output_type": "stream",
     "text": [
      "BO iteration:  4\n",
      "Current best objective:  tensor(-1.5121, dtype=torch.float64)\n",
      "BO iteration:  5\n",
      "Current best objective:  tensor(-1.5121, dtype=torch.float64)\n"
     ]
    },
    {
     "name": "stderr",
     "output_type": "stream",
     "text": [
      "/home/zhiliang/.local/lib/python3.10/site-packages/botorch/models/utils/assorted.py:173: InputDataWarning: Input data is not contained to the unit cube. Please consider min-max scaling the input data.\n",
      "  warnings.warn(msg, InputDataWarning)\n",
      "/home/zhiliang/.local/lib/python3.10/site-packages/botorch/models/utils/assorted.py:201: InputDataWarning: Input data is not standardized. Please consider scaling the input to zero mean and unit variance.\n",
      "  warnings.warn(msg, InputDataWarning)\n",
      "/home/zhiliang/.local/lib/python3.10/site-packages/botorch/models/utils/assorted.py:173: InputDataWarning: Input data is not contained to the unit cube. Please consider min-max scaling the input data.\n",
      "  warnings.warn(msg, InputDataWarning)\n",
      "/home/zhiliang/.local/lib/python3.10/site-packages/botorch/models/utils/assorted.py:201: InputDataWarning: Input data is not standardized. Please consider scaling the input to zero mean and unit variance.\n",
      "  warnings.warn(msg, InputDataWarning)\n"
     ]
    },
    {
     "name": "stdout",
     "output_type": "stream",
     "text": [
      "BO iteration:  6\n",
      "Current best objective:  tensor(-1.5121, dtype=torch.float64)\n",
      "BO iteration:  7\n",
      "Current best objective:  tensor(-0.3157, dtype=torch.float64)\n"
     ]
    },
    {
     "name": "stderr",
     "output_type": "stream",
     "text": [
      "/home/zhiliang/.local/lib/python3.10/site-packages/botorch/models/utils/assorted.py:173: InputDataWarning: Input data is not contained to the unit cube. Please consider min-max scaling the input data.\n",
      "  warnings.warn(msg, InputDataWarning)\n",
      "/home/zhiliang/.local/lib/python3.10/site-packages/botorch/models/utils/assorted.py:201: InputDataWarning: Input data is not standardized. Please consider scaling the input to zero mean and unit variance.\n",
      "  warnings.warn(msg, InputDataWarning)\n",
      "/home/zhiliang/.local/lib/python3.10/site-packages/botorch/models/utils/assorted.py:173: InputDataWarning: Input data is not contained to the unit cube. Please consider min-max scaling the input data.\n",
      "  warnings.warn(msg, InputDataWarning)\n",
      "/home/zhiliang/.local/lib/python3.10/site-packages/botorch/models/utils/assorted.py:201: InputDataWarning: Input data is not standardized. Please consider scaling the input to zero mean and unit variance.\n",
      "  warnings.warn(msg, InputDataWarning)\n"
     ]
    },
    {
     "name": "stdout",
     "output_type": "stream",
     "text": [
      "BO iteration:  8\n",
      "Current best objective:  tensor(-0.2874, dtype=torch.float64)\n",
      "BO iteration:  9\n",
      "Current best objective:  tensor(-0.2787, dtype=torch.float64)\n"
     ]
    },
    {
     "name": "stderr",
     "output_type": "stream",
     "text": [
      "/home/zhiliang/.local/lib/python3.10/site-packages/botorch/models/utils/assorted.py:173: InputDataWarning: Input data is not contained to the unit cube. Please consider min-max scaling the input data.\n",
      "  warnings.warn(msg, InputDataWarning)\n",
      "/home/zhiliang/.local/lib/python3.10/site-packages/botorch/models/utils/assorted.py:201: InputDataWarning: Input data is not standardized. Please consider scaling the input to zero mean and unit variance.\n",
      "  warnings.warn(msg, InputDataWarning)\n",
      "/home/zhiliang/.local/lib/python3.10/site-packages/botorch/models/utils/assorted.py:173: InputDataWarning: Input data is not contained to the unit cube. Please consider min-max scaling the input data.\n",
      "  warnings.warn(msg, InputDataWarning)\n",
      "/home/zhiliang/.local/lib/python3.10/site-packages/botorch/models/utils/assorted.py:201: InputDataWarning: Input data is not standardized. Please consider scaling the input to zero mean and unit variance.\n",
      "  warnings.warn(msg, InputDataWarning)\n"
     ]
    },
    {
     "name": "stdout",
     "output_type": "stream",
     "text": [
      "BO iteration:  10\n",
      "Current best objective:  tensor(-0.2587, dtype=torch.float64)\n"
     ]
    },
    {
     "name": "stderr",
     "output_type": "stream",
     "text": [
      "/home/zhiliang/.local/lib/python3.10/site-packages/botorch/models/utils/assorted.py:173: InputDataWarning: Input data is not contained to the unit cube. Please consider min-max scaling the input data.\n",
      "  warnings.warn(msg, InputDataWarning)\n",
      "/home/zhiliang/.local/lib/python3.10/site-packages/botorch/models/utils/assorted.py:201: InputDataWarning: Input data is not standardized. Please consider scaling the input to zero mean and unit variance.\n",
      "  warnings.warn(msg, InputDataWarning)\n"
     ]
    },
    {
     "name": "stdout",
     "output_type": "stream",
     "text": [
      "BO iteration:  11\n",
      "Current best objective:  tensor(-0.2587, dtype=torch.float64)\n",
      "BO iteration:  12\n",
      "Current best objective:  tensor(-0.2587, dtype=torch.float64)\n"
     ]
    },
    {
     "name": "stderr",
     "output_type": "stream",
     "text": [
      "/home/zhiliang/.local/lib/python3.10/site-packages/botorch/models/utils/assorted.py:173: InputDataWarning: Input data is not contained to the unit cube. Please consider min-max scaling the input data.\n",
      "  warnings.warn(msg, InputDataWarning)\n",
      "/home/zhiliang/.local/lib/python3.10/site-packages/botorch/models/utils/assorted.py:201: InputDataWarning: Input data is not standardized. Please consider scaling the input to zero mean and unit variance.\n",
      "  warnings.warn(msg, InputDataWarning)\n",
      "/home/zhiliang/.local/lib/python3.10/site-packages/botorch/models/utils/assorted.py:173: InputDataWarning: Input data is not contained to the unit cube. Please consider min-max scaling the input data.\n",
      "  warnings.warn(msg, InputDataWarning)\n",
      "/home/zhiliang/.local/lib/python3.10/site-packages/botorch/models/utils/assorted.py:201: InputDataWarning: Input data is not standardized. Please consider scaling the input to zero mean and unit variance.\n",
      "  warnings.warn(msg, InputDataWarning)\n"
     ]
    },
    {
     "name": "stdout",
     "output_type": "stream",
     "text": [
      "BO iteration:  13\n",
      "Current best objective:  tensor(-0.2587, dtype=torch.float64)\n",
      "BO iteration:  14\n",
      "Current best objective:  tensor(-0.2587, dtype=torch.float64)\n"
     ]
    },
    {
     "name": "stderr",
     "output_type": "stream",
     "text": [
      "/home/zhiliang/.local/lib/python3.10/site-packages/botorch/models/utils/assorted.py:173: InputDataWarning: Input data is not contained to the unit cube. Please consider min-max scaling the input data.\n",
      "  warnings.warn(msg, InputDataWarning)\n",
      "/home/zhiliang/.local/lib/python3.10/site-packages/botorch/models/utils/assorted.py:201: InputDataWarning: Input data is not standardized. Please consider scaling the input to zero mean and unit variance.\n",
      "  warnings.warn(msg, InputDataWarning)\n",
      "/home/zhiliang/.local/lib/python3.10/site-packages/botorch/models/utils/assorted.py:173: InputDataWarning: Input data is not contained to the unit cube. Please consider min-max scaling the input data.\n",
      "  warnings.warn(msg, InputDataWarning)\n",
      "/home/zhiliang/.local/lib/python3.10/site-packages/botorch/models/utils/assorted.py:201: InputDataWarning: Input data is not standardized. Please consider scaling the input to zero mean and unit variance.\n",
      "  warnings.warn(msg, InputDataWarning)\n"
     ]
    },
    {
     "name": "stdout",
     "output_type": "stream",
     "text": [
      "BO iteration:  15\n",
      "Current best objective:  tensor(-0.2587, dtype=torch.float64)\n"
     ]
    },
    {
     "name": "stderr",
     "output_type": "stream",
     "text": [
      "/home/zhiliang/.local/lib/python3.10/site-packages/botorch/models/utils/assorted.py:173: InputDataWarning: Input data is not contained to the unit cube. Please consider min-max scaling the input data.\n",
      "  warnings.warn(msg, InputDataWarning)\n",
      "/home/zhiliang/.local/lib/python3.10/site-packages/botorch/models/utils/assorted.py:201: InputDataWarning: Input data is not standardized. Please consider scaling the input to zero mean and unit variance.\n",
      "  warnings.warn(msg, InputDataWarning)\n"
     ]
    },
    {
     "name": "stdout",
     "output_type": "stream",
     "text": [
      "BO iteration:  16\n",
      "Current best objective:  tensor(-0.2587, dtype=torch.float64)\n"
     ]
    },
    {
     "name": "stderr",
     "output_type": "stream",
     "text": [
      "/home/zhiliang/.local/lib/python3.10/site-packages/botorch/models/utils/assorted.py:173: InputDataWarning: Input data is not contained to the unit cube. Please consider min-max scaling the input data.\n",
      "  warnings.warn(msg, InputDataWarning)\n",
      "/home/zhiliang/.local/lib/python3.10/site-packages/botorch/models/utils/assorted.py:201: InputDataWarning: Input data is not standardized. Please consider scaling the input to zero mean and unit variance.\n",
      "  warnings.warn(msg, InputDataWarning)\n"
     ]
    },
    {
     "name": "stdout",
     "output_type": "stream",
     "text": [
      "BO iteration:  17\n",
      "Current best objective:  tensor(-0.1854, dtype=torch.float64)\n"
     ]
    },
    {
     "name": "stderr",
     "output_type": "stream",
     "text": [
      "/home/zhiliang/.local/lib/python3.10/site-packages/botorch/models/utils/assorted.py:173: InputDataWarning: Input data is not contained to the unit cube. Please consider min-max scaling the input data.\n",
      "  warnings.warn(msg, InputDataWarning)\n",
      "/home/zhiliang/.local/lib/python3.10/site-packages/botorch/models/utils/assorted.py:201: InputDataWarning: Input data is not standardized. Please consider scaling the input to zero mean and unit variance.\n",
      "  warnings.warn(msg, InputDataWarning)\n"
     ]
    },
    {
     "name": "stdout",
     "output_type": "stream",
     "text": [
      "BO iteration:  18\n",
      "Current best objective:  tensor(-0.1854, dtype=torch.float64)\n"
     ]
    },
    {
     "name": "stderr",
     "output_type": "stream",
     "text": [
      "/home/zhiliang/.local/lib/python3.10/site-packages/botorch/models/utils/assorted.py:173: InputDataWarning: Input data is not contained to the unit cube. Please consider min-max scaling the input data.\n",
      "  warnings.warn(msg, InputDataWarning)\n",
      "/home/zhiliang/.local/lib/python3.10/site-packages/botorch/models/utils/assorted.py:201: InputDataWarning: Input data is not standardized. Please consider scaling the input to zero mean and unit variance.\n",
      "  warnings.warn(msg, InputDataWarning)\n"
     ]
    },
    {
     "name": "stdout",
     "output_type": "stream",
     "text": [
      "BO iteration:  19\n",
      "Current best objective:  tensor(-0.1854, dtype=torch.float64)\n"
     ]
    },
    {
     "name": "stderr",
     "output_type": "stream",
     "text": [
      "/home/zhiliang/.local/lib/python3.10/site-packages/botorch/models/utils/assorted.py:173: InputDataWarning: Input data is not contained to the unit cube. Please consider min-max scaling the input data.\n",
      "  warnings.warn(msg, InputDataWarning)\n",
      "/home/zhiliang/.local/lib/python3.10/site-packages/botorch/models/utils/assorted.py:201: InputDataWarning: Input data is not standardized. Please consider scaling the input to zero mean and unit variance.\n",
      "  warnings.warn(msg, InputDataWarning)\n"
     ]
    },
    {
     "name": "stdout",
     "output_type": "stream",
     "text": [
      "BO iteration:  20\n",
      "Current best objective:  tensor(-0.1854, dtype=torch.float64)\n"
     ]
    },
    {
     "name": "stderr",
     "output_type": "stream",
     "text": [
      "/home/zhiliang/.local/lib/python3.10/site-packages/botorch/models/utils/assorted.py:173: InputDataWarning: Input data is not contained to the unit cube. Please consider min-max scaling the input data.\n",
      "  warnings.warn(msg, InputDataWarning)\n",
      "/home/zhiliang/.local/lib/python3.10/site-packages/botorch/models/utils/assorted.py:201: InputDataWarning: Input data is not standardized. Please consider scaling the input to zero mean and unit variance.\n",
      "  warnings.warn(msg, InputDataWarning)\n"
     ]
    },
    {
     "name": "stdout",
     "output_type": "stream",
     "text": [
      "BO iteration:  21\n",
      "Current best objective:  tensor(-0.1854, dtype=torch.float64)\n"
     ]
    },
    {
     "name": "stderr",
     "output_type": "stream",
     "text": [
      "/home/zhiliang/.local/lib/python3.10/site-packages/botorch/models/utils/assorted.py:173: InputDataWarning: Input data is not contained to the unit cube. Please consider min-max scaling the input data.\n",
      "  warnings.warn(msg, InputDataWarning)\n",
      "/home/zhiliang/.local/lib/python3.10/site-packages/botorch/models/utils/assorted.py:201: InputDataWarning: Input data is not standardized. Please consider scaling the input to zero mean and unit variance.\n",
      "  warnings.warn(msg, InputDataWarning)\n"
     ]
    },
    {
     "name": "stdout",
     "output_type": "stream",
     "text": [
      "BO iteration:  22\n",
      "Current best objective:  tensor(-0.1854, dtype=torch.float64)\n"
     ]
    },
    {
     "name": "stderr",
     "output_type": "stream",
     "text": [
      "/home/zhiliang/.local/lib/python3.10/site-packages/botorch/models/utils/assorted.py:173: InputDataWarning: Input data is not contained to the unit cube. Please consider min-max scaling the input data.\n",
      "  warnings.warn(msg, InputDataWarning)\n",
      "/home/zhiliang/.local/lib/python3.10/site-packages/botorch/models/utils/assorted.py:201: InputDataWarning: Input data is not standardized. Please consider scaling the input to zero mean and unit variance.\n",
      "  warnings.warn(msg, InputDataWarning)\n"
     ]
    },
    {
     "name": "stdout",
     "output_type": "stream",
     "text": [
      "BO iteration:  23\n",
      "Current best objective:  tensor(-0.1854, dtype=torch.float64)\n"
     ]
    },
    {
     "name": "stderr",
     "output_type": "stream",
     "text": [
      "/home/zhiliang/.local/lib/python3.10/site-packages/botorch/models/utils/assorted.py:173: InputDataWarning: Input data is not contained to the unit cube. Please consider min-max scaling the input data.\n",
      "  warnings.warn(msg, InputDataWarning)\n",
      "/home/zhiliang/.local/lib/python3.10/site-packages/botorch/models/utils/assorted.py:201: InputDataWarning: Input data is not standardized. Please consider scaling the input to zero mean and unit variance.\n",
      "  warnings.warn(msg, InputDataWarning)\n"
     ]
    },
    {
     "name": "stdout",
     "output_type": "stream",
     "text": [
      "BO iteration:  24\n",
      "Current best objective:  tensor(-0.1854, dtype=torch.float64)\n"
     ]
    },
    {
     "name": "stderr",
     "output_type": "stream",
     "text": [
      "/home/zhiliang/.local/lib/python3.10/site-packages/botorch/models/utils/assorted.py:173: InputDataWarning: Input data is not contained to the unit cube. Please consider min-max scaling the input data.\n",
      "  warnings.warn(msg, InputDataWarning)\n",
      "/home/zhiliang/.local/lib/python3.10/site-packages/botorch/models/utils/assorted.py:201: InputDataWarning: Input data is not standardized. Please consider scaling the input to zero mean and unit variance.\n",
      "  warnings.warn(msg, InputDataWarning)\n"
     ]
    },
    {
     "name": "stdout",
     "output_type": "stream",
     "text": [
      "BO iteration:  25\n",
      "Current best objective:  tensor(-0.1854, dtype=torch.float64)\n"
     ]
    },
    {
     "name": "stderr",
     "output_type": "stream",
     "text": [
      "/home/zhiliang/.local/lib/python3.10/site-packages/botorch/models/utils/assorted.py:173: InputDataWarning: Input data is not contained to the unit cube. Please consider min-max scaling the input data.\n",
      "  warnings.warn(msg, InputDataWarning)\n",
      "/home/zhiliang/.local/lib/python3.10/site-packages/botorch/models/utils/assorted.py:201: InputDataWarning: Input data is not standardized. Please consider scaling the input to zero mean and unit variance.\n",
      "  warnings.warn(msg, InputDataWarning)\n"
     ]
    },
    {
     "name": "stdout",
     "output_type": "stream",
     "text": [
      "BO iteration:  26\n",
      "Current best objective:  tensor(-0.1854, dtype=torch.float64)\n"
     ]
    },
    {
     "name": "stderr",
     "output_type": "stream",
     "text": [
      "/home/zhiliang/.local/lib/python3.10/site-packages/botorch/models/utils/assorted.py:173: InputDataWarning: Input data is not contained to the unit cube. Please consider min-max scaling the input data.\n",
      "  warnings.warn(msg, InputDataWarning)\n",
      "/home/zhiliang/.local/lib/python3.10/site-packages/botorch/models/utils/assorted.py:201: InputDataWarning: Input data is not standardized. Please consider scaling the input to zero mean and unit variance.\n",
      "  warnings.warn(msg, InputDataWarning)\n"
     ]
    },
    {
     "name": "stdout",
     "output_type": "stream",
     "text": [
      "BO iteration:  27\n",
      "Current best objective:  tensor(-0.1755, dtype=torch.float64)\n"
     ]
    },
    {
     "name": "stderr",
     "output_type": "stream",
     "text": [
      "/home/zhiliang/.local/lib/python3.10/site-packages/botorch/models/utils/assorted.py:173: InputDataWarning: Input data is not contained to the unit cube. Please consider min-max scaling the input data.\n",
      "  warnings.warn(msg, InputDataWarning)\n",
      "/home/zhiliang/.local/lib/python3.10/site-packages/botorch/models/utils/assorted.py:201: InputDataWarning: Input data is not standardized. Please consider scaling the input to zero mean and unit variance.\n",
      "  warnings.warn(msg, InputDataWarning)\n"
     ]
    },
    {
     "name": "stdout",
     "output_type": "stream",
     "text": [
      "BO iteration:  28\n",
      "Current best objective:  tensor(-0.1755, dtype=torch.float64)\n"
     ]
    },
    {
     "name": "stderr",
     "output_type": "stream",
     "text": [
      "/home/zhiliang/.local/lib/python3.10/site-packages/botorch/models/utils/assorted.py:173: InputDataWarning: Input data is not contained to the unit cube. Please consider min-max scaling the input data.\n",
      "  warnings.warn(msg, InputDataWarning)\n",
      "/home/zhiliang/.local/lib/python3.10/site-packages/botorch/models/utils/assorted.py:201: InputDataWarning: Input data is not standardized. Please consider scaling the input to zero mean and unit variance.\n",
      "  warnings.warn(msg, InputDataWarning)\n"
     ]
    },
    {
     "name": "stdout",
     "output_type": "stream",
     "text": [
      "BO iteration:  29\n",
      "Current best objective:  tensor(-0.1593, dtype=torch.float64)\n"
     ]
    },
    {
     "name": "stderr",
     "output_type": "stream",
     "text": [
      "/home/zhiliang/.local/lib/python3.10/site-packages/botorch/models/utils/assorted.py:173: InputDataWarning: Input data is not contained to the unit cube. Please consider min-max scaling the input data.\n",
      "  warnings.warn(msg, InputDataWarning)\n",
      "/home/zhiliang/.local/lib/python3.10/site-packages/botorch/models/utils/assorted.py:201: InputDataWarning: Input data is not standardized. Please consider scaling the input to zero mean and unit variance.\n",
      "  warnings.warn(msg, InputDataWarning)\n"
     ]
    },
    {
     "name": "stdout",
     "output_type": "stream",
     "text": [
      "BO iteration:  30\n",
      "Current best objective:  tensor(-0.1593, dtype=torch.float64)\n"
     ]
    },
    {
     "name": "stderr",
     "output_type": "stream",
     "text": [
      "/home/zhiliang/.local/lib/python3.10/site-packages/botorch/models/utils/assorted.py:173: InputDataWarning: Input data is not contained to the unit cube. Please consider min-max scaling the input data.\n",
      "  warnings.warn(msg, InputDataWarning)\n",
      "/home/zhiliang/.local/lib/python3.10/site-packages/botorch/models/utils/assorted.py:201: InputDataWarning: Input data is not standardized. Please consider scaling the input to zero mean and unit variance.\n",
      "  warnings.warn(msg, InputDataWarning)\n"
     ]
    },
    {
     "name": "stdout",
     "output_type": "stream",
     "text": [
      "BO iteration:  31\n",
      "Current best objective:  tensor(-0.1593, dtype=torch.float64)\n"
     ]
    },
    {
     "name": "stderr",
     "output_type": "stream",
     "text": [
      "/home/zhiliang/.local/lib/python3.10/site-packages/botorch/models/utils/assorted.py:173: InputDataWarning: Input data is not contained to the unit cube. Please consider min-max scaling the input data.\n",
      "  warnings.warn(msg, InputDataWarning)\n",
      "/home/zhiliang/.local/lib/python3.10/site-packages/botorch/models/utils/assorted.py:201: InputDataWarning: Input data is not standardized. Please consider scaling the input to zero mean and unit variance.\n",
      "  warnings.warn(msg, InputDataWarning)\n"
     ]
    },
    {
     "name": "stdout",
     "output_type": "stream",
     "text": [
      "BO iteration:  32\n",
      "Current best objective:  tensor(-0.1593, dtype=torch.float64)\n"
     ]
    },
    {
     "name": "stderr",
     "output_type": "stream",
     "text": [
      "/home/zhiliang/.local/lib/python3.10/site-packages/botorch/models/utils/assorted.py:173: InputDataWarning: Input data is not contained to the unit cube. Please consider min-max scaling the input data.\n",
      "  warnings.warn(msg, InputDataWarning)\n",
      "/home/zhiliang/.local/lib/python3.10/site-packages/botorch/models/utils/assorted.py:201: InputDataWarning: Input data is not standardized. Please consider scaling the input to zero mean and unit variance.\n",
      "  warnings.warn(msg, InputDataWarning)\n"
     ]
    },
    {
     "name": "stdout",
     "output_type": "stream",
     "text": [
      "BO iteration:  33\n",
      "Current best objective:  tensor(-0.1438, dtype=torch.float64)\n"
     ]
    },
    {
     "name": "stderr",
     "output_type": "stream",
     "text": [
      "/home/zhiliang/.local/lib/python3.10/site-packages/botorch/models/utils/assorted.py:173: InputDataWarning: Input data is not contained to the unit cube. Please consider min-max scaling the input data.\n",
      "  warnings.warn(msg, InputDataWarning)\n",
      "/home/zhiliang/.local/lib/python3.10/site-packages/botorch/models/utils/assorted.py:201: InputDataWarning: Input data is not standardized. Please consider scaling the input to zero mean and unit variance.\n",
      "  warnings.warn(msg, InputDataWarning)\n"
     ]
    },
    {
     "name": "stdout",
     "output_type": "stream",
     "text": [
      "BO iteration:  34\n",
      "Current best objective:  tensor(-0.1438, dtype=torch.float64)\n"
     ]
    },
    {
     "name": "stderr",
     "output_type": "stream",
     "text": [
      "/home/zhiliang/.local/lib/python3.10/site-packages/botorch/models/utils/assorted.py:173: InputDataWarning: Input data is not contained to the unit cube. Please consider min-max scaling the input data.\n",
      "  warnings.warn(msg, InputDataWarning)\n",
      "/home/zhiliang/.local/lib/python3.10/site-packages/botorch/models/utils/assorted.py:201: InputDataWarning: Input data is not standardized. Please consider scaling the input to zero mean and unit variance.\n",
      "  warnings.warn(msg, InputDataWarning)\n"
     ]
    },
    {
     "name": "stdout",
     "output_type": "stream",
     "text": [
      "BO iteration:  35\n",
      "Current best objective:  tensor(-0.1438, dtype=torch.float64)\n"
     ]
    },
    {
     "name": "stderr",
     "output_type": "stream",
     "text": [
      "/home/zhiliang/.local/lib/python3.10/site-packages/botorch/models/utils/assorted.py:173: InputDataWarning: Input data is not contained to the unit cube. Please consider min-max scaling the input data.\n",
      "  warnings.warn(msg, InputDataWarning)\n",
      "/home/zhiliang/.local/lib/python3.10/site-packages/botorch/models/utils/assorted.py:201: InputDataWarning: Input data is not standardized. Please consider scaling the input to zero mean and unit variance.\n",
      "  warnings.warn(msg, InputDataWarning)\n"
     ]
    },
    {
     "name": "stdout",
     "output_type": "stream",
     "text": [
      "BO iteration:  36\n",
      "Current best objective:  tensor(-0.1320, dtype=torch.float64)\n"
     ]
    },
    {
     "name": "stderr",
     "output_type": "stream",
     "text": [
      "/home/zhiliang/.local/lib/python3.10/site-packages/botorch/models/utils/assorted.py:173: InputDataWarning: Input data is not contained to the unit cube. Please consider min-max scaling the input data.\n",
      "  warnings.warn(msg, InputDataWarning)\n",
      "/home/zhiliang/.local/lib/python3.10/site-packages/botorch/models/utils/assorted.py:201: InputDataWarning: Input data is not standardized. Please consider scaling the input to zero mean and unit variance.\n",
      "  warnings.warn(msg, InputDataWarning)\n"
     ]
    },
    {
     "name": "stdout",
     "output_type": "stream",
     "text": [
      "BO iteration:  37\n",
      "Current best objective:  tensor(-0.1320, dtype=torch.float64)\n"
     ]
    },
    {
     "name": "stderr",
     "output_type": "stream",
     "text": [
      "/home/zhiliang/.local/lib/python3.10/site-packages/botorch/models/utils/assorted.py:173: InputDataWarning: Input data is not contained to the unit cube. Please consider min-max scaling the input data.\n",
      "  warnings.warn(msg, InputDataWarning)\n",
      "/home/zhiliang/.local/lib/python3.10/site-packages/botorch/models/utils/assorted.py:201: InputDataWarning: Input data is not standardized. Please consider scaling the input to zero mean and unit variance.\n",
      "  warnings.warn(msg, InputDataWarning)\n"
     ]
    },
    {
     "name": "stdout",
     "output_type": "stream",
     "text": [
      "BO iteration:  38\n",
      "Current best objective:  tensor(-0.1320, dtype=torch.float64)\n"
     ]
    },
    {
     "name": "stderr",
     "output_type": "stream",
     "text": [
      "/home/zhiliang/.local/lib/python3.10/site-packages/botorch/models/utils/assorted.py:173: InputDataWarning: Input data is not contained to the unit cube. Please consider min-max scaling the input data.\n",
      "  warnings.warn(msg, InputDataWarning)\n",
      "/home/zhiliang/.local/lib/python3.10/site-packages/botorch/models/utils/assorted.py:201: InputDataWarning: Input data is not standardized. Please consider scaling the input to zero mean and unit variance.\n",
      "  warnings.warn(msg, InputDataWarning)\n"
     ]
    },
    {
     "name": "stdout",
     "output_type": "stream",
     "text": [
      "BO iteration:  39\n",
      "Current best objective:  tensor(-0.1320, dtype=torch.float64)\n"
     ]
    },
    {
     "name": "stderr",
     "output_type": "stream",
     "text": [
      "/home/zhiliang/.local/lib/python3.10/site-packages/botorch/models/utils/assorted.py:173: InputDataWarning: Input data is not contained to the unit cube. Please consider min-max scaling the input data.\n",
      "  warnings.warn(msg, InputDataWarning)\n",
      "/home/zhiliang/.local/lib/python3.10/site-packages/botorch/models/utils/assorted.py:201: InputDataWarning: Input data is not standardized. Please consider scaling the input to zero mean and unit variance.\n",
      "  warnings.warn(msg, InputDataWarning)\n"
     ]
    },
    {
     "name": "stdout",
     "output_type": "stream",
     "text": [
      "BO iteration:  40\n",
      "Current best objective:  tensor(-0.1320, dtype=torch.float64)\n"
     ]
    },
    {
     "name": "stderr",
     "output_type": "stream",
     "text": [
      "/home/zhiliang/.local/lib/python3.10/site-packages/botorch/models/utils/assorted.py:173: InputDataWarning: Input data is not contained to the unit cube. Please consider min-max scaling the input data.\n",
      "  warnings.warn(msg, InputDataWarning)\n",
      "/home/zhiliang/.local/lib/python3.10/site-packages/botorch/models/utils/assorted.py:201: InputDataWarning: Input data is not standardized. Please consider scaling the input to zero mean and unit variance.\n",
      "  warnings.warn(msg, InputDataWarning)\n"
     ]
    },
    {
     "name": "stdout",
     "output_type": "stream",
     "text": [
      "BO iteration:  41\n",
      "Current best objective:  tensor(-0.1320, dtype=torch.float64)\n"
     ]
    },
    {
     "name": "stderr",
     "output_type": "stream",
     "text": [
      "/home/zhiliang/.local/lib/python3.10/site-packages/botorch/models/utils/assorted.py:173: InputDataWarning: Input data is not contained to the unit cube. Please consider min-max scaling the input data.\n",
      "  warnings.warn(msg, InputDataWarning)\n",
      "/home/zhiliang/.local/lib/python3.10/site-packages/botorch/models/utils/assorted.py:201: InputDataWarning: Input data is not standardized. Please consider scaling the input to zero mean and unit variance.\n",
      "  warnings.warn(msg, InputDataWarning)\n"
     ]
    },
    {
     "name": "stdout",
     "output_type": "stream",
     "text": [
      "BO iteration:  42\n",
      "Current best objective:  tensor(-0.1320, dtype=torch.float64)\n"
     ]
    },
    {
     "name": "stderr",
     "output_type": "stream",
     "text": [
      "/home/zhiliang/.local/lib/python3.10/site-packages/botorch/models/utils/assorted.py:173: InputDataWarning: Input data is not contained to the unit cube. Please consider min-max scaling the input data.\n",
      "  warnings.warn(msg, InputDataWarning)\n",
      "/home/zhiliang/.local/lib/python3.10/site-packages/botorch/models/utils/assorted.py:201: InputDataWarning: Input data is not standardized. Please consider scaling the input to zero mean and unit variance.\n",
      "  warnings.warn(msg, InputDataWarning)\n"
     ]
    },
    {
     "name": "stdout",
     "output_type": "stream",
     "text": [
      "BO iteration:  43\n",
      "Current best objective:  tensor(-0.1320, dtype=torch.float64)\n"
     ]
    },
    {
     "name": "stderr",
     "output_type": "stream",
     "text": [
      "/home/zhiliang/.local/lib/python3.10/site-packages/botorch/models/utils/assorted.py:173: InputDataWarning: Input data is not contained to the unit cube. Please consider min-max scaling the input data.\n",
      "  warnings.warn(msg, InputDataWarning)\n",
      "/home/zhiliang/.local/lib/python3.10/site-packages/botorch/models/utils/assorted.py:201: InputDataWarning: Input data is not standardized. Please consider scaling the input to zero mean and unit variance.\n",
      "  warnings.warn(msg, InputDataWarning)\n"
     ]
    },
    {
     "name": "stdout",
     "output_type": "stream",
     "text": [
      "BO iteration:  44\n",
      "Current best objective:  tensor(-0.1320, dtype=torch.float64)\n"
     ]
    },
    {
     "name": "stderr",
     "output_type": "stream",
     "text": [
      "/home/zhiliang/.local/lib/python3.10/site-packages/botorch/models/utils/assorted.py:173: InputDataWarning: Input data is not contained to the unit cube. Please consider min-max scaling the input data.\n",
      "  warnings.warn(msg, InputDataWarning)\n",
      "/home/zhiliang/.local/lib/python3.10/site-packages/botorch/models/utils/assorted.py:201: InputDataWarning: Input data is not standardized. Please consider scaling the input to zero mean and unit variance.\n",
      "  warnings.warn(msg, InputDataWarning)\n"
     ]
    },
    {
     "name": "stdout",
     "output_type": "stream",
     "text": [
      "BO iteration:  45\n",
      "Current best objective:  tensor(-0.1320, dtype=torch.float64)\n"
     ]
    },
    {
     "name": "stderr",
     "output_type": "stream",
     "text": [
      "/home/zhiliang/.local/lib/python3.10/site-packages/botorch/models/utils/assorted.py:173: InputDataWarning: Input data is not contained to the unit cube. Please consider min-max scaling the input data.\n",
      "  warnings.warn(msg, InputDataWarning)\n",
      "/home/zhiliang/.local/lib/python3.10/site-packages/botorch/models/utils/assorted.py:201: InputDataWarning: Input data is not standardized. Please consider scaling the input to zero mean and unit variance.\n",
      "  warnings.warn(msg, InputDataWarning)\n"
     ]
    },
    {
     "name": "stdout",
     "output_type": "stream",
     "text": [
      "BO iteration:  46\n",
      "Current best objective:  tensor(-0.1320, dtype=torch.float64)\n"
     ]
    },
    {
     "name": "stderr",
     "output_type": "stream",
     "text": [
      "/home/zhiliang/.local/lib/python3.10/site-packages/botorch/models/utils/assorted.py:173: InputDataWarning: Input data is not contained to the unit cube. Please consider min-max scaling the input data.\n",
      "  warnings.warn(msg, InputDataWarning)\n",
      "/home/zhiliang/.local/lib/python3.10/site-packages/botorch/models/utils/assorted.py:201: InputDataWarning: Input data is not standardized. Please consider scaling the input to zero mean and unit variance.\n",
      "  warnings.warn(msg, InputDataWarning)\n"
     ]
    },
    {
     "name": "stdout",
     "output_type": "stream",
     "text": [
      "BO iteration:  47\n",
      "Current best objective:  tensor(-0.1320, dtype=torch.float64)\n"
     ]
    },
    {
     "name": "stderr",
     "output_type": "stream",
     "text": [
      "/home/zhiliang/.local/lib/python3.10/site-packages/botorch/models/utils/assorted.py:173: InputDataWarning: Input data is not contained to the unit cube. Please consider min-max scaling the input data.\n",
      "  warnings.warn(msg, InputDataWarning)\n",
      "/home/zhiliang/.local/lib/python3.10/site-packages/botorch/models/utils/assorted.py:201: InputDataWarning: Input data is not standardized. Please consider scaling the input to zero mean and unit variance.\n",
      "  warnings.warn(msg, InputDataWarning)\n"
     ]
    },
    {
     "name": "stdout",
     "output_type": "stream",
     "text": [
      "BO iteration:  48\n",
      "Current best objective:  tensor(-0.1320, dtype=torch.float64)\n"
     ]
    },
    {
     "name": "stderr",
     "output_type": "stream",
     "text": [
      "/home/zhiliang/.local/lib/python3.10/site-packages/botorch/models/utils/assorted.py:173: InputDataWarning: Input data is not contained to the unit cube. Please consider min-max scaling the input data.\n",
      "  warnings.warn(msg, InputDataWarning)\n",
      "/home/zhiliang/.local/lib/python3.10/site-packages/botorch/models/utils/assorted.py:201: InputDataWarning: Input data is not standardized. Please consider scaling the input to zero mean and unit variance.\n",
      "  warnings.warn(msg, InputDataWarning)\n"
     ]
    },
    {
     "name": "stdout",
     "output_type": "stream",
     "text": [
      "BO iteration:  49\n",
      "Current best objective:  tensor(-0.1302, dtype=torch.float64)\n"
     ]
    },
    {
     "name": "stderr",
     "output_type": "stream",
     "text": [
      "/home/zhiliang/.local/lib/python3.10/site-packages/botorch/models/utils/assorted.py:173: InputDataWarning: Input data is not contained to the unit cube. Please consider min-max scaling the input data.\n",
      "  warnings.warn(msg, InputDataWarning)\n",
      "/home/zhiliang/.local/lib/python3.10/site-packages/botorch/models/utils/assorted.py:201: InputDataWarning: Input data is not standardized. Please consider scaling the input to zero mean and unit variance.\n",
      "  warnings.warn(msg, InputDataWarning)\n"
     ]
    },
    {
     "name": "stdout",
     "output_type": "stream",
     "text": [
      "BO iteration:  50\n",
      "Current best objective:  tensor(-0.1302, dtype=torch.float64)\n"
     ]
    },
    {
     "name": "stderr",
     "output_type": "stream",
     "text": [
      "/home/zhiliang/.local/lib/python3.10/site-packages/botorch/models/utils/assorted.py:173: InputDataWarning: Input data is not contained to the unit cube. Please consider min-max scaling the input data.\n",
      "  warnings.warn(msg, InputDataWarning)\n",
      "/home/zhiliang/.local/lib/python3.10/site-packages/botorch/models/utils/assorted.py:201: InputDataWarning: Input data is not standardized. Please consider scaling the input to zero mean and unit variance.\n",
      "  warnings.warn(msg, InputDataWarning)\n"
     ]
    },
    {
     "name": "stdout",
     "output_type": "stream",
     "text": [
      "BO iteration:  51\n",
      "Current best objective:  tensor(-0.1302, dtype=torch.float64)\n"
     ]
    },
    {
     "name": "stderr",
     "output_type": "stream",
     "text": [
      "/home/zhiliang/.local/lib/python3.10/site-packages/botorch/models/utils/assorted.py:173: InputDataWarning: Input data is not contained to the unit cube. Please consider min-max scaling the input data.\n",
      "  warnings.warn(msg, InputDataWarning)\n",
      "/home/zhiliang/.local/lib/python3.10/site-packages/botorch/models/utils/assorted.py:201: InputDataWarning: Input data is not standardized. Please consider scaling the input to zero mean and unit variance.\n",
      "  warnings.warn(msg, InputDataWarning)\n"
     ]
    },
    {
     "name": "stdout",
     "output_type": "stream",
     "text": [
      "BO iteration:  52\n",
      "Current best objective:  tensor(-0.1302, dtype=torch.float64)\n"
     ]
    },
    {
     "name": "stderr",
     "output_type": "stream",
     "text": [
      "/home/zhiliang/.local/lib/python3.10/site-packages/botorch/models/utils/assorted.py:173: InputDataWarning: Input data is not contained to the unit cube. Please consider min-max scaling the input data.\n",
      "  warnings.warn(msg, InputDataWarning)\n",
      "/home/zhiliang/.local/lib/python3.10/site-packages/botorch/models/utils/assorted.py:201: InputDataWarning: Input data is not standardized. Please consider scaling the input to zero mean and unit variance.\n",
      "  warnings.warn(msg, InputDataWarning)\n"
     ]
    },
    {
     "name": "stdout",
     "output_type": "stream",
     "text": [
      "BO iteration:  53\n",
      "Current best objective:  tensor(-0.1302, dtype=torch.float64)\n"
     ]
    },
    {
     "name": "stderr",
     "output_type": "stream",
     "text": [
      "/home/zhiliang/.local/lib/python3.10/site-packages/botorch/models/utils/assorted.py:173: InputDataWarning: Input data is not contained to the unit cube. Please consider min-max scaling the input data.\n",
      "  warnings.warn(msg, InputDataWarning)\n",
      "/home/zhiliang/.local/lib/python3.10/site-packages/botorch/models/utils/assorted.py:201: InputDataWarning: Input data is not standardized. Please consider scaling the input to zero mean and unit variance.\n",
      "  warnings.warn(msg, InputDataWarning)\n"
     ]
    },
    {
     "name": "stdout",
     "output_type": "stream",
     "text": [
      "BO iteration:  54\n",
      "Current best objective:  tensor(-0.1302, dtype=torch.float64)\n"
     ]
    },
    {
     "name": "stderr",
     "output_type": "stream",
     "text": [
      "/home/zhiliang/.local/lib/python3.10/site-packages/botorch/models/utils/assorted.py:173: InputDataWarning: Input data is not contained to the unit cube. Please consider min-max scaling the input data.\n",
      "  warnings.warn(msg, InputDataWarning)\n",
      "/home/zhiliang/.local/lib/python3.10/site-packages/botorch/models/utils/assorted.py:201: InputDataWarning: Input data is not standardized. Please consider scaling the input to zero mean and unit variance.\n",
      "  warnings.warn(msg, InputDataWarning)\n"
     ]
    },
    {
     "name": "stdout",
     "output_type": "stream",
     "text": [
      "BO iteration:  55\n",
      "Current best objective:  tensor(-0.1302, dtype=torch.float64)\n"
     ]
    },
    {
     "name": "stderr",
     "output_type": "stream",
     "text": [
      "/home/zhiliang/.local/lib/python3.10/site-packages/botorch/models/utils/assorted.py:173: InputDataWarning: Input data is not contained to the unit cube. Please consider min-max scaling the input data.\n",
      "  warnings.warn(msg, InputDataWarning)\n",
      "/home/zhiliang/.local/lib/python3.10/site-packages/botorch/models/utils/assorted.py:201: InputDataWarning: Input data is not standardized. Please consider scaling the input to zero mean and unit variance.\n",
      "  warnings.warn(msg, InputDataWarning)\n"
     ]
    },
    {
     "name": "stdout",
     "output_type": "stream",
     "text": [
      "BO iteration:  56\n",
      "Current best objective:  tensor(-0.1302, dtype=torch.float64)\n"
     ]
    },
    {
     "name": "stderr",
     "output_type": "stream",
     "text": [
      "/home/zhiliang/.local/lib/python3.10/site-packages/botorch/models/utils/assorted.py:173: InputDataWarning: Input data is not contained to the unit cube. Please consider min-max scaling the input data.\n",
      "  warnings.warn(msg, InputDataWarning)\n",
      "/home/zhiliang/.local/lib/python3.10/site-packages/botorch/models/utils/assorted.py:201: InputDataWarning: Input data is not standardized. Please consider scaling the input to zero mean and unit variance.\n",
      "  warnings.warn(msg, InputDataWarning)\n"
     ]
    },
    {
     "name": "stdout",
     "output_type": "stream",
     "text": [
      "BO iteration:  57\n",
      "Current best objective:  tensor(-0.1302, dtype=torch.float64)\n"
     ]
    },
    {
     "name": "stderr",
     "output_type": "stream",
     "text": [
      "/home/zhiliang/.local/lib/python3.10/site-packages/botorch/models/utils/assorted.py:173: InputDataWarning: Input data is not contained to the unit cube. Please consider min-max scaling the input data.\n",
      "  warnings.warn(msg, InputDataWarning)\n",
      "/home/zhiliang/.local/lib/python3.10/site-packages/botorch/models/utils/assorted.py:201: InputDataWarning: Input data is not standardized. Please consider scaling the input to zero mean and unit variance.\n",
      "  warnings.warn(msg, InputDataWarning)\n"
     ]
    },
    {
     "name": "stdout",
     "output_type": "stream",
     "text": [
      "BO iteration:  58\n",
      "Current best objective:  tensor(-0.1302, dtype=torch.float64)\n"
     ]
    },
    {
     "name": "stderr",
     "output_type": "stream",
     "text": [
      "/home/zhiliang/.local/lib/python3.10/site-packages/botorch/models/utils/assorted.py:173: InputDataWarning: Input data is not contained to the unit cube. Please consider min-max scaling the input data.\n",
      "  warnings.warn(msg, InputDataWarning)\n",
      "/home/zhiliang/.local/lib/python3.10/site-packages/botorch/models/utils/assorted.py:201: InputDataWarning: Input data is not standardized. Please consider scaling the input to zero mean and unit variance.\n",
      "  warnings.warn(msg, InputDataWarning)\n"
     ]
    },
    {
     "name": "stdout",
     "output_type": "stream",
     "text": [
      "BO iteration:  59\n",
      "Current best objective:  tensor(-0.1302, dtype=torch.float64)\n"
     ]
    },
    {
     "name": "stderr",
     "output_type": "stream",
     "text": [
      "/home/zhiliang/.local/lib/python3.10/site-packages/botorch/models/utils/assorted.py:173: InputDataWarning: Input data is not contained to the unit cube. Please consider min-max scaling the input data.\n",
      "  warnings.warn(msg, InputDataWarning)\n",
      "/home/zhiliang/.local/lib/python3.10/site-packages/botorch/models/utils/assorted.py:201: InputDataWarning: Input data is not standardized. Please consider scaling the input to zero mean and unit variance.\n",
      "  warnings.warn(msg, InputDataWarning)\n"
     ]
    },
    {
     "name": "stdout",
     "output_type": "stream",
     "text": [
      "BO iteration:  60\n",
      "Current best objective:  tensor(-0.1302, dtype=torch.float64)\n"
     ]
    },
    {
     "name": "stderr",
     "output_type": "stream",
     "text": [
      "/home/zhiliang/.local/lib/python3.10/site-packages/botorch/models/utils/assorted.py:173: InputDataWarning: Input data is not contained to the unit cube. Please consider min-max scaling the input data.\n",
      "  warnings.warn(msg, InputDataWarning)\n",
      "/home/zhiliang/.local/lib/python3.10/site-packages/botorch/models/utils/assorted.py:201: InputDataWarning: Input data is not standardized. Please consider scaling the input to zero mean and unit variance.\n",
      "  warnings.warn(msg, InputDataWarning)\n"
     ]
    },
    {
     "name": "stdout",
     "output_type": "stream",
     "text": [
      "BO iteration:  61\n",
      "Current best objective:  tensor(-0.1302, dtype=torch.float64)\n"
     ]
    },
    {
     "name": "stderr",
     "output_type": "stream",
     "text": [
      "/home/zhiliang/.local/lib/python3.10/site-packages/botorch/models/utils/assorted.py:173: InputDataWarning: Input data is not contained to the unit cube. Please consider min-max scaling the input data.\n",
      "  warnings.warn(msg, InputDataWarning)\n",
      "/home/zhiliang/.local/lib/python3.10/site-packages/botorch/models/utils/assorted.py:201: InputDataWarning: Input data is not standardized. Please consider scaling the input to zero mean and unit variance.\n",
      "  warnings.warn(msg, InputDataWarning)\n"
     ]
    },
    {
     "name": "stdout",
     "output_type": "stream",
     "text": [
      "BO iteration:  62\n",
      "Current best objective:  tensor(-0.1302, dtype=torch.float64)\n"
     ]
    },
    {
     "name": "stderr",
     "output_type": "stream",
     "text": [
      "/home/zhiliang/.local/lib/python3.10/site-packages/botorch/models/utils/assorted.py:173: InputDataWarning: Input data is not contained to the unit cube. Please consider min-max scaling the input data.\n",
      "  warnings.warn(msg, InputDataWarning)\n",
      "/home/zhiliang/.local/lib/python3.10/site-packages/botorch/models/utils/assorted.py:201: InputDataWarning: Input data is not standardized. Please consider scaling the input to zero mean and unit variance.\n",
      "  warnings.warn(msg, InputDataWarning)\n"
     ]
    },
    {
     "name": "stdout",
     "output_type": "stream",
     "text": [
      "BO iteration:  63\n",
      "Current best objective:  tensor(-0.1302, dtype=torch.float64)\n"
     ]
    },
    {
     "name": "stderr",
     "output_type": "stream",
     "text": [
      "/home/zhiliang/.local/lib/python3.10/site-packages/botorch/models/utils/assorted.py:173: InputDataWarning: Input data is not contained to the unit cube. Please consider min-max scaling the input data.\n",
      "  warnings.warn(msg, InputDataWarning)\n",
      "/home/zhiliang/.local/lib/python3.10/site-packages/botorch/models/utils/assorted.py:201: InputDataWarning: Input data is not standardized. Please consider scaling the input to zero mean and unit variance.\n",
      "  warnings.warn(msg, InputDataWarning)\n"
     ]
    },
    {
     "name": "stdout",
     "output_type": "stream",
     "text": [
      "BO iteration:  64\n",
      "Current best objective:  tensor(-0.1302, dtype=torch.float64)\n"
     ]
    },
    {
     "name": "stderr",
     "output_type": "stream",
     "text": [
      "/home/zhiliang/.local/lib/python3.10/site-packages/botorch/models/utils/assorted.py:173: InputDataWarning: Input data is not contained to the unit cube. Please consider min-max scaling the input data.\n",
      "  warnings.warn(msg, InputDataWarning)\n",
      "/home/zhiliang/.local/lib/python3.10/site-packages/botorch/models/utils/assorted.py:201: InputDataWarning: Input data is not standardized. Please consider scaling the input to zero mean and unit variance.\n",
      "  warnings.warn(msg, InputDataWarning)\n"
     ]
    },
    {
     "name": "stdout",
     "output_type": "stream",
     "text": [
      "BO iteration:  65\n",
      "Current best objective:  tensor(-0.1302, dtype=torch.float64)\n"
     ]
    },
    {
     "name": "stderr",
     "output_type": "stream",
     "text": [
      "/home/zhiliang/.local/lib/python3.10/site-packages/botorch/models/utils/assorted.py:173: InputDataWarning: Input data is not contained to the unit cube. Please consider min-max scaling the input data.\n",
      "  warnings.warn(msg, InputDataWarning)\n",
      "/home/zhiliang/.local/lib/python3.10/site-packages/botorch/models/utils/assorted.py:201: InputDataWarning: Input data is not standardized. Please consider scaling the input to zero mean and unit variance.\n",
      "  warnings.warn(msg, InputDataWarning)\n"
     ]
    },
    {
     "name": "stdout",
     "output_type": "stream",
     "text": [
      "BO iteration:  66\n",
      "Current best objective:  tensor(-0.1302, dtype=torch.float64)\n"
     ]
    },
    {
     "name": "stderr",
     "output_type": "stream",
     "text": [
      "/home/zhiliang/.local/lib/python3.10/site-packages/botorch/models/utils/assorted.py:173: InputDataWarning: Input data is not contained to the unit cube. Please consider min-max scaling the input data.\n",
      "  warnings.warn(msg, InputDataWarning)\n",
      "/home/zhiliang/.local/lib/python3.10/site-packages/botorch/models/utils/assorted.py:201: InputDataWarning: Input data is not standardized. Please consider scaling the input to zero mean and unit variance.\n",
      "  warnings.warn(msg, InputDataWarning)\n"
     ]
    },
    {
     "name": "stdout",
     "output_type": "stream",
     "text": [
      "BO iteration:  67\n",
      "Current best objective:  tensor(-0.1302, dtype=torch.float64)\n"
     ]
    },
    {
     "name": "stderr",
     "output_type": "stream",
     "text": [
      "/home/zhiliang/.local/lib/python3.10/site-packages/botorch/models/utils/assorted.py:173: InputDataWarning: Input data is not contained to the unit cube. Please consider min-max scaling the input data.\n",
      "  warnings.warn(msg, InputDataWarning)\n",
      "/home/zhiliang/.local/lib/python3.10/site-packages/botorch/models/utils/assorted.py:201: InputDataWarning: Input data is not standardized. Please consider scaling the input to zero mean and unit variance.\n",
      "  warnings.warn(msg, InputDataWarning)\n"
     ]
    },
    {
     "name": "stdout",
     "output_type": "stream",
     "text": [
      "BO iteration:  68\n",
      "Current best objective:  tensor(-0.1302, dtype=torch.float64)\n"
     ]
    },
    {
     "name": "stderr",
     "output_type": "stream",
     "text": [
      "/home/zhiliang/.local/lib/python3.10/site-packages/botorch/models/utils/assorted.py:173: InputDataWarning: Input data is not contained to the unit cube. Please consider min-max scaling the input data.\n",
      "  warnings.warn(msg, InputDataWarning)\n",
      "/home/zhiliang/.local/lib/python3.10/site-packages/botorch/models/utils/assorted.py:201: InputDataWarning: Input data is not standardized. Please consider scaling the input to zero mean and unit variance.\n",
      "  warnings.warn(msg, InputDataWarning)\n"
     ]
    },
    {
     "name": "stdout",
     "output_type": "stream",
     "text": [
      "BO iteration:  69\n",
      "Current best objective:  tensor(-0.1302, dtype=torch.float64)\n"
     ]
    },
    {
     "name": "stderr",
     "output_type": "stream",
     "text": [
      "/home/zhiliang/.local/lib/python3.10/site-packages/botorch/models/utils/assorted.py:173: InputDataWarning: Input data is not contained to the unit cube. Please consider min-max scaling the input data.\n",
      "  warnings.warn(msg, InputDataWarning)\n",
      "/home/zhiliang/.local/lib/python3.10/site-packages/botorch/models/utils/assorted.py:201: InputDataWarning: Input data is not standardized. Please consider scaling the input to zero mean and unit variance.\n",
      "  warnings.warn(msg, InputDataWarning)\n"
     ]
    },
    {
     "name": "stdout",
     "output_type": "stream",
     "text": [
      "BO iteration:  70\n",
      "Current best objective:  tensor(-0.1159, dtype=torch.float64)\n"
     ]
    },
    {
     "name": "stderr",
     "output_type": "stream",
     "text": [
      "/home/zhiliang/.local/lib/python3.10/site-packages/botorch/models/utils/assorted.py:173: InputDataWarning: Input data is not contained to the unit cube. Please consider min-max scaling the input data.\n",
      "  warnings.warn(msg, InputDataWarning)\n",
      "/home/zhiliang/.local/lib/python3.10/site-packages/botorch/models/utils/assorted.py:201: InputDataWarning: Input data is not standardized. Please consider scaling the input to zero mean and unit variance.\n",
      "  warnings.warn(msg, InputDataWarning)\n"
     ]
    },
    {
     "name": "stdout",
     "output_type": "stream",
     "text": [
      "BO iteration:  71\n",
      "Current best objective:  tensor(-0.1159, dtype=torch.float64)\n"
     ]
    },
    {
     "name": "stderr",
     "output_type": "stream",
     "text": [
      "/home/zhiliang/.local/lib/python3.10/site-packages/botorch/models/utils/assorted.py:173: InputDataWarning: Input data is not contained to the unit cube. Please consider min-max scaling the input data.\n",
      "  warnings.warn(msg, InputDataWarning)\n",
      "/home/zhiliang/.local/lib/python3.10/site-packages/botorch/models/utils/assorted.py:201: InputDataWarning: Input data is not standardized. Please consider scaling the input to zero mean and unit variance.\n",
      "  warnings.warn(msg, InputDataWarning)\n"
     ]
    },
    {
     "name": "stdout",
     "output_type": "stream",
     "text": [
      "BO iteration:  72\n",
      "Current best objective:  tensor(-0.1159, dtype=torch.float64)\n"
     ]
    },
    {
     "name": "stderr",
     "output_type": "stream",
     "text": [
      "/home/zhiliang/.local/lib/python3.10/site-packages/botorch/models/utils/assorted.py:173: InputDataWarning: Input data is not contained to the unit cube. Please consider min-max scaling the input data.\n",
      "  warnings.warn(msg, InputDataWarning)\n",
      "/home/zhiliang/.local/lib/python3.10/site-packages/botorch/models/utils/assorted.py:201: InputDataWarning: Input data is not standardized. Please consider scaling the input to zero mean and unit variance.\n",
      "  warnings.warn(msg, InputDataWarning)\n"
     ]
    },
    {
     "name": "stdout",
     "output_type": "stream",
     "text": [
      "BO iteration:  73\n",
      "Current best objective:  tensor(-0.0915, dtype=torch.float64)\n"
     ]
    },
    {
     "name": "stderr",
     "output_type": "stream",
     "text": [
      "/home/zhiliang/.local/lib/python3.10/site-packages/botorch/models/utils/assorted.py:173: InputDataWarning: Input data is not contained to the unit cube. Please consider min-max scaling the input data.\n",
      "  warnings.warn(msg, InputDataWarning)\n",
      "/home/zhiliang/.local/lib/python3.10/site-packages/botorch/models/utils/assorted.py:201: InputDataWarning: Input data is not standardized. Please consider scaling the input to zero mean and unit variance.\n",
      "  warnings.warn(msg, InputDataWarning)\n"
     ]
    },
    {
     "name": "stdout",
     "output_type": "stream",
     "text": [
      "BO iteration:  74\n",
      "Current best objective:  tensor(-0.0915, dtype=torch.float64)\n"
     ]
    },
    {
     "name": "stderr",
     "output_type": "stream",
     "text": [
      "/home/zhiliang/.local/lib/python3.10/site-packages/botorch/models/utils/assorted.py:173: InputDataWarning: Input data is not contained to the unit cube. Please consider min-max scaling the input data.\n",
      "  warnings.warn(msg, InputDataWarning)\n",
      "/home/zhiliang/.local/lib/python3.10/site-packages/botorch/models/utils/assorted.py:201: InputDataWarning: Input data is not standardized. Please consider scaling the input to zero mean and unit variance.\n",
      "  warnings.warn(msg, InputDataWarning)\n"
     ]
    },
    {
     "name": "stdout",
     "output_type": "stream",
     "text": [
      "BO iteration:  75\n",
      "Current best objective:  tensor(-0.0915, dtype=torch.float64)\n"
     ]
    },
    {
     "name": "stderr",
     "output_type": "stream",
     "text": [
      "/home/zhiliang/.local/lib/python3.10/site-packages/botorch/models/utils/assorted.py:173: InputDataWarning: Input data is not contained to the unit cube. Please consider min-max scaling the input data.\n",
      "  warnings.warn(msg, InputDataWarning)\n",
      "/home/zhiliang/.local/lib/python3.10/site-packages/botorch/models/utils/assorted.py:201: InputDataWarning: Input data is not standardized. Please consider scaling the input to zero mean and unit variance.\n",
      "  warnings.warn(msg, InputDataWarning)\n"
     ]
    },
    {
     "name": "stdout",
     "output_type": "stream",
     "text": [
      "BO iteration:  76\n",
      "Current best objective:  tensor(-0.0915, dtype=torch.float64)\n"
     ]
    },
    {
     "name": "stderr",
     "output_type": "stream",
     "text": [
      "/home/zhiliang/.local/lib/python3.10/site-packages/botorch/models/utils/assorted.py:173: InputDataWarning: Input data is not contained to the unit cube. Please consider min-max scaling the input data.\n",
      "  warnings.warn(msg, InputDataWarning)\n",
      "/home/zhiliang/.local/lib/python3.10/site-packages/botorch/models/utils/assorted.py:201: InputDataWarning: Input data is not standardized. Please consider scaling the input to zero mean and unit variance.\n",
      "  warnings.warn(msg, InputDataWarning)\n"
     ]
    },
    {
     "name": "stdout",
     "output_type": "stream",
     "text": [
      "BO iteration:  77\n",
      "Current best objective:  tensor(-0.0915, dtype=torch.float64)\n"
     ]
    },
    {
     "name": "stderr",
     "output_type": "stream",
     "text": [
      "/home/zhiliang/.local/lib/python3.10/site-packages/botorch/models/utils/assorted.py:173: InputDataWarning: Input data is not contained to the unit cube. Please consider min-max scaling the input data.\n",
      "  warnings.warn(msg, InputDataWarning)\n",
      "/home/zhiliang/.local/lib/python3.10/site-packages/botorch/models/utils/assorted.py:201: InputDataWarning: Input data is not standardized. Please consider scaling the input to zero mean and unit variance.\n",
      "  warnings.warn(msg, InputDataWarning)\n"
     ]
    },
    {
     "name": "stdout",
     "output_type": "stream",
     "text": [
      "BO iteration:  78\n",
      "Current best objective:  tensor(-0.0915, dtype=torch.float64)\n"
     ]
    },
    {
     "name": "stderr",
     "output_type": "stream",
     "text": [
      "/home/zhiliang/.local/lib/python3.10/site-packages/botorch/models/utils/assorted.py:173: InputDataWarning: Input data is not contained to the unit cube. Please consider min-max scaling the input data.\n",
      "  warnings.warn(msg, InputDataWarning)\n",
      "/home/zhiliang/.local/lib/python3.10/site-packages/botorch/models/utils/assorted.py:201: InputDataWarning: Input data is not standardized. Please consider scaling the input to zero mean and unit variance.\n",
      "  warnings.warn(msg, InputDataWarning)\n"
     ]
    },
    {
     "name": "stdout",
     "output_type": "stream",
     "text": [
      "BO iteration:  79\n",
      "Current best objective:  tensor(-0.0915, dtype=torch.float64)\n"
     ]
    },
    {
     "name": "stderr",
     "output_type": "stream",
     "text": [
      "/home/zhiliang/.local/lib/python3.10/site-packages/botorch/models/utils/assorted.py:173: InputDataWarning: Input data is not contained to the unit cube. Please consider min-max scaling the input data.\n",
      "  warnings.warn(msg, InputDataWarning)\n",
      "/home/zhiliang/.local/lib/python3.10/site-packages/botorch/models/utils/assorted.py:201: InputDataWarning: Input data is not standardized. Please consider scaling the input to zero mean and unit variance.\n",
      "  warnings.warn(msg, InputDataWarning)\n"
     ]
    },
    {
     "name": "stdout",
     "output_type": "stream",
     "text": [
      "BO iteration:  80\n",
      "Current best objective:  tensor(-0.0915, dtype=torch.float64)\n"
     ]
    },
    {
     "name": "stderr",
     "output_type": "stream",
     "text": [
      "/home/zhiliang/.local/lib/python3.10/site-packages/botorch/models/utils/assorted.py:173: InputDataWarning: Input data is not contained to the unit cube. Please consider min-max scaling the input data.\n",
      "  warnings.warn(msg, InputDataWarning)\n",
      "/home/zhiliang/.local/lib/python3.10/site-packages/botorch/models/utils/assorted.py:201: InputDataWarning: Input data is not standardized. Please consider scaling the input to zero mean and unit variance.\n",
      "  warnings.warn(msg, InputDataWarning)\n"
     ]
    },
    {
     "name": "stdout",
     "output_type": "stream",
     "text": [
      "BO iteration:  81\n",
      "Current best objective:  tensor(-0.0915, dtype=torch.float64)\n"
     ]
    },
    {
     "name": "stderr",
     "output_type": "stream",
     "text": [
      "/home/zhiliang/.local/lib/python3.10/site-packages/botorch/models/utils/assorted.py:173: InputDataWarning: Input data is not contained to the unit cube. Please consider min-max scaling the input data.\n",
      "  warnings.warn(msg, InputDataWarning)\n",
      "/home/zhiliang/.local/lib/python3.10/site-packages/botorch/models/utils/assorted.py:201: InputDataWarning: Input data is not standardized. Please consider scaling the input to zero mean and unit variance.\n",
      "  warnings.warn(msg, InputDataWarning)\n"
     ]
    },
    {
     "name": "stdout",
     "output_type": "stream",
     "text": [
      "BO iteration:  82\n",
      "Current best objective:  tensor(-0.0915, dtype=torch.float64)\n"
     ]
    },
    {
     "name": "stderr",
     "output_type": "stream",
     "text": [
      "/home/zhiliang/.local/lib/python3.10/site-packages/botorch/models/utils/assorted.py:173: InputDataWarning: Input data is not contained to the unit cube. Please consider min-max scaling the input data.\n",
      "  warnings.warn(msg, InputDataWarning)\n",
      "/home/zhiliang/.local/lib/python3.10/site-packages/botorch/models/utils/assorted.py:201: InputDataWarning: Input data is not standardized. Please consider scaling the input to zero mean and unit variance.\n",
      "  warnings.warn(msg, InputDataWarning)\n"
     ]
    },
    {
     "name": "stdout",
     "output_type": "stream",
     "text": [
      "BO iteration:  83\n",
      "Current best objective:  tensor(-0.0915, dtype=torch.float64)\n"
     ]
    },
    {
     "name": "stderr",
     "output_type": "stream",
     "text": [
      "/home/zhiliang/.local/lib/python3.10/site-packages/botorch/models/utils/assorted.py:173: InputDataWarning: Input data is not contained to the unit cube. Please consider min-max scaling the input data.\n",
      "  warnings.warn(msg, InputDataWarning)\n",
      "/home/zhiliang/.local/lib/python3.10/site-packages/botorch/models/utils/assorted.py:201: InputDataWarning: Input data is not standardized. Please consider scaling the input to zero mean and unit variance.\n",
      "  warnings.warn(msg, InputDataWarning)\n"
     ]
    },
    {
     "name": "stdout",
     "output_type": "stream",
     "text": [
      "BO iteration:  84\n",
      "Current best objective:  tensor(-0.0915, dtype=torch.float64)\n"
     ]
    },
    {
     "name": "stderr",
     "output_type": "stream",
     "text": [
      "/home/zhiliang/.local/lib/python3.10/site-packages/botorch/models/utils/assorted.py:173: InputDataWarning: Input data is not contained to the unit cube. Please consider min-max scaling the input data.\n",
      "  warnings.warn(msg, InputDataWarning)\n",
      "/home/zhiliang/.local/lib/python3.10/site-packages/botorch/models/utils/assorted.py:201: InputDataWarning: Input data is not standardized. Please consider scaling the input to zero mean and unit variance.\n",
      "  warnings.warn(msg, InputDataWarning)\n"
     ]
    },
    {
     "name": "stdout",
     "output_type": "stream",
     "text": [
      "BO iteration:  85\n",
      "Current best objective:  tensor(-0.0915, dtype=torch.float64)\n"
     ]
    },
    {
     "name": "stderr",
     "output_type": "stream",
     "text": [
      "/home/zhiliang/.local/lib/python3.10/site-packages/botorch/models/utils/assorted.py:173: InputDataWarning: Input data is not contained to the unit cube. Please consider min-max scaling the input data.\n",
      "  warnings.warn(msg, InputDataWarning)\n",
      "/home/zhiliang/.local/lib/python3.10/site-packages/botorch/models/utils/assorted.py:201: InputDataWarning: Input data is not standardized. Please consider scaling the input to zero mean and unit variance.\n",
      "  warnings.warn(msg, InputDataWarning)\n"
     ]
    },
    {
     "name": "stdout",
     "output_type": "stream",
     "text": [
      "BO iteration:  86\n",
      "Current best objective:  tensor(-0.0915, dtype=torch.float64)\n"
     ]
    },
    {
     "name": "stderr",
     "output_type": "stream",
     "text": [
      "/home/zhiliang/.local/lib/python3.10/site-packages/botorch/models/utils/assorted.py:173: InputDataWarning: Input data is not contained to the unit cube. Please consider min-max scaling the input data.\n",
      "  warnings.warn(msg, InputDataWarning)\n",
      "/home/zhiliang/.local/lib/python3.10/site-packages/botorch/models/utils/assorted.py:201: InputDataWarning: Input data is not standardized. Please consider scaling the input to zero mean and unit variance.\n",
      "  warnings.warn(msg, InputDataWarning)\n"
     ]
    },
    {
     "name": "stdout",
     "output_type": "stream",
     "text": [
      "BO iteration:  87\n",
      "Current best objective:  tensor(-0.0915, dtype=torch.float64)\n"
     ]
    },
    {
     "name": "stderr",
     "output_type": "stream",
     "text": [
      "/home/zhiliang/.local/lib/python3.10/site-packages/botorch/models/utils/assorted.py:173: InputDataWarning: Input data is not contained to the unit cube. Please consider min-max scaling the input data.\n",
      "  warnings.warn(msg, InputDataWarning)\n",
      "/home/zhiliang/.local/lib/python3.10/site-packages/botorch/models/utils/assorted.py:201: InputDataWarning: Input data is not standardized. Please consider scaling the input to zero mean and unit variance.\n",
      "  warnings.warn(msg, InputDataWarning)\n"
     ]
    },
    {
     "name": "stdout",
     "output_type": "stream",
     "text": [
      "BO iteration:  88\n",
      "Current best objective:  tensor(-0.0915, dtype=torch.float64)\n"
     ]
    },
    {
     "name": "stderr",
     "output_type": "stream",
     "text": [
      "/home/zhiliang/.local/lib/python3.10/site-packages/botorch/models/utils/assorted.py:173: InputDataWarning: Input data is not contained to the unit cube. Please consider min-max scaling the input data.\n",
      "  warnings.warn(msg, InputDataWarning)\n",
      "/home/zhiliang/.local/lib/python3.10/site-packages/botorch/models/utils/assorted.py:201: InputDataWarning: Input data is not standardized. Please consider scaling the input to zero mean and unit variance.\n",
      "  warnings.warn(msg, InputDataWarning)\n"
     ]
    },
    {
     "name": "stdout",
     "output_type": "stream",
     "text": [
      "BO iteration:  89\n",
      "Current best objective:  tensor(-0.0915, dtype=torch.float64)\n"
     ]
    },
    {
     "name": "stderr",
     "output_type": "stream",
     "text": [
      "/home/zhiliang/.local/lib/python3.10/site-packages/botorch/models/utils/assorted.py:173: InputDataWarning: Input data is not contained to the unit cube. Please consider min-max scaling the input data.\n",
      "  warnings.warn(msg, InputDataWarning)\n",
      "/home/zhiliang/.local/lib/python3.10/site-packages/botorch/models/utils/assorted.py:201: InputDataWarning: Input data is not standardized. Please consider scaling the input to zero mean and unit variance.\n",
      "  warnings.warn(msg, InputDataWarning)\n"
     ]
    },
    {
     "name": "stdout",
     "output_type": "stream",
     "text": [
      "BO iteration:  90\n",
      "Current best objective:  tensor(-0.0915, dtype=torch.float64)\n"
     ]
    },
    {
     "name": "stderr",
     "output_type": "stream",
     "text": [
      "/home/zhiliang/.local/lib/python3.10/site-packages/botorch/models/utils/assorted.py:173: InputDataWarning: Input data is not contained to the unit cube. Please consider min-max scaling the input data.\n",
      "  warnings.warn(msg, InputDataWarning)\n",
      "/home/zhiliang/.local/lib/python3.10/site-packages/botorch/models/utils/assorted.py:201: InputDataWarning: Input data is not standardized. Please consider scaling the input to zero mean and unit variance.\n",
      "  warnings.warn(msg, InputDataWarning)\n"
     ]
    },
    {
     "name": "stdout",
     "output_type": "stream",
     "text": [
      "BO iteration:  91\n",
      "Current best objective:  tensor(-0.0915, dtype=torch.float64)\n"
     ]
    },
    {
     "name": "stderr",
     "output_type": "stream",
     "text": [
      "/home/zhiliang/.local/lib/python3.10/site-packages/botorch/models/utils/assorted.py:173: InputDataWarning: Input data is not contained to the unit cube. Please consider min-max scaling the input data.\n",
      "  warnings.warn(msg, InputDataWarning)\n",
      "/home/zhiliang/.local/lib/python3.10/site-packages/botorch/models/utils/assorted.py:201: InputDataWarning: Input data is not standardized. Please consider scaling the input to zero mean and unit variance.\n",
      "  warnings.warn(msg, InputDataWarning)\n"
     ]
    },
    {
     "name": "stdout",
     "output_type": "stream",
     "text": [
      "BO iteration:  92\n",
      "Current best objective:  tensor(-0.0915, dtype=torch.float64)\n"
     ]
    },
    {
     "name": "stderr",
     "output_type": "stream",
     "text": [
      "/home/zhiliang/.local/lib/python3.10/site-packages/botorch/models/utils/assorted.py:173: InputDataWarning: Input data is not contained to the unit cube. Please consider min-max scaling the input data.\n",
      "  warnings.warn(msg, InputDataWarning)\n",
      "/home/zhiliang/.local/lib/python3.10/site-packages/botorch/models/utils/assorted.py:201: InputDataWarning: Input data is not standardized. Please consider scaling the input to zero mean and unit variance.\n",
      "  warnings.warn(msg, InputDataWarning)\n"
     ]
    },
    {
     "name": "stdout",
     "output_type": "stream",
     "text": [
      "BO iteration:  93\n",
      "Current best objective:  tensor(-0.0915, dtype=torch.float64)\n"
     ]
    },
    {
     "name": "stderr",
     "output_type": "stream",
     "text": [
      "/home/zhiliang/.local/lib/python3.10/site-packages/botorch/models/utils/assorted.py:173: InputDataWarning: Input data is not contained to the unit cube. Please consider min-max scaling the input data.\n",
      "  warnings.warn(msg, InputDataWarning)\n",
      "/home/zhiliang/.local/lib/python3.10/site-packages/botorch/models/utils/assorted.py:201: InputDataWarning: Input data is not standardized. Please consider scaling the input to zero mean and unit variance.\n",
      "  warnings.warn(msg, InputDataWarning)\n"
     ]
    },
    {
     "name": "stdout",
     "output_type": "stream",
     "text": [
      "BO iteration:  94\n",
      "Current best objective:  tensor(-0.0915, dtype=torch.float64)\n"
     ]
    },
    {
     "name": "stderr",
     "output_type": "stream",
     "text": [
      "/home/zhiliang/.local/lib/python3.10/site-packages/botorch/models/utils/assorted.py:173: InputDataWarning: Input data is not contained to the unit cube. Please consider min-max scaling the input data.\n",
      "  warnings.warn(msg, InputDataWarning)\n",
      "/home/zhiliang/.local/lib/python3.10/site-packages/botorch/models/utils/assorted.py:201: InputDataWarning: Input data is not standardized. Please consider scaling the input to zero mean and unit variance.\n",
      "  warnings.warn(msg, InputDataWarning)\n"
     ]
    },
    {
     "name": "stdout",
     "output_type": "stream",
     "text": [
      "BO iteration:  95\n",
      "Current best objective:  tensor(-0.0915, dtype=torch.float64)\n"
     ]
    },
    {
     "name": "stderr",
     "output_type": "stream",
     "text": [
      "/home/zhiliang/.local/lib/python3.10/site-packages/botorch/models/utils/assorted.py:173: InputDataWarning: Input data is not contained to the unit cube. Please consider min-max scaling the input data.\n",
      "  warnings.warn(msg, InputDataWarning)\n",
      "/home/zhiliang/.local/lib/python3.10/site-packages/botorch/models/utils/assorted.py:201: InputDataWarning: Input data is not standardized. Please consider scaling the input to zero mean and unit variance.\n",
      "  warnings.warn(msg, InputDataWarning)\n"
     ]
    },
    {
     "name": "stdout",
     "output_type": "stream",
     "text": [
      "BO iteration:  96\n",
      "Current best objective:  tensor(-0.0915, dtype=torch.float64)\n"
     ]
    },
    {
     "name": "stderr",
     "output_type": "stream",
     "text": [
      "/home/zhiliang/.local/lib/python3.10/site-packages/botorch/models/utils/assorted.py:173: InputDataWarning: Input data is not contained to the unit cube. Please consider min-max scaling the input data.\n",
      "  warnings.warn(msg, InputDataWarning)\n",
      "/home/zhiliang/.local/lib/python3.10/site-packages/botorch/models/utils/assorted.py:201: InputDataWarning: Input data is not standardized. Please consider scaling the input to zero mean and unit variance.\n",
      "  warnings.warn(msg, InputDataWarning)\n"
     ]
    },
    {
     "name": "stdout",
     "output_type": "stream",
     "text": [
      "BO iteration:  97\n",
      "Current best objective:  tensor(-0.0915, dtype=torch.float64)\n"
     ]
    },
    {
     "name": "stderr",
     "output_type": "stream",
     "text": [
      "/home/zhiliang/.local/lib/python3.10/site-packages/botorch/models/utils/assorted.py:173: InputDataWarning: Input data is not contained to the unit cube. Please consider min-max scaling the input data.\n",
      "  warnings.warn(msg, InputDataWarning)\n",
      "/home/zhiliang/.local/lib/python3.10/site-packages/botorch/models/utils/assorted.py:201: InputDataWarning: Input data is not standardized. Please consider scaling the input to zero mean and unit variance.\n",
      "  warnings.warn(msg, InputDataWarning)\n"
     ]
    },
    {
     "name": "stdout",
     "output_type": "stream",
     "text": [
      "BO iteration:  98\n",
      "Current best objective:  tensor(-0.0915, dtype=torch.float64)\n"
     ]
    },
    {
     "name": "stderr",
     "output_type": "stream",
     "text": [
      "/home/zhiliang/.local/lib/python3.10/site-packages/botorch/models/utils/assorted.py:173: InputDataWarning: Input data is not contained to the unit cube. Please consider min-max scaling the input data.\n",
      "  warnings.warn(msg, InputDataWarning)\n",
      "/home/zhiliang/.local/lib/python3.10/site-packages/botorch/models/utils/assorted.py:201: InputDataWarning: Input data is not standardized. Please consider scaling the input to zero mean and unit variance.\n",
      "  warnings.warn(msg, InputDataWarning)\n"
     ]
    },
    {
     "name": "stdout",
     "output_type": "stream",
     "text": [
      "BO iteration:  99\n",
      "Current best objective:  tensor(-0.0915, dtype=torch.float64)\n"
     ]
    },
    {
     "name": "stderr",
     "output_type": "stream",
     "text": [
      "/home/zhiliang/.local/lib/python3.10/site-packages/botorch/models/utils/assorted.py:173: InputDataWarning: Input data is not contained to the unit cube. Please consider min-max scaling the input data.\n",
      "  warnings.warn(msg, InputDataWarning)\n",
      "/home/zhiliang/.local/lib/python3.10/site-packages/botorch/models/utils/assorted.py:201: InputDataWarning: Input data is not standardized. Please consider scaling the input to zero mean and unit variance.\n",
      "  warnings.warn(msg, InputDataWarning)\n"
     ]
    }
   ],
   "source": [
    "\n",
    "# vanilla BO\n",
    "import botorch\n",
    "botorch.settings.debug = True\n",
    "DG.random_initialize_param()\n",
    "DG.fit_locally_partial(10)\n",
    "all_best_losses, _, _ = BO_graph(DG,printout=True,iteration=100)"
   ]
  },
  {
   "attachments": {},
   "cell_type": "markdown",
   "metadata": {},
   "source": [
    "# BO with gradient descent over local loss (ours)"
   ]
  },
  {
   "cell_type": "code",
   "execution_count": 845,
   "metadata": {},
   "outputs": [
    {
     "name": "stderr",
     "output_type": "stream",
     "text": [
      "/tmp/ipykernel_133225/2211688774.py:5: UserWarning: Creating a tensor from a list of numpy.ndarrays is extremely slow. Please consider converting the list to a single numpy.ndarray with numpy.array() before converting to a tensor. (Triggered internally at ../torch/csrc/utils/tensor_new.cpp:245.)\n",
      "  bounds = torch.tensor([np.array(lower_bound_local_loss), np.array(lower_bound_local_loss) * 3])\n",
      "/home/zhiliang/dev/AutoAI/GraphDecomposition/DirectedFunctionalGraph.py:171: UserWarning: To copy construct from a tensor, it is recommended to use sourceTensor.clone().detach() or sourceTensor.clone().detach().requires_grad_(True), rather than torch.tensor(sourceTensor).\n",
      "  norm_difference = torch.subtract(self.get_local_losses(), torch.tensor(losses))\n"
     ]
    },
    {
     "name": "stdout",
     "output_type": "stream",
     "text": [
      "BO iteration:  0\n",
      "Current best objective:  -10000\n",
      "loss to look for:  tensor([1.0862e+01, 2.9710e-03, 3.1529e-02, 1.9400e-01, 1.5539e-02, 5.3613e-02,\n",
      "        2.7897e-03, 1.6899e+00, 2.3094e-03], dtype=torch.float64)\n",
      "number of combination of params with matching loss:  20\n"
     ]
    },
    {
     "name": "stderr",
     "output_type": "stream",
     "text": [
      "/home/zhiliang/dev/AutoAI/GraphDecomposition/DirectedFunctionalGraph.py:290: UserWarning: To copy construct from a tensor, it is recommended to use sourceTensor.clone().detach() or sourceTensor.clone().detach().requires_grad_(True), rather than torch.tensor(sourceTensor).\n",
      "  norm_difference = torch.subtract(torch.tensor(self.get_local_losses()), torch.tensor(losses))\n",
      "/home/zhiliang/.local/lib/python3.10/site-packages/botorch/models/utils/assorted.py:173: InputDataWarning: Input data is not contained to the unit cube. Please consider min-max scaling the input data.\n",
      "  warnings.warn(msg, InputDataWarning)\n",
      "/home/zhiliang/.local/lib/python3.10/site-packages/botorch/models/utils/assorted.py:201: InputDataWarning: Input data is not standardized. Please consider scaling the input to zero mean and unit variance.\n",
      "  warnings.warn(msg, InputDataWarning)\n",
      "/home/zhiliang/.local/lib/python3.10/site-packages/botorch/optim/initializers.py:403: BadInitialCandidatesWarning: Unable to find non-zero acquisition function values - initial conditions are being selected randomly.\n",
      "  warnings.warn(\n",
      "/home/zhiliang/dev/AutoAI/GraphDecomposition/DirectedFunctionalGraph.py:171: UserWarning: To copy construct from a tensor, it is recommended to use sourceTensor.clone().detach() or sourceTensor.clone().detach().requires_grad_(True), rather than torch.tensor(sourceTensor).\n",
      "  norm_difference = torch.subtract(self.get_local_losses(), torch.tensor(losses))\n"
     ]
    },
    {
     "name": "stdout",
     "output_type": "stream",
     "text": [
      "candidate: tensor([[0.0084, 0.0068, 0.3409, 0.1057, 0.0028, 0.2072, 0.0067, 0.4797, 0.0040]],\n",
      "       dtype=torch.float64)\n",
      "BO iteration:  1\n",
      "Current best objective:  tensor(-2.9963, dtype=torch.float64)\n",
      "loss to look for:  tensor([0.0084, 0.0068, 0.3409, 0.1057, 0.0028, 0.2072, 0.0067, 0.4797, 0.0040],\n",
      "       dtype=torch.float64)\n",
      "number of combination of params with matching loss:  20\n"
     ]
    },
    {
     "name": "stderr",
     "output_type": "stream",
     "text": [
      "/home/zhiliang/dev/AutoAI/GraphDecomposition/DirectedFunctionalGraph.py:290: UserWarning: To copy construct from a tensor, it is recommended to use sourceTensor.clone().detach() or sourceTensor.clone().detach().requires_grad_(True), rather than torch.tensor(sourceTensor).\n",
      "  norm_difference = torch.subtract(torch.tensor(self.get_local_losses()), torch.tensor(losses))\n",
      "/home/zhiliang/.local/lib/python3.10/site-packages/botorch/models/utils/assorted.py:173: InputDataWarning: Input data is not contained to the unit cube. Please consider min-max scaling the input data.\n",
      "  warnings.warn(msg, InputDataWarning)\n",
      "/home/zhiliang/.local/lib/python3.10/site-packages/botorch/models/utils/assorted.py:201: InputDataWarning: Input data is not standardized. Please consider scaling the input to zero mean and unit variance.\n",
      "  warnings.warn(msg, InputDataWarning)\n"
     ]
    },
    {
     "name": "stdout",
     "output_type": "stream",
     "text": [
      "candidate: tensor([[0.0169, 0.0039, 0.4253, 0.2356, 0.0033, 0.2460, 0.0051, 0.8784, 0.0043]],\n",
      "       dtype=torch.float64)\n",
      "BO iteration:  2\n",
      "Current best objective:  tensor(-0.0641, dtype=torch.float64)\n",
      "loss to look for:  tensor([0.0169, 0.0039, 0.4253, 0.2356, 0.0033, 0.2460, 0.0051, 0.8784, 0.0043],\n",
      "       dtype=torch.float64)\n"
     ]
    },
    {
     "name": "stderr",
     "output_type": "stream",
     "text": [
      "/home/zhiliang/dev/AutoAI/GraphDecomposition/DirectedFunctionalGraph.py:171: UserWarning: To copy construct from a tensor, it is recommended to use sourceTensor.clone().detach() or sourceTensor.clone().detach().requires_grad_(True), rather than torch.tensor(sourceTensor).\n",
      "  norm_difference = torch.subtract(self.get_local_losses(), torch.tensor(losses))\n"
     ]
    },
    {
     "name": "stdout",
     "output_type": "stream",
     "text": [
      "number of combination of params with matching loss:  20\n"
     ]
    },
    {
     "name": "stderr",
     "output_type": "stream",
     "text": [
      "/home/zhiliang/dev/AutoAI/GraphDecomposition/DirectedFunctionalGraph.py:290: UserWarning: To copy construct from a tensor, it is recommended to use sourceTensor.clone().detach() or sourceTensor.clone().detach().requires_grad_(True), rather than torch.tensor(sourceTensor).\n",
      "  norm_difference = torch.subtract(torch.tensor(self.get_local_losses()), torch.tensor(losses))\n",
      "/home/zhiliang/.local/lib/python3.10/site-packages/botorch/models/utils/assorted.py:173: InputDataWarning: Input data is not contained to the unit cube. Please consider min-max scaling the input data.\n",
      "  warnings.warn(msg, InputDataWarning)\n",
      "/home/zhiliang/.local/lib/python3.10/site-packages/botorch/models/utils/assorted.py:201: InputDataWarning: Input data is not standardized. Please consider scaling the input to zero mean and unit variance.\n",
      "  warnings.warn(msg, InputDataWarning)\n"
     ]
    },
    {
     "name": "stdout",
     "output_type": "stream",
     "text": [
      "candidate: tensor([[0.0131, 0.0056, 0.3661, 0.1830, 0.0032, 0.2205, 0.0061, 0.7458, 0.0042]],\n",
      "       dtype=torch.float64)\n",
      "BO iteration:  3\n",
      "Current best objective:  tensor(-0.0641, dtype=torch.float64)\n",
      "loss to look for:  tensor([0.0131, 0.0056, 0.3661, 0.1830, 0.0032, 0.2205, 0.0061, 0.7458, 0.0042],\n",
      "       dtype=torch.float64)\n"
     ]
    },
    {
     "name": "stderr",
     "output_type": "stream",
     "text": [
      "/home/zhiliang/dev/AutoAI/GraphDecomposition/DirectedFunctionalGraph.py:171: UserWarning: To copy construct from a tensor, it is recommended to use sourceTensor.clone().detach() or sourceTensor.clone().detach().requires_grad_(True), rather than torch.tensor(sourceTensor).\n",
      "  norm_difference = torch.subtract(self.get_local_losses(), torch.tensor(losses))\n"
     ]
    },
    {
     "name": "stdout",
     "output_type": "stream",
     "text": [
      "number of combination of params with matching loss:  20\n",
      "candidate: tensor([[0.0135, 0.0055, 0.3724, 0.1882, 0.0033, 0.2224, 0.0062, 0.7304, 0.0043]],\n",
      "       dtype=torch.float64)\n",
      "BO iteration:  4\n",
      "Current best objective:  tensor(-0.0302, dtype=torch.float64)\n",
      "loss to look for:  tensor([0.0135, 0.0055, 0.3724, 0.1882, 0.0033, 0.2224, 0.0062, 0.7304, 0.0043],\n",
      "       dtype=torch.float64)\n"
     ]
    },
    {
     "name": "stderr",
     "output_type": "stream",
     "text": [
      "/home/zhiliang/dev/AutoAI/GraphDecomposition/DirectedFunctionalGraph.py:290: UserWarning: To copy construct from a tensor, it is recommended to use sourceTensor.clone().detach() or sourceTensor.clone().detach().requires_grad_(True), rather than torch.tensor(sourceTensor).\n",
      "  norm_difference = torch.subtract(torch.tensor(self.get_local_losses()), torch.tensor(losses))\n",
      "/home/zhiliang/.local/lib/python3.10/site-packages/botorch/models/utils/assorted.py:173: InputDataWarning: Input data is not contained to the unit cube. Please consider min-max scaling the input data.\n",
      "  warnings.warn(msg, InputDataWarning)\n",
      "/home/zhiliang/.local/lib/python3.10/site-packages/botorch/models/utils/assorted.py:201: InputDataWarning: Input data is not standardized. Please consider scaling the input to zero mean and unit variance.\n",
      "  warnings.warn(msg, InputDataWarning)\n",
      "/home/zhiliang/dev/AutoAI/GraphDecomposition/DirectedFunctionalGraph.py:171: UserWarning: To copy construct from a tensor, it is recommended to use sourceTensor.clone().detach() or sourceTensor.clone().detach().requires_grad_(True), rather than torch.tensor(sourceTensor).\n",
      "  norm_difference = torch.subtract(self.get_local_losses(), torch.tensor(losses))\n"
     ]
    },
    {
     "name": "stdout",
     "output_type": "stream",
     "text": [
      "number of combination of params with matching loss:  20\n"
     ]
    },
    {
     "name": "stderr",
     "output_type": "stream",
     "text": [
      "/home/zhiliang/dev/AutoAI/GraphDecomposition/DirectedFunctionalGraph.py:290: UserWarning: To copy construct from a tensor, it is recommended to use sourceTensor.clone().detach() or sourceTensor.clone().detach().requires_grad_(True), rather than torch.tensor(sourceTensor).\n",
      "  norm_difference = torch.subtract(torch.tensor(self.get_local_losses()), torch.tensor(losses))\n",
      "/home/zhiliang/.local/lib/python3.10/site-packages/botorch/models/utils/assorted.py:173: InputDataWarning: Input data is not contained to the unit cube. Please consider min-max scaling the input data.\n",
      "  warnings.warn(msg, InputDataWarning)\n",
      "/home/zhiliang/.local/lib/python3.10/site-packages/botorch/models/utils/assorted.py:201: InputDataWarning: Input data is not standardized. Please consider scaling the input to zero mean and unit variance.\n",
      "  warnings.warn(msg, InputDataWarning)\n"
     ]
    },
    {
     "name": "stdout",
     "output_type": "stream",
     "text": [
      "candidate: tensor([[0.0138, 0.0056, 0.3693, 0.1922, 0.0033, 0.2229, 0.0064, 0.7441, 0.0043]],\n",
      "       dtype=torch.float64)\n",
      "BO iteration:  5\n",
      "Current best objective:  tensor(-0.0302, dtype=torch.float64)\n",
      "loss to look for:  tensor([0.0138, 0.0056, 0.3693, 0.1922, 0.0033, 0.2229, 0.0064, 0.7441, 0.0043],\n",
      "       dtype=torch.float64)\n"
     ]
    },
    {
     "name": "stderr",
     "output_type": "stream",
     "text": [
      "/home/zhiliang/dev/AutoAI/GraphDecomposition/DirectedFunctionalGraph.py:171: UserWarning: To copy construct from a tensor, it is recommended to use sourceTensor.clone().detach() or sourceTensor.clone().detach().requires_grad_(True), rather than torch.tensor(sourceTensor).\n",
      "  norm_difference = torch.subtract(self.get_local_losses(), torch.tensor(losses))\n"
     ]
    },
    {
     "name": "stdout",
     "output_type": "stream",
     "text": [
      "number of combination of params with matching loss:  20\n"
     ]
    },
    {
     "name": "stderr",
     "output_type": "stream",
     "text": [
      "/home/zhiliang/dev/AutoAI/GraphDecomposition/DirectedFunctionalGraph.py:290: UserWarning: To copy construct from a tensor, it is recommended to use sourceTensor.clone().detach() or sourceTensor.clone().detach().requires_grad_(True), rather than torch.tensor(sourceTensor).\n",
      "  norm_difference = torch.subtract(torch.tensor(self.get_local_losses()), torch.tensor(losses))\n",
      "/home/zhiliang/.local/lib/python3.10/site-packages/botorch/models/utils/assorted.py:173: InputDataWarning: Input data is not contained to the unit cube. Please consider min-max scaling the input data.\n",
      "  warnings.warn(msg, InputDataWarning)\n",
      "/home/zhiliang/.local/lib/python3.10/site-packages/botorch/models/utils/assorted.py:201: InputDataWarning: Input data is not standardized. Please consider scaling the input to zero mean and unit variance.\n",
      "  warnings.warn(msg, InputDataWarning)\n"
     ]
    },
    {
     "name": "stdout",
     "output_type": "stream",
     "text": [
      "candidate: tensor([[0.0143, 0.0055, 0.3702, 0.1983, 0.0034, 0.2214, 0.0065, 0.7648, 0.0044]],\n",
      "       dtype=torch.float64)\n",
      "BO iteration:  6\n",
      "Current best objective:  tensor(-0.0302, dtype=torch.float64)\n",
      "loss to look for:  tensor([0.0143, 0.0055, 0.3702, 0.1983, 0.0034, 0.2214, 0.0065, 0.7648, 0.0044],\n",
      "       dtype=torch.float64)\n"
     ]
    },
    {
     "name": "stderr",
     "output_type": "stream",
     "text": [
      "/home/zhiliang/dev/AutoAI/GraphDecomposition/DirectedFunctionalGraph.py:171: UserWarning: To copy construct from a tensor, it is recommended to use sourceTensor.clone().detach() or sourceTensor.clone().detach().requires_grad_(True), rather than torch.tensor(sourceTensor).\n",
      "  norm_difference = torch.subtract(self.get_local_losses(), torch.tensor(losses))\n"
     ]
    },
    {
     "name": "stdout",
     "output_type": "stream",
     "text": [
      "number of combination of params with matching loss:  20\n"
     ]
    },
    {
     "name": "stderr",
     "output_type": "stream",
     "text": [
      "/home/zhiliang/dev/AutoAI/GraphDecomposition/DirectedFunctionalGraph.py:290: UserWarning: To copy construct from a tensor, it is recommended to use sourceTensor.clone().detach() or sourceTensor.clone().detach().requires_grad_(True), rather than torch.tensor(sourceTensor).\n",
      "  norm_difference = torch.subtract(torch.tensor(self.get_local_losses()), torch.tensor(losses))\n",
      "/home/zhiliang/.local/lib/python3.10/site-packages/botorch/models/utils/assorted.py:173: InputDataWarning: Input data is not contained to the unit cube. Please consider min-max scaling the input data.\n",
      "  warnings.warn(msg, InputDataWarning)\n",
      "/home/zhiliang/.local/lib/python3.10/site-packages/botorch/models/utils/assorted.py:201: InputDataWarning: Input data is not standardized. Please consider scaling the input to zero mean and unit variance.\n",
      "  warnings.warn(msg, InputDataWarning)\n"
     ]
    },
    {
     "name": "stdout",
     "output_type": "stream",
     "text": [
      "candidate: tensor([[0.0143, 0.0056, 0.3754, 0.1952, 0.0034, 0.2224, 0.0066, 0.7781, 0.0045]],\n",
      "       dtype=torch.float64)\n",
      "BO iteration:  7\n",
      "Current best objective:  tensor(-0.0302, dtype=torch.float64)\n",
      "loss to look for:  tensor([0.0143, 0.0056, 0.3754, 0.1952, 0.0034, 0.2224, 0.0066, 0.7781, 0.0045],\n",
      "       dtype=torch.float64)\n"
     ]
    },
    {
     "name": "stderr",
     "output_type": "stream",
     "text": [
      "/home/zhiliang/dev/AutoAI/GraphDecomposition/DirectedFunctionalGraph.py:171: UserWarning: To copy construct from a tensor, it is recommended to use sourceTensor.clone().detach() or sourceTensor.clone().detach().requires_grad_(True), rather than torch.tensor(sourceTensor).\n",
      "  norm_difference = torch.subtract(self.get_local_losses(), torch.tensor(losses))\n"
     ]
    },
    {
     "name": "stdout",
     "output_type": "stream",
     "text": [
      "number of combination of params with matching loss:  20\n"
     ]
    },
    {
     "name": "stderr",
     "output_type": "stream",
     "text": [
      "/home/zhiliang/dev/AutoAI/GraphDecomposition/DirectedFunctionalGraph.py:290: UserWarning: To copy construct from a tensor, it is recommended to use sourceTensor.clone().detach() or sourceTensor.clone().detach().requires_grad_(True), rather than torch.tensor(sourceTensor).\n",
      "  norm_difference = torch.subtract(torch.tensor(self.get_local_losses()), torch.tensor(losses))\n",
      "/home/zhiliang/.local/lib/python3.10/site-packages/botorch/models/utils/assorted.py:173: InputDataWarning: Input data is not contained to the unit cube. Please consider min-max scaling the input data.\n",
      "  warnings.warn(msg, InputDataWarning)\n",
      "/home/zhiliang/.local/lib/python3.10/site-packages/botorch/models/utils/assorted.py:201: InputDataWarning: Input data is not standardized. Please consider scaling the input to zero mean and unit variance.\n",
      "  warnings.warn(msg, InputDataWarning)\n"
     ]
    },
    {
     "name": "stdout",
     "output_type": "stream",
     "text": [
      "candidate: tensor([[0.0142, 0.0056, 0.3745, 0.1921, 0.0034, 0.2200, 0.0066, 0.7867, 0.0045]],\n",
      "       dtype=torch.float64)\n",
      "BO iteration:  8\n",
      "Current best objective:  tensor(-0.0289, dtype=torch.float64)\n",
      "loss to look for:  tensor([0.0142, 0.0056, 0.3745, 0.1921, 0.0034, 0.2200, 0.0066, 0.7867, 0.0045],\n",
      "       dtype=torch.float64)\n"
     ]
    },
    {
     "name": "stderr",
     "output_type": "stream",
     "text": [
      "/home/zhiliang/dev/AutoAI/GraphDecomposition/DirectedFunctionalGraph.py:171: UserWarning: To copy construct from a tensor, it is recommended to use sourceTensor.clone().detach() or sourceTensor.clone().detach().requires_grad_(True), rather than torch.tensor(sourceTensor).\n",
      "  norm_difference = torch.subtract(self.get_local_losses(), torch.tensor(losses))\n"
     ]
    },
    {
     "name": "stdout",
     "output_type": "stream",
     "text": [
      "number of combination of params with matching loss:  20\n"
     ]
    },
    {
     "name": "stderr",
     "output_type": "stream",
     "text": [
      "/home/zhiliang/dev/AutoAI/GraphDecomposition/DirectedFunctionalGraph.py:290: UserWarning: To copy construct from a tensor, it is recommended to use sourceTensor.clone().detach() or sourceTensor.clone().detach().requires_grad_(True), rather than torch.tensor(sourceTensor).\n",
      "  norm_difference = torch.subtract(torch.tensor(self.get_local_losses()), torch.tensor(losses))\n",
      "/home/zhiliang/.local/lib/python3.10/site-packages/botorch/models/utils/assorted.py:173: InputDataWarning: Input data is not contained to the unit cube. Please consider min-max scaling the input data.\n",
      "  warnings.warn(msg, InputDataWarning)\n",
      "/home/zhiliang/.local/lib/python3.10/site-packages/botorch/models/utils/assorted.py:201: InputDataWarning: Input data is not standardized. Please consider scaling the input to zero mean and unit variance.\n",
      "  warnings.warn(msg, InputDataWarning)\n"
     ]
    },
    {
     "name": "stdout",
     "output_type": "stream",
     "text": [
      "candidate: tensor([[0.0143, 0.0056, 0.3771, 0.1929, 0.0035, 0.2178, 0.0067, 0.7931, 0.0045]],\n",
      "       dtype=torch.float64)\n",
      "BO iteration:  9\n",
      "Current best objective:  tensor(-0.0289, dtype=torch.float64)\n",
      "loss to look for:  tensor([0.0143, 0.0056, 0.3771, 0.1929, 0.0035, 0.2178, 0.0067, 0.7931, 0.0045],\n",
      "       dtype=torch.float64)\n"
     ]
    },
    {
     "name": "stderr",
     "output_type": "stream",
     "text": [
      "/home/zhiliang/dev/AutoAI/GraphDecomposition/DirectedFunctionalGraph.py:171: UserWarning: To copy construct from a tensor, it is recommended to use sourceTensor.clone().detach() or sourceTensor.clone().detach().requires_grad_(True), rather than torch.tensor(sourceTensor).\n",
      "  norm_difference = torch.subtract(self.get_local_losses(), torch.tensor(losses))\n"
     ]
    },
    {
     "name": "stdout",
     "output_type": "stream",
     "text": [
      "number of combination of params with matching loss:  20\n"
     ]
    },
    {
     "name": "stderr",
     "output_type": "stream",
     "text": [
      "/home/zhiliang/dev/AutoAI/GraphDecomposition/DirectedFunctionalGraph.py:290: UserWarning: To copy construct from a tensor, it is recommended to use sourceTensor.clone().detach() or sourceTensor.clone().detach().requires_grad_(True), rather than torch.tensor(sourceTensor).\n",
      "  norm_difference = torch.subtract(torch.tensor(self.get_local_losses()), torch.tensor(losses))\n",
      "/home/zhiliang/.local/lib/python3.10/site-packages/botorch/models/utils/assorted.py:173: InputDataWarning: Input data is not contained to the unit cube. Please consider min-max scaling the input data.\n",
      "  warnings.warn(msg, InputDataWarning)\n",
      "/home/zhiliang/.local/lib/python3.10/site-packages/botorch/models/utils/assorted.py:201: InputDataWarning: Input data is not standardized. Please consider scaling the input to zero mean and unit variance.\n",
      "  warnings.warn(msg, InputDataWarning)\n"
     ]
    },
    {
     "name": "stdout",
     "output_type": "stream",
     "text": [
      "candidate: tensor([[0.0143, 0.0057, 0.3783, 0.1909, 0.0035, 0.2178, 0.0067, 0.7994, 0.0045]],\n",
      "       dtype=torch.float64)\n"
     ]
    }
   ],
   "source": [
    "\n",
    "DG.random_initialize_param()\n",
    "# BO with local loss -> system loss\n",
    "DG.fit_locally_partial(100)\n",
    "\n",
    "bounds = torch.tensor([np.array(lower_bound_local_loss), np.array(lower_bound_local_loss) * 3])\n",
    "all_best_losses_ours, best_param = BO_graph_local_loss(DG, bounds, \"multi_search\", iteration=10)"
   ]
  },
  {
   "attachments": {},
   "cell_type": "markdown",
   "metadata": {},
   "source": [
    "# Plot the losses"
   ]
  },
  {
   "cell_type": "code",
   "execution_count": null,
   "metadata": {},
   "outputs": [],
   "source": [
    "s_loss_from_grad = system_loss_from_grad['system']\n",
    "best_from_grad = min(s_loss_from_grad)\n",
    "plt.plot(range(len(all_best_losses)), [-x for x in all_best_losses], label=\"BO over system parameters\")\n",
    "plt.plot(range(len(s_loss_from_grad)), [best_from_grad for x in range(len(s_loss_from_grad))], '--', c='black', label=\"Best system loss with local gradient descent\", alpha=0.3)\n",
    "plt.plot(range(len(all_best_losses_ours)), [-x for x in all_best_losses_ours], label=\"BO over local losses (with parameter lookup)\")\n",
    "plt.legend()\n",
    "plt.title(\"System Loss over number of system queries\")\n",
    "plt.show()\n"
   ]
  },
  {
   "attachments": {},
   "cell_type": "markdown",
   "metadata": {},
   "source": [
    "# Perform partitioning based on M.I, and perform optimization of each sub-system"
   ]
  },
  {
   "cell_type": "code",
   "execution_count": 883,
   "metadata": {},
   "outputs": [
    {
     "name": "stdout",
     "output_type": "stream",
     "text": [
      "adding edge from Blackbox6 to Blackbox3\n",
      "adding edge from 7 to Blackbox3\n",
      "adding edge from 1 to Blackbox3\n",
      "adding edge from 2 to Blackbox3\n",
      "adding edge from 4 to Blackbox5\n",
      "adding edge from 2 to Blackbox5\n",
      "adding edge from 7 to Blackbox6\n",
      "adding edge from Blackbox5 to Blackbox6\n"
     ]
    },
    {
     "name": "stderr",
     "output_type": "stream",
     "text": [
      "/home/zhiliang/dev/AutoAI/GraphDecomposition/DirectedFunctionalGraph.py:30: UserWarning: Parents of Blackbox3 previously defined as ['Blackbox6', 7], attempting to overwrite with [1, 2]\n",
      "  warnings.warn(f'Parents of {v_of_edge} previously defined as {self.nodes[v_of_edge][\"parents\"]}, attempting to overwrite with {u_of_edge}')\n",
      "/home/zhiliang/dev/AutoAI/GraphDecomposition/DirectedFunctionalGraph.py:30: UserWarning: Parents of 4 previously defined as [2], attempting to overwrite with ['Blackbox3']\n",
      "  warnings.warn(f'Parents of {v_of_edge} previously defined as {self.nodes[v_of_edge][\"parents\"]}, attempting to overwrite with {u_of_edge}')\n"
     ]
    },
    {
     "name": "stdout",
     "output_type": "stream",
     "text": [
      "MI:  [0.46120676 0.05444554 0.1214082  0.05315157 0.         0.01440395\n",
      " 0.0737174  0.         0.00267283]\n",
      "cluster in decomposition:  {1, 'Blackbox3'}\n",
      "cluster in decomposition:  {2, 'Blackbox5'}\n",
      "cluster in decomposition:  {'Blackbox6', 7}\n",
      "decomposition score:  0.005554463891197906\n",
      "cluster in decomposition:  {1, 'Blackbox3'}\n",
      "cluster in decomposition:  {2, 'Blackbox5'}\n",
      "cluster in decomposition:  {'Blackbox6', 8, 7}\n",
      "decomposition score:  0.015554463891197905\n",
      "cluster in decomposition:  {1, 'Blackbox3'}\n",
      "cluster in decomposition:  {2, 'Blackbox5'}\n",
      "cluster in decomposition:  {'Blackbox6', 8, 9, 7}\n",
      "decomposition score:  0.025554463891197907\n",
      "cluster in decomposition:  {1, 'Blackbox3'}\n",
      "cluster in decomposition:  {2, 'Blackbox5'}\n",
      "cluster in decomposition:  {7, 'Blackbox6', 8, 10, 9}\n",
      "decomposition score:  0.03555446389119791\n",
      "cluster in decomposition:  {1, 'Blackbox3'}\n",
      "cluster in decomposition:  {2, 'Blackbox5'}\n",
      "cluster in decomposition:  {7, 'Blackbox6', 8, 10, 11, 9}\n",
      "decomposition score:  0.045554463891197904\n",
      "cluster in decomposition:  {1, 'Blackbox3'}\n",
      "cluster in decomposition:  {2, 'Blackbox5'}\n",
      "cluster in decomposition:  {7, 'Blackbox6', 8, 10, 11, 12, 9}\n",
      "decomposition score:  0.05555446389119791\n",
      "cluster in decomposition:  {1, 'Blackbox3'}\n",
      "cluster in decomposition:  {4, 'Blackbox5'}\n",
      "cluster in decomposition:  {'Blackbox6', 7}\n",
      "decomposition score:  0.06\n",
      "cluster in decomposition:  {1, 'Blackbox3'}\n",
      "cluster in decomposition:  {4, 'Blackbox5'}\n",
      "cluster in decomposition:  {'Blackbox6', 8, 7}\n",
      "decomposition score:  0.07\n",
      "cluster in decomposition:  {1, 'Blackbox3'}\n",
      "cluster in decomposition:  {4, 'Blackbox5'}\n",
      "cluster in decomposition:  {'Blackbox6', 8, 9, 7}\n",
      "decomposition score:  0.08\n",
      "cluster in decomposition:  {1, 'Blackbox3'}\n",
      "cluster in decomposition:  {4, 'Blackbox5'}\n",
      "cluster in decomposition:  {7, 'Blackbox6', 8, 10, 9}\n",
      "decomposition score:  0.09\n",
      "cluster in decomposition:  {1, 'Blackbox3'}\n",
      "cluster in decomposition:  {4, 'Blackbox5'}\n",
      "cluster in decomposition:  {7, 'Blackbox6', 8, 10, 11, 9}\n",
      "decomposition score:  0.1\n",
      "cluster in decomposition:  {1, 'Blackbox3'}\n",
      "cluster in decomposition:  {4, 'Blackbox5'}\n",
      "cluster in decomposition:  {7, 'Blackbox6', 8, 10, 11, 12, 9}\n",
      "decomposition score:  0.11000000000000001\n",
      "cluster in decomposition:  {1, 'Blackbox3'}\n",
      "cluster in decomposition:  {2, 'Blackbox5'}\n",
      "cluster in decomposition:  {'Blackbox6', 7}\n",
      "decomposition score:  0.005554463891197906\n",
      "cluster in decomposition:  {1, 'Blackbox3'}\n",
      "cluster in decomposition:  {2, 'Blackbox5'}\n",
      "cluster in decomposition:  {'Blackbox6', 8, 7}\n",
      "decomposition score:  0.015554463891197905\n",
      "cluster in decomposition:  {1, 'Blackbox3'}\n",
      "cluster in decomposition:  {2, 'Blackbox5'}\n",
      "cluster in decomposition:  {'Blackbox6', 8, 9, 7}\n",
      "decomposition score:  0.025554463891197907\n",
      "cluster in decomposition:  {1, 'Blackbox3'}\n",
      "cluster in decomposition:  {2, 'Blackbox5'}\n",
      "cluster in decomposition:  {7, 'Blackbox6', 8, 10, 9}\n",
      "decomposition score:  0.03555446389119791\n",
      "cluster in decomposition:  {1, 'Blackbox3'}\n",
      "cluster in decomposition:  {2, 'Blackbox5'}\n",
      "cluster in decomposition:  {7, 'Blackbox6', 8, 10, 11, 9}\n",
      "decomposition score:  0.045554463891197904\n",
      "cluster in decomposition:  {1, 'Blackbox3'}\n",
      "cluster in decomposition:  {2, 'Blackbox5'}\n",
      "cluster in decomposition:  {7, 'Blackbox6', 8, 10, 11, 12, 9}\n",
      "decomposition score:  0.05555446389119791\n",
      "cluster in decomposition:  {1, 'Blackbox3'}\n",
      "cluster in decomposition:  {4, 'Blackbox5'}\n",
      "cluster in decomposition:  {'Blackbox6', 7}\n",
      "decomposition score:  0.06\n",
      "cluster in decomposition:  {1, 'Blackbox3'}\n",
      "cluster in decomposition:  {4, 'Blackbox5'}\n",
      "cluster in decomposition:  {'Blackbox6', 8, 7}\n",
      "decomposition score:  0.07\n",
      "cluster in decomposition:  {1, 'Blackbox3'}\n",
      "cluster in decomposition:  {4, 'Blackbox5'}\n",
      "cluster in decomposition:  {'Blackbox6', 8, 9, 7}\n",
      "decomposition score:  0.08\n",
      "cluster in decomposition:  {1, 'Blackbox3'}\n",
      "cluster in decomposition:  {4, 'Blackbox5'}\n",
      "cluster in decomposition:  {7, 'Blackbox6', 8, 10, 9}\n",
      "decomposition score:  0.09\n",
      "cluster in decomposition:  {1, 'Blackbox3'}\n",
      "cluster in decomposition:  {4, 'Blackbox5'}\n",
      "cluster in decomposition:  {7, 'Blackbox6', 8, 10, 11, 9}\n",
      "decomposition score:  0.1\n",
      "cluster in decomposition:  {1, 'Blackbox3'}\n",
      "cluster in decomposition:  {4, 'Blackbox5'}\n",
      "cluster in decomposition:  {7, 'Blackbox6', 8, 10, 11, 12, 9}\n",
      "decomposition score:  0.11000000000000001\n",
      "cluster in decomposition:  {1, 'Blackbox3'}\n",
      "cluster in decomposition:  {2, 4, 'Blackbox5'}\n",
      "cluster in decomposition:  {'Blackbox6', 7}\n",
      "decomposition score:  0.015554463891197908\n",
      "cluster in decomposition:  {1, 'Blackbox3'}\n",
      "cluster in decomposition:  {2, 4, 'Blackbox5'}\n",
      "cluster in decomposition:  {'Blackbox6', 8, 7}\n",
      "decomposition score:  0.025554463891197907\n",
      "cluster in decomposition:  {1, 'Blackbox3'}\n",
      "cluster in decomposition:  {2, 4, 'Blackbox5'}\n",
      "cluster in decomposition:  {'Blackbox6', 8, 9, 7}\n",
      "decomposition score:  0.03555446389119791\n",
      "cluster in decomposition:  {1, 'Blackbox3'}\n",
      "cluster in decomposition:  {2, 4, 'Blackbox5'}\n",
      "cluster in decomposition:  {7, 'Blackbox6', 8, 10, 9}\n",
      "decomposition score:  0.04555446389119791\n",
      "cluster in decomposition:  {1, 'Blackbox3'}\n",
      "cluster in decomposition:  {2, 4, 'Blackbox5'}\n",
      "cluster in decomposition:  {7, 'Blackbox6', 8, 10, 11, 9}\n",
      "decomposition score:  0.055554463891197906\n",
      "cluster in decomposition:  {1, 'Blackbox3'}\n",
      "cluster in decomposition:  {2, 4, 'Blackbox5'}\n",
      "cluster in decomposition:  {7, 'Blackbox6', 8, 10, 11, 12, 9}\n",
      "decomposition score:  0.06555446389119791\n",
      "cluster in decomposition:  {1, 'Blackbox3'}\n",
      "cluster in decomposition:  {2, 4, 'Blackbox5'}\n",
      "cluster in decomposition:  {'Blackbox6', 7}\n",
      "decomposition score:  0.015554463891197908\n",
      "cluster in decomposition:  {1, 'Blackbox3'}\n",
      "cluster in decomposition:  {2, 4, 'Blackbox5'}\n",
      "cluster in decomposition:  {'Blackbox6', 8, 7}\n",
      "decomposition score:  0.025554463891197907\n",
      "cluster in decomposition:  {1, 'Blackbox3'}\n",
      "cluster in decomposition:  {2, 4, 'Blackbox5'}\n",
      "cluster in decomposition:  {'Blackbox6', 8, 9, 7}\n",
      "decomposition score:  0.03555446389119791\n",
      "cluster in decomposition:  {1, 'Blackbox3'}\n",
      "cluster in decomposition:  {2, 4, 'Blackbox5'}\n",
      "cluster in decomposition:  {7, 'Blackbox6', 8, 10, 9}\n",
      "decomposition score:  0.04555446389119791\n",
      "cluster in decomposition:  {1, 'Blackbox3'}\n",
      "cluster in decomposition:  {2, 4, 'Blackbox5'}\n",
      "cluster in decomposition:  {7, 'Blackbox6', 8, 10, 11, 9}\n",
      "decomposition score:  0.055554463891197906\n",
      "cluster in decomposition:  {1, 'Blackbox3'}\n",
      "cluster in decomposition:  {2, 4, 'Blackbox5'}\n",
      "cluster in decomposition:  {7, 'Blackbox6', 8, 10, 11, 12, 9}\n",
      "decomposition score:  0.06555446389119791\n",
      "cluster in decomposition:  {2, 'Blackbox3'}\n",
      "cluster in decomposition:  {4, 'Blackbox5'}\n",
      "cluster in decomposition:  {'Blackbox6', 7}\n",
      "decomposition score:  0.00555446389119791\n",
      "cluster in decomposition:  {2, 'Blackbox3'}\n",
      "cluster in decomposition:  {4, 'Blackbox5'}\n",
      "cluster in decomposition:  {'Blackbox6', 8, 7}\n",
      "decomposition score:  0.015554463891197908\n",
      "cluster in decomposition:  {2, 'Blackbox3'}\n",
      "cluster in decomposition:  {4, 'Blackbox5'}\n",
      "cluster in decomposition:  {'Blackbox6', 8, 9, 7}\n",
      "decomposition score:  0.02555446389119791\n",
      "cluster in decomposition:  {2, 'Blackbox3'}\n",
      "cluster in decomposition:  {4, 'Blackbox5'}\n",
      "cluster in decomposition:  {7, 'Blackbox6', 8, 10, 9}\n",
      "decomposition score:  0.035554463891197916\n",
      "cluster in decomposition:  {2, 'Blackbox3'}\n",
      "cluster in decomposition:  {4, 'Blackbox5'}\n",
      "cluster in decomposition:  {7, 'Blackbox6', 8, 10, 11, 9}\n",
      "decomposition score:  0.04555446389119791\n",
      "cluster in decomposition:  {2, 'Blackbox3'}\n",
      "cluster in decomposition:  {4, 'Blackbox5'}\n",
      "cluster in decomposition:  {7, 'Blackbox6', 8, 10, 11, 12, 9}\n",
      "decomposition score:  0.05555446389119792\n",
      "cluster in decomposition:  {2, 'Blackbox3'}\n",
      "cluster in decomposition:  {4, 'Blackbox5'}\n",
      "cluster in decomposition:  {'Blackbox6', 7}\n",
      "decomposition score:  0.00555446389119791\n",
      "cluster in decomposition:  {2, 'Blackbox3'}\n",
      "cluster in decomposition:  {4, 'Blackbox5'}\n",
      "cluster in decomposition:  {'Blackbox6', 8, 7}\n",
      "decomposition score:  0.015554463891197908\n",
      "cluster in decomposition:  {2, 'Blackbox3'}\n",
      "cluster in decomposition:  {4, 'Blackbox5'}\n",
      "cluster in decomposition:  {'Blackbox6', 8, 9, 7}\n",
      "decomposition score:  0.02555446389119791\n",
      "cluster in decomposition:  {2, 'Blackbox3'}\n",
      "cluster in decomposition:  {4, 'Blackbox5'}\n",
      "cluster in decomposition:  {7, 'Blackbox6', 8, 10, 9}\n",
      "decomposition score:  0.035554463891197916\n",
      "cluster in decomposition:  {2, 'Blackbox3'}\n",
      "cluster in decomposition:  {4, 'Blackbox5'}\n",
      "cluster in decomposition:  {7, 'Blackbox6', 8, 10, 11, 9}\n",
      "decomposition score:  0.04555446389119791\n",
      "cluster in decomposition:  {2, 'Blackbox3'}\n",
      "cluster in decomposition:  {4, 'Blackbox5'}\n",
      "cluster in decomposition:  {7, 'Blackbox6', 8, 10, 11, 12, 9}\n",
      "decomposition score:  0.05555446389119792\n",
      "cluster in decomposition:  {'Blackbox3', 4}\n",
      "cluster in decomposition:  {2, 'Blackbox5'}\n",
      "cluster in decomposition:  {'Blackbox6', 7}\n",
      "decomposition score:  -0.11585373871633879\n",
      "cluster in decomposition:  {'Blackbox3', 4}\n",
      "cluster in decomposition:  {2, 'Blackbox5'}\n",
      "cluster in decomposition:  {'Blackbox6', 8, 7}\n",
      "decomposition score:  -0.1058537387163388\n",
      "cluster in decomposition:  {'Blackbox3', 4}\n",
      "cluster in decomposition:  {2, 'Blackbox5'}\n",
      "cluster in decomposition:  {'Blackbox6', 8, 9, 7}\n",
      "decomposition score:  -0.09585373871633879\n",
      "cluster in decomposition:  {'Blackbox3', 4}\n",
      "cluster in decomposition:  {2, 'Blackbox5'}\n",
      "cluster in decomposition:  {7, 'Blackbox6', 8, 10, 9}\n",
      "decomposition score:  -0.08585373871633879\n",
      "cluster in decomposition:  {'Blackbox3', 4}\n",
      "cluster in decomposition:  {2, 'Blackbox5'}\n",
      "cluster in decomposition:  {7, 'Blackbox6', 8, 10, 11, 9}\n",
      "decomposition score:  -0.0758537387163388\n",
      "cluster in decomposition:  {'Blackbox3', 4}\n",
      "cluster in decomposition:  {2, 'Blackbox5'}\n",
      "cluster in decomposition:  {7, 'Blackbox6', 8, 10, 11, 12, 9}\n",
      "decomposition score:  -0.06585373871633879\n",
      "cluster in decomposition:  {'Blackbox3', 4}\n",
      "cluster in decomposition:  {2, 'Blackbox5'}\n",
      "cluster in decomposition:  {'Blackbox6', 7}\n",
      "decomposition score:  -0.11585373871633879\n",
      "cluster in decomposition:  {'Blackbox3', 4}\n",
      "cluster in decomposition:  {2, 'Blackbox5'}\n",
      "cluster in decomposition:  {'Blackbox6', 8, 7}\n",
      "decomposition score:  -0.1058537387163388\n",
      "cluster in decomposition:  {'Blackbox3', 4}\n",
      "cluster in decomposition:  {2, 'Blackbox5'}\n",
      "cluster in decomposition:  {'Blackbox6', 8, 9, 7}\n",
      "decomposition score:  -0.09585373871633879\n",
      "cluster in decomposition:  {'Blackbox3', 4}\n",
      "cluster in decomposition:  {2, 'Blackbox5'}\n",
      "cluster in decomposition:  {7, 'Blackbox6', 8, 10, 9}\n",
      "decomposition score:  -0.08585373871633879\n",
      "cluster in decomposition:  {'Blackbox3', 4}\n",
      "cluster in decomposition:  {2, 'Blackbox5'}\n",
      "cluster in decomposition:  {7, 'Blackbox6', 8, 10, 11, 9}\n",
      "decomposition score:  -0.0758537387163388\n",
      "cluster in decomposition:  {'Blackbox3', 4}\n",
      "cluster in decomposition:  {2, 'Blackbox5'}\n",
      "cluster in decomposition:  {7, 'Blackbox6', 8, 10, 11, 12, 9}\n",
      "decomposition score:  -0.06585373871633879\n",
      "cluster in decomposition:  {1, 'Blackbox3'}\n",
      "cluster in decomposition:  {2, 'Blackbox5'}\n",
      "cluster in decomposition:  {'Blackbox6', 7}\n",
      "decomposition score:  0.005554463891197906\n",
      "cluster in decomposition:  {1, 'Blackbox3'}\n",
      "cluster in decomposition:  {2, 'Blackbox5'}\n",
      "cluster in decomposition:  {'Blackbox6', 8, 7}\n",
      "decomposition score:  0.015554463891197905\n",
      "cluster in decomposition:  {1, 'Blackbox3'}\n",
      "cluster in decomposition:  {2, 'Blackbox5'}\n",
      "cluster in decomposition:  {'Blackbox6', 8, 9, 7}\n",
      "decomposition score:  0.025554463891197907\n",
      "cluster in decomposition:  {1, 'Blackbox3'}\n",
      "cluster in decomposition:  {2, 'Blackbox5'}\n",
      "cluster in decomposition:  {7, 'Blackbox6', 8, 10, 9}\n",
      "decomposition score:  0.03555446389119791\n",
      "cluster in decomposition:  {1, 'Blackbox3'}\n",
      "cluster in decomposition:  {2, 'Blackbox5'}\n",
      "cluster in decomposition:  {7, 'Blackbox6', 8, 10, 11, 9}\n",
      "decomposition score:  0.045554463891197904\n",
      "cluster in decomposition:  {1, 'Blackbox3'}\n",
      "cluster in decomposition:  {2, 'Blackbox5'}\n",
      "cluster in decomposition:  {7, 'Blackbox6', 8, 10, 11, 12, 9}\n",
      "decomposition score:  0.05555446389119791\n",
      "cluster in decomposition:  {1, 'Blackbox3'}\n",
      "cluster in decomposition:  {4, 'Blackbox5'}\n",
      "cluster in decomposition:  {'Blackbox6', 7}\n",
      "decomposition score:  0.06\n",
      "cluster in decomposition:  {1, 'Blackbox3'}\n",
      "cluster in decomposition:  {4, 'Blackbox5'}\n",
      "cluster in decomposition:  {'Blackbox6', 8, 7}\n",
      "decomposition score:  0.07\n",
      "cluster in decomposition:  {1, 'Blackbox3'}\n",
      "cluster in decomposition:  {4, 'Blackbox5'}\n",
      "cluster in decomposition:  {'Blackbox6', 8, 9, 7}\n",
      "decomposition score:  0.08\n",
      "cluster in decomposition:  {1, 'Blackbox3'}\n",
      "cluster in decomposition:  {4, 'Blackbox5'}\n",
      "cluster in decomposition:  {7, 'Blackbox6', 8, 10, 9}\n",
      "decomposition score:  0.09\n",
      "cluster in decomposition:  {1, 'Blackbox3'}\n",
      "cluster in decomposition:  {4, 'Blackbox5'}\n",
      "cluster in decomposition:  {7, 'Blackbox6', 8, 10, 11, 9}\n",
      "decomposition score:  0.1\n",
      "cluster in decomposition:  {1, 'Blackbox3'}\n",
      "cluster in decomposition:  {4, 'Blackbox5'}\n",
      "cluster in decomposition:  {7, 'Blackbox6', 8, 10, 11, 12, 9}\n",
      "decomposition score:  0.11000000000000001\n",
      "cluster in decomposition:  {1, 'Blackbox3'}\n",
      "cluster in decomposition:  {2, 'Blackbox5'}\n",
      "cluster in decomposition:  {'Blackbox6', 7}\n",
      "decomposition score:  0.005554463891197906\n",
      "cluster in decomposition:  {1, 'Blackbox3'}\n",
      "cluster in decomposition:  {2, 'Blackbox5'}\n",
      "cluster in decomposition:  {'Blackbox6', 8, 7}\n",
      "decomposition score:  0.015554463891197905\n",
      "cluster in decomposition:  {1, 'Blackbox3'}\n",
      "cluster in decomposition:  {2, 'Blackbox5'}\n",
      "cluster in decomposition:  {'Blackbox6', 8, 9, 7}\n",
      "decomposition score:  0.025554463891197907\n",
      "cluster in decomposition:  {1, 'Blackbox3'}\n",
      "cluster in decomposition:  {2, 'Blackbox5'}\n",
      "cluster in decomposition:  {7, 'Blackbox6', 8, 10, 9}\n",
      "decomposition score:  0.03555446389119791\n",
      "cluster in decomposition:  {1, 'Blackbox3'}\n",
      "cluster in decomposition:  {2, 'Blackbox5'}\n",
      "cluster in decomposition:  {7, 'Blackbox6', 8, 10, 11, 9}\n",
      "decomposition score:  0.045554463891197904\n",
      "cluster in decomposition:  {1, 'Blackbox3'}\n",
      "cluster in decomposition:  {2, 'Blackbox5'}\n",
      "cluster in decomposition:  {7, 'Blackbox6', 8, 10, 11, 12, 9}\n",
      "decomposition score:  0.05555446389119791\n",
      "cluster in decomposition:  {1, 'Blackbox3'}\n",
      "cluster in decomposition:  {4, 'Blackbox5'}\n",
      "cluster in decomposition:  {'Blackbox6', 7}\n",
      "decomposition score:  0.06\n",
      "cluster in decomposition:  {1, 'Blackbox3'}\n",
      "cluster in decomposition:  {4, 'Blackbox5'}\n",
      "cluster in decomposition:  {'Blackbox6', 8, 7}\n",
      "decomposition score:  0.07\n",
      "cluster in decomposition:  {1, 'Blackbox3'}\n",
      "cluster in decomposition:  {4, 'Blackbox5'}\n",
      "cluster in decomposition:  {'Blackbox6', 8, 9, 7}\n",
      "decomposition score:  0.08\n",
      "cluster in decomposition:  {1, 'Blackbox3'}\n",
      "cluster in decomposition:  {4, 'Blackbox5'}\n",
      "cluster in decomposition:  {7, 'Blackbox6', 8, 10, 9}\n",
      "decomposition score:  0.09\n",
      "cluster in decomposition:  {1, 'Blackbox3'}\n",
      "cluster in decomposition:  {4, 'Blackbox5'}\n",
      "cluster in decomposition:  {7, 'Blackbox6', 8, 10, 11, 9}\n",
      "decomposition score:  0.1\n",
      "cluster in decomposition:  {1, 'Blackbox3'}\n",
      "cluster in decomposition:  {4, 'Blackbox5'}\n",
      "cluster in decomposition:  {7, 'Blackbox6', 8, 10, 11, 12, 9}\n",
      "decomposition score:  0.11000000000000001\n",
      "cluster in decomposition:  {1, 'Blackbox3'}\n",
      "cluster in decomposition:  {2, 4, 'Blackbox5'}\n",
      "cluster in decomposition:  {'Blackbox6', 7}\n",
      "decomposition score:  0.015554463891197908\n",
      "cluster in decomposition:  {1, 'Blackbox3'}\n",
      "cluster in decomposition:  {2, 4, 'Blackbox5'}\n",
      "cluster in decomposition:  {'Blackbox6', 8, 7}\n",
      "decomposition score:  0.025554463891197907\n",
      "cluster in decomposition:  {1, 'Blackbox3'}\n",
      "cluster in decomposition:  {2, 4, 'Blackbox5'}\n",
      "cluster in decomposition:  {'Blackbox6', 8, 9, 7}\n",
      "decomposition score:  0.03555446389119791\n",
      "cluster in decomposition:  {1, 'Blackbox3'}\n",
      "cluster in decomposition:  {2, 4, 'Blackbox5'}\n",
      "cluster in decomposition:  {7, 'Blackbox6', 8, 10, 9}\n",
      "decomposition score:  0.04555446389119791\n",
      "cluster in decomposition:  {1, 'Blackbox3'}\n",
      "cluster in decomposition:  {2, 4, 'Blackbox5'}\n",
      "cluster in decomposition:  {7, 'Blackbox6', 8, 10, 11, 9}\n",
      "decomposition score:  0.055554463891197906\n",
      "cluster in decomposition:  {1, 'Blackbox3'}\n",
      "cluster in decomposition:  {2, 4, 'Blackbox5'}\n",
      "cluster in decomposition:  {7, 'Blackbox6', 8, 10, 11, 12, 9}\n",
      "decomposition score:  0.06555446389119791\n",
      "cluster in decomposition:  {1, 'Blackbox3'}\n",
      "cluster in decomposition:  {2, 4, 'Blackbox5'}\n",
      "cluster in decomposition:  {'Blackbox6', 7}\n",
      "decomposition score:  0.015554463891197908\n",
      "cluster in decomposition:  {1, 'Blackbox3'}\n",
      "cluster in decomposition:  {2, 4, 'Blackbox5'}\n",
      "cluster in decomposition:  {'Blackbox6', 8, 7}\n",
      "decomposition score:  0.025554463891197907\n",
      "cluster in decomposition:  {1, 'Blackbox3'}\n",
      "cluster in decomposition:  {2, 4, 'Blackbox5'}\n",
      "cluster in decomposition:  {'Blackbox6', 8, 9, 7}\n",
      "decomposition score:  0.03555446389119791\n",
      "cluster in decomposition:  {1, 'Blackbox3'}\n",
      "cluster in decomposition:  {2, 4, 'Blackbox5'}\n",
      "cluster in decomposition:  {7, 'Blackbox6', 8, 10, 9}\n",
      "decomposition score:  0.04555446389119791\n",
      "cluster in decomposition:  {1, 'Blackbox3'}\n",
      "cluster in decomposition:  {2, 4, 'Blackbox5'}\n",
      "cluster in decomposition:  {7, 'Blackbox6', 8, 10, 11, 9}\n",
      "decomposition score:  0.055554463891197906\n",
      "cluster in decomposition:  {1, 'Blackbox3'}\n",
      "cluster in decomposition:  {2, 4, 'Blackbox5'}\n",
      "cluster in decomposition:  {7, 'Blackbox6', 8, 10, 11, 12, 9}\n",
      "decomposition score:  0.06555446389119791\n",
      "cluster in decomposition:  {2, 'Blackbox3'}\n",
      "cluster in decomposition:  {4, 'Blackbox5'}\n",
      "cluster in decomposition:  {'Blackbox6', 7}\n",
      "decomposition score:  0.00555446389119791\n",
      "cluster in decomposition:  {2, 'Blackbox3'}\n",
      "cluster in decomposition:  {4, 'Blackbox5'}\n",
      "cluster in decomposition:  {'Blackbox6', 8, 7}\n",
      "decomposition score:  0.015554463891197908\n",
      "cluster in decomposition:  {2, 'Blackbox3'}\n",
      "cluster in decomposition:  {4, 'Blackbox5'}\n",
      "cluster in decomposition:  {'Blackbox6', 8, 9, 7}\n",
      "decomposition score:  0.02555446389119791\n",
      "cluster in decomposition:  {2, 'Blackbox3'}\n",
      "cluster in decomposition:  {4, 'Blackbox5'}\n",
      "cluster in decomposition:  {7, 'Blackbox6', 8, 10, 9}\n",
      "decomposition score:  0.035554463891197916\n",
      "cluster in decomposition:  {2, 'Blackbox3'}\n",
      "cluster in decomposition:  {4, 'Blackbox5'}\n",
      "cluster in decomposition:  {7, 'Blackbox6', 8, 10, 11, 9}\n",
      "decomposition score:  0.04555446389119791\n",
      "cluster in decomposition:  {2, 'Blackbox3'}\n",
      "cluster in decomposition:  {4, 'Blackbox5'}\n",
      "cluster in decomposition:  {7, 'Blackbox6', 8, 10, 11, 12, 9}\n",
      "decomposition score:  0.05555446389119792\n",
      "cluster in decomposition:  {2, 'Blackbox3'}\n",
      "cluster in decomposition:  {4, 'Blackbox5'}\n",
      "cluster in decomposition:  {'Blackbox6', 7}\n",
      "decomposition score:  0.00555446389119791\n",
      "cluster in decomposition:  {2, 'Blackbox3'}\n",
      "cluster in decomposition:  {4, 'Blackbox5'}\n",
      "cluster in decomposition:  {'Blackbox6', 8, 7}\n",
      "decomposition score:  0.015554463891197908\n",
      "cluster in decomposition:  {2, 'Blackbox3'}\n",
      "cluster in decomposition:  {4, 'Blackbox5'}\n",
      "cluster in decomposition:  {'Blackbox6', 8, 9, 7}\n",
      "decomposition score:  0.02555446389119791\n",
      "cluster in decomposition:  {2, 'Blackbox3'}\n",
      "cluster in decomposition:  {4, 'Blackbox5'}\n",
      "cluster in decomposition:  {7, 'Blackbox6', 8, 10, 9}\n",
      "decomposition score:  0.035554463891197916\n",
      "cluster in decomposition:  {2, 'Blackbox3'}\n",
      "cluster in decomposition:  {4, 'Blackbox5'}\n",
      "cluster in decomposition:  {7, 'Blackbox6', 8, 10, 11, 9}\n",
      "decomposition score:  0.04555446389119791\n",
      "cluster in decomposition:  {2, 'Blackbox3'}\n",
      "cluster in decomposition:  {4, 'Blackbox5'}\n",
      "cluster in decomposition:  {7, 'Blackbox6', 8, 10, 11, 12, 9}\n",
      "decomposition score:  0.05555446389119792\n",
      "cluster in decomposition:  {'Blackbox3', 4}\n",
      "cluster in decomposition:  {2, 'Blackbox5'}\n",
      "cluster in decomposition:  {'Blackbox6', 7}\n",
      "decomposition score:  -0.11585373871633879\n",
      "cluster in decomposition:  {'Blackbox3', 4}\n",
      "cluster in decomposition:  {2, 'Blackbox5'}\n",
      "cluster in decomposition:  {'Blackbox6', 8, 7}\n",
      "decomposition score:  -0.1058537387163388\n",
      "cluster in decomposition:  {'Blackbox3', 4}\n",
      "cluster in decomposition:  {2, 'Blackbox5'}\n",
      "cluster in decomposition:  {'Blackbox6', 8, 9, 7}\n",
      "decomposition score:  -0.09585373871633879\n",
      "cluster in decomposition:  {'Blackbox3', 4}\n",
      "cluster in decomposition:  {2, 'Blackbox5'}\n",
      "cluster in decomposition:  {7, 'Blackbox6', 8, 10, 9}\n",
      "decomposition score:  -0.08585373871633879\n",
      "cluster in decomposition:  {'Blackbox3', 4}\n",
      "cluster in decomposition:  {2, 'Blackbox5'}\n",
      "cluster in decomposition:  {7, 'Blackbox6', 8, 10, 11, 9}\n",
      "decomposition score:  -0.0758537387163388\n",
      "cluster in decomposition:  {'Blackbox3', 4}\n",
      "cluster in decomposition:  {2, 'Blackbox5'}\n",
      "cluster in decomposition:  {7, 'Blackbox6', 8, 10, 11, 12, 9}\n",
      "decomposition score:  -0.06585373871633879\n",
      "cluster in decomposition:  {'Blackbox3', 4}\n",
      "cluster in decomposition:  {2, 'Blackbox5'}\n",
      "cluster in decomposition:  {'Blackbox6', 7}\n",
      "decomposition score:  -0.11585373871633879\n",
      "cluster in decomposition:  {'Blackbox3', 4}\n",
      "cluster in decomposition:  {2, 'Blackbox5'}\n",
      "cluster in decomposition:  {'Blackbox6', 8, 7}\n",
      "decomposition score:  -0.1058537387163388\n",
      "cluster in decomposition:  {'Blackbox3', 4}\n",
      "cluster in decomposition:  {2, 'Blackbox5'}\n",
      "cluster in decomposition:  {'Blackbox6', 8, 9, 7}\n",
      "decomposition score:  -0.09585373871633879\n",
      "cluster in decomposition:  {'Blackbox3', 4}\n",
      "cluster in decomposition:  {2, 'Blackbox5'}\n",
      "cluster in decomposition:  {7, 'Blackbox6', 8, 10, 9}\n",
      "decomposition score:  -0.08585373871633879\n",
      "cluster in decomposition:  {'Blackbox3', 4}\n",
      "cluster in decomposition:  {2, 'Blackbox5'}\n",
      "cluster in decomposition:  {7, 'Blackbox6', 8, 10, 11, 9}\n",
      "decomposition score:  -0.0758537387163388\n",
      "cluster in decomposition:  {'Blackbox3', 4}\n",
      "cluster in decomposition:  {2, 'Blackbox5'}\n",
      "cluster in decomposition:  {7, 'Blackbox6', 8, 10, 11, 12, 9}\n",
      "decomposition score:  -0.06585373871633879\n",
      "cluster in decomposition:  {1, 2, 'Blackbox3'}\n",
      "cluster in decomposition:  {4, 'Blackbox5'}\n",
      "cluster in decomposition:  {'Blackbox6', 7}\n",
      "decomposition score:  0.015554463891197905\n",
      "cluster in decomposition:  {1, 2, 'Blackbox3'}\n",
      "cluster in decomposition:  {4, 'Blackbox5'}\n",
      "cluster in decomposition:  {'Blackbox6', 8, 7}\n",
      "decomposition score:  0.025554463891197903\n",
      "cluster in decomposition:  {1, 2, 'Blackbox3'}\n",
      "cluster in decomposition:  {4, 'Blackbox5'}\n",
      "cluster in decomposition:  {'Blackbox6', 8, 9, 7}\n",
      "decomposition score:  0.0355544638911979\n",
      "cluster in decomposition:  {1, 2, 'Blackbox3'}\n",
      "cluster in decomposition:  {4, 'Blackbox5'}\n",
      "cluster in decomposition:  {7, 'Blackbox6', 8, 10, 9}\n",
      "decomposition score:  0.04555446389119791\n",
      "cluster in decomposition:  {1, 2, 'Blackbox3'}\n",
      "cluster in decomposition:  {4, 'Blackbox5'}\n",
      "cluster in decomposition:  {7, 'Blackbox6', 8, 10, 11, 9}\n",
      "decomposition score:  0.055554463891197906\n",
      "cluster in decomposition:  {1, 2, 'Blackbox3'}\n",
      "cluster in decomposition:  {4, 'Blackbox5'}\n",
      "cluster in decomposition:  {7, 'Blackbox6', 8, 10, 11, 12, 9}\n",
      "decomposition score:  0.06555446389119791\n",
      "cluster in decomposition:  {1, 2, 'Blackbox3'}\n",
      "cluster in decomposition:  {4, 'Blackbox5'}\n",
      "cluster in decomposition:  {'Blackbox6', 7}\n",
      "decomposition score:  0.015554463891197905\n",
      "cluster in decomposition:  {1, 2, 'Blackbox3'}\n",
      "cluster in decomposition:  {4, 'Blackbox5'}\n",
      "cluster in decomposition:  {'Blackbox6', 8, 7}\n",
      "decomposition score:  0.025554463891197903\n",
      "cluster in decomposition:  {1, 2, 'Blackbox3'}\n",
      "cluster in decomposition:  {4, 'Blackbox5'}\n",
      "cluster in decomposition:  {'Blackbox6', 8, 9, 7}\n",
      "decomposition score:  0.0355544638911979\n",
      "cluster in decomposition:  {1, 2, 'Blackbox3'}\n",
      "cluster in decomposition:  {4, 'Blackbox5'}\n",
      "cluster in decomposition:  {7, 'Blackbox6', 8, 10, 9}\n",
      "decomposition score:  0.04555446389119791\n",
      "cluster in decomposition:  {1, 2, 'Blackbox3'}\n",
      "cluster in decomposition:  {4, 'Blackbox5'}\n",
      "cluster in decomposition:  {7, 'Blackbox6', 8, 10, 11, 9}\n",
      "decomposition score:  0.055554463891197906\n",
      "cluster in decomposition:  {1, 2, 'Blackbox3'}\n",
      "cluster in decomposition:  {4, 'Blackbox5'}\n",
      "cluster in decomposition:  {7, 'Blackbox6', 8, 10, 11, 12, 9}\n",
      "decomposition score:  0.06555446389119791\n",
      "cluster in decomposition:  {1, 'Blackbox3', 4}\n",
      "cluster in decomposition:  {2, 'Blackbox5'}\n",
      "cluster in decomposition:  {'Blackbox6', 7}\n",
      "decomposition score:  -0.10585373871633881\n",
      "cluster in decomposition:  {1, 'Blackbox3', 4}\n",
      "cluster in decomposition:  {2, 'Blackbox5'}\n",
      "cluster in decomposition:  {'Blackbox6', 8, 7}\n",
      "decomposition score:  -0.09585373871633882\n",
      "cluster in decomposition:  {1, 'Blackbox3', 4}\n",
      "cluster in decomposition:  {2, 'Blackbox5'}\n",
      "cluster in decomposition:  {'Blackbox6', 8, 9, 7}\n",
      "decomposition score:  -0.0858537387163388\n",
      "cluster in decomposition:  {1, 'Blackbox3', 4}\n",
      "cluster in decomposition:  {2, 'Blackbox5'}\n",
      "cluster in decomposition:  {7, 'Blackbox6', 8, 10, 9}\n",
      "decomposition score:  -0.07585373871633881\n",
      "cluster in decomposition:  {1, 'Blackbox3', 4}\n",
      "cluster in decomposition:  {2, 'Blackbox5'}\n",
      "cluster in decomposition:  {7, 'Blackbox6', 8, 10, 11, 9}\n",
      "decomposition score:  -0.06585373871633882\n",
      "cluster in decomposition:  {1, 'Blackbox3', 4}\n",
      "cluster in decomposition:  {2, 'Blackbox5'}\n",
      "cluster in decomposition:  {7, 'Blackbox6', 8, 10, 11, 12, 9}\n",
      "decomposition score:  -0.05585373871633881\n",
      "cluster in decomposition:  {1, 'Blackbox3', 4}\n",
      "cluster in decomposition:  {2, 'Blackbox5'}\n",
      "cluster in decomposition:  {'Blackbox6', 7}\n",
      "decomposition score:  -0.10585373871633881\n",
      "cluster in decomposition:  {1, 'Blackbox3', 4}\n",
      "cluster in decomposition:  {2, 'Blackbox5'}\n",
      "cluster in decomposition:  {'Blackbox6', 8, 7}\n",
      "decomposition score:  -0.09585373871633882\n",
      "cluster in decomposition:  {1, 'Blackbox3', 4}\n",
      "cluster in decomposition:  {2, 'Blackbox5'}\n",
      "cluster in decomposition:  {'Blackbox6', 8, 9, 7}\n",
      "decomposition score:  -0.0858537387163388\n",
      "cluster in decomposition:  {1, 'Blackbox3', 4}\n",
      "cluster in decomposition:  {2, 'Blackbox5'}\n",
      "cluster in decomposition:  {7, 'Blackbox6', 8, 10, 9}\n",
      "decomposition score:  -0.07585373871633881\n",
      "cluster in decomposition:  {1, 'Blackbox3', 4}\n",
      "cluster in decomposition:  {2, 'Blackbox5'}\n",
      "cluster in decomposition:  {7, 'Blackbox6', 8, 10, 11, 9}\n",
      "decomposition score:  -0.06585373871633882\n",
      "cluster in decomposition:  {1, 'Blackbox3', 4}\n",
      "cluster in decomposition:  {2, 'Blackbox5'}\n",
      "cluster in decomposition:  {7, 'Blackbox6', 8, 10, 11, 12, 9}\n",
      "decomposition score:  -0.05585373871633881\n",
      "cluster in decomposition:  {1, 2, 'Blackbox3'}\n",
      "cluster in decomposition:  {4, 'Blackbox5'}\n",
      "cluster in decomposition:  {'Blackbox6', 7}\n",
      "decomposition score:  0.015554463891197905\n",
      "cluster in decomposition:  {1, 2, 'Blackbox3'}\n",
      "cluster in decomposition:  {4, 'Blackbox5'}\n",
      "cluster in decomposition:  {'Blackbox6', 8, 7}\n",
      "decomposition score:  0.025554463891197903\n",
      "cluster in decomposition:  {1, 2, 'Blackbox3'}\n",
      "cluster in decomposition:  {4, 'Blackbox5'}\n",
      "cluster in decomposition:  {'Blackbox6', 8, 9, 7}\n",
      "decomposition score:  0.0355544638911979\n",
      "cluster in decomposition:  {1, 2, 'Blackbox3'}\n",
      "cluster in decomposition:  {4, 'Blackbox5'}\n",
      "cluster in decomposition:  {7, 'Blackbox6', 8, 10, 9}\n",
      "decomposition score:  0.04555446389119791\n",
      "cluster in decomposition:  {1, 2, 'Blackbox3'}\n",
      "cluster in decomposition:  {4, 'Blackbox5'}\n",
      "cluster in decomposition:  {7, 'Blackbox6', 8, 10, 11, 9}\n",
      "decomposition score:  0.055554463891197906\n",
      "cluster in decomposition:  {1, 2, 'Blackbox3'}\n",
      "cluster in decomposition:  {4, 'Blackbox5'}\n",
      "cluster in decomposition:  {7, 'Blackbox6', 8, 10, 11, 12, 9}\n",
      "decomposition score:  0.06555446389119791\n",
      "cluster in decomposition:  {1, 2, 'Blackbox3'}\n",
      "cluster in decomposition:  {4, 'Blackbox5'}\n",
      "cluster in decomposition:  {'Blackbox6', 7}\n",
      "decomposition score:  0.015554463891197905\n",
      "cluster in decomposition:  {1, 2, 'Blackbox3'}\n",
      "cluster in decomposition:  {4, 'Blackbox5'}\n",
      "cluster in decomposition:  {'Blackbox6', 8, 7}\n",
      "decomposition score:  0.025554463891197903\n",
      "cluster in decomposition:  {1, 2, 'Blackbox3'}\n",
      "cluster in decomposition:  {4, 'Blackbox5'}\n",
      "cluster in decomposition:  {'Blackbox6', 8, 9, 7}\n",
      "decomposition score:  0.0355544638911979\n",
      "cluster in decomposition:  {1, 2, 'Blackbox3'}\n",
      "cluster in decomposition:  {4, 'Blackbox5'}\n",
      "cluster in decomposition:  {7, 'Blackbox6', 8, 10, 9}\n",
      "decomposition score:  0.04555446389119791\n",
      "cluster in decomposition:  {1, 2, 'Blackbox3'}\n",
      "cluster in decomposition:  {4, 'Blackbox5'}\n",
      "cluster in decomposition:  {7, 'Blackbox6', 8, 10, 11, 9}\n",
      "decomposition score:  0.055554463891197906\n",
      "cluster in decomposition:  {1, 2, 'Blackbox3'}\n",
      "cluster in decomposition:  {4, 'Blackbox5'}\n",
      "cluster in decomposition:  {7, 'Blackbox6', 8, 10, 11, 12, 9}\n",
      "decomposition score:  0.06555446389119791\n",
      "cluster in decomposition:  {1, 'Blackbox3', 4}\n",
      "cluster in decomposition:  {2, 'Blackbox5'}\n",
      "cluster in decomposition:  {'Blackbox6', 7}\n",
      "decomposition score:  -0.10585373871633881\n",
      "cluster in decomposition:  {1, 'Blackbox3', 4}\n",
      "cluster in decomposition:  {2, 'Blackbox5'}\n",
      "cluster in decomposition:  {'Blackbox6', 8, 7}\n",
      "decomposition score:  -0.09585373871633882\n",
      "cluster in decomposition:  {1, 'Blackbox3', 4}\n",
      "cluster in decomposition:  {2, 'Blackbox5'}\n",
      "cluster in decomposition:  {'Blackbox6', 8, 9, 7}\n",
      "decomposition score:  -0.0858537387163388\n",
      "cluster in decomposition:  {1, 'Blackbox3', 4}\n",
      "cluster in decomposition:  {2, 'Blackbox5'}\n",
      "cluster in decomposition:  {7, 'Blackbox6', 8, 10, 9}\n",
      "decomposition score:  -0.07585373871633881\n",
      "cluster in decomposition:  {1, 'Blackbox3', 4}\n",
      "cluster in decomposition:  {2, 'Blackbox5'}\n",
      "cluster in decomposition:  {7, 'Blackbox6', 8, 10, 11, 9}\n",
      "decomposition score:  -0.06585373871633882\n",
      "cluster in decomposition:  {1, 'Blackbox3', 4}\n",
      "cluster in decomposition:  {2, 'Blackbox5'}\n",
      "cluster in decomposition:  {7, 'Blackbox6', 8, 10, 11, 12, 9}\n",
      "decomposition score:  -0.05585373871633881\n",
      "cluster in decomposition:  {1, 'Blackbox3', 4}\n",
      "cluster in decomposition:  {2, 'Blackbox5'}\n",
      "cluster in decomposition:  {'Blackbox6', 7}\n",
      "decomposition score:  -0.10585373871633881\n",
      "cluster in decomposition:  {1, 'Blackbox3', 4}\n",
      "cluster in decomposition:  {2, 'Blackbox5'}\n",
      "cluster in decomposition:  {'Blackbox6', 8, 7}\n",
      "decomposition score:  -0.09585373871633882\n",
      "cluster in decomposition:  {1, 'Blackbox3', 4}\n",
      "cluster in decomposition:  {2, 'Blackbox5'}\n",
      "cluster in decomposition:  {'Blackbox6', 8, 9, 7}\n",
      "decomposition score:  -0.0858537387163388\n",
      "cluster in decomposition:  {1, 'Blackbox3', 4}\n",
      "cluster in decomposition:  {2, 'Blackbox5'}\n",
      "cluster in decomposition:  {7, 'Blackbox6', 8, 10, 9}\n",
      "decomposition score:  -0.07585373871633881\n",
      "cluster in decomposition:  {1, 'Blackbox3', 4}\n",
      "cluster in decomposition:  {2, 'Blackbox5'}\n",
      "cluster in decomposition:  {7, 'Blackbox6', 8, 10, 11, 9}\n",
      "decomposition score:  -0.06585373871633882\n",
      "cluster in decomposition:  {1, 'Blackbox3', 4}\n",
      "cluster in decomposition:  {2, 'Blackbox5'}\n",
      "cluster in decomposition:  {7, 'Blackbox6', 8, 10, 11, 12, 9}\n",
      "decomposition score:  -0.05585373871633881\n",
      "subsystem:  {1, 'Blackbox3'}\n"
     ]
    },
    {
     "data": {
      "image/png": "[encoded data removed]",
      "text/plain": [
       "<Figure size 640x480 with 1 Axes>"
      ]
     },
     "metadata": {},
     "output_type": "display_data"
    },
    {
     "name": "stdout",
     "output_type": "stream",
     "text": [
      "system loss at after descent:  tensor(0.0168, dtype=torch.float64)\n",
      "BO iteration:  0\n",
      "Current best objective:  -10000\n",
      "loss to look for:  tensor([1.6533], dtype=torch.float64)\n"
     ]
    },
    {
     "name": "stderr",
     "output_type": "stream",
     "text": [
      "/home/zhiliang/dev/AutoAI/GraphDecomposition/DirectedFunctionalGraph.py:171: UserWarning: To copy construct from a tensor, it is recommended to use sourceTensor.clone().detach() or sourceTensor.clone().detach().requires_grad_(True), rather than torch.tensor(sourceTensor).\n",
      "  norm_difference = torch.subtract(self.get_local_losses(), torch.tensor(losses))\n"
     ]
    },
    {
     "name": "stdout",
     "output_type": "stream",
     "text": [
      "5\n",
      "20\n",
      "5\n",
      "number to sample:  5\n",
      "[(1,), (3,), (2,), (0,), (4,)]\n",
      "number of combination of params with matching loss:  5\n",
      "candidate: tensor([[0.0065]], dtype=torch.float64)\n",
      "BO iteration:  1\n",
      "Current best objective:  tensor(-2.8717, dtype=torch.float64)\n",
      "loss to look for:  tensor([0.0065], dtype=torch.float64)\n"
     ]
    },
    {
     "name": "stderr",
     "output_type": "stream",
     "text": [
      "/home/zhiliang/dev/AutoAI/GraphDecomposition/DirectedFunctionalGraph.py:296: UserWarning: To copy construct from a tensor, it is recommended to use sourceTensor.clone().detach() or sourceTensor.clone().detach().requires_grad_(True), rather than torch.tensor(sourceTensor).\n",
      "  norm_difference = torch.subtract(torch.tensor(self.get_local_losses()), torch.tensor(losses))\n",
      "/home/zhiliang/.local/lib/python3.10/site-packages/botorch/models/utils/assorted.py:173: InputDataWarning: Input data is not contained to the unit cube. Please consider min-max scaling the input data.\n",
      "  warnings.warn(msg, InputDataWarning)\n",
      "/home/zhiliang/.local/lib/python3.10/site-packages/botorch/models/utils/assorted.py:201: InputDataWarning: Input data is not standardized. Please consider scaling the input to zero mean and unit variance.\n",
      "  warnings.warn(msg, InputDataWarning)\n",
      "/home/zhiliang/dev/AutoAI/GraphDecomposition/DirectedFunctionalGraph.py:171: UserWarning: To copy construct from a tensor, it is recommended to use sourceTensor.clone().detach() or sourceTensor.clone().detach().requires_grad_(True), rather than torch.tensor(sourceTensor).\n",
      "  norm_difference = torch.subtract(self.get_local_losses(), torch.tensor(losses))\n"
     ]
    },
    {
     "name": "stdout",
     "output_type": "stream",
     "text": [
      "5\n",
      "20\n",
      "5\n",
      "number to sample:  5\n",
      "[(4,), (1,), (3,), (2,), (0,)]\n",
      "number of combination of params with matching loss:  5\n",
      "candidate: tensor([[0.0022]], dtype=torch.float64)\n",
      "BO iteration:  2\n",
      "Current best objective:  tensor(-0.0156, dtype=torch.float64)\n",
      "loss to look for:  tensor([0.0022], dtype=torch.float64)\n"
     ]
    },
    {
     "name": "stderr",
     "output_type": "stream",
     "text": [
      "/home/zhiliang/dev/AutoAI/GraphDecomposition/DirectedFunctionalGraph.py:296: UserWarning: To copy construct from a tensor, it is recommended to use sourceTensor.clone().detach() or sourceTensor.clone().detach().requires_grad_(True), rather than torch.tensor(sourceTensor).\n",
      "  norm_difference = torch.subtract(torch.tensor(self.get_local_losses()), torch.tensor(losses))\n",
      "/home/zhiliang/.local/lib/python3.10/site-packages/botorch/models/utils/assorted.py:173: InputDataWarning: Input data is not contained to the unit cube. Please consider min-max scaling the input data.\n",
      "  warnings.warn(msg, InputDataWarning)\n",
      "/home/zhiliang/.local/lib/python3.10/site-packages/botorch/models/utils/assorted.py:201: InputDataWarning: Input data is not standardized. Please consider scaling the input to zero mean and unit variance.\n",
      "  warnings.warn(msg, InputDataWarning)\n",
      "/home/zhiliang/dev/AutoAI/GraphDecomposition/DirectedFunctionalGraph.py:171: UserWarning: To copy construct from a tensor, it is recommended to use sourceTensor.clone().detach() or sourceTensor.clone().detach().requires_grad_(True), rather than torch.tensor(sourceTensor).\n",
      "  norm_difference = torch.subtract(self.get_local_losses(), torch.tensor(losses))\n"
     ]
    },
    {
     "name": "stdout",
     "output_type": "stream",
     "text": [
      "5\n",
      "20\n",
      "5\n",
      "number to sample:  5\n",
      "[(3,), (1,), (2,), (0,), (4,)]\n",
      "number of combination of params with matching loss:  5\n",
      "candidate: tensor([[0.0022]], dtype=torch.float64)\n",
      "BO iteration:  3\n",
      "Current best objective:  tensor(-0.0117, dtype=torch.float64)\n",
      "loss to look for:  tensor([0.0022], dtype=torch.float64)\n"
     ]
    },
    {
     "name": "stderr",
     "output_type": "stream",
     "text": [
      "/home/zhiliang/dev/AutoAI/GraphDecomposition/DirectedFunctionalGraph.py:296: UserWarning: To copy construct from a tensor, it is recommended to use sourceTensor.clone().detach() or sourceTensor.clone().detach().requires_grad_(True), rather than torch.tensor(sourceTensor).\n",
      "  norm_difference = torch.subtract(torch.tensor(self.get_local_losses()), torch.tensor(losses))\n",
      "/home/zhiliang/.local/lib/python3.10/site-packages/botorch/models/utils/assorted.py:173: InputDataWarning: Input data is not contained to the unit cube. Please consider min-max scaling the input data.\n",
      "  warnings.warn(msg, InputDataWarning)\n",
      "/home/zhiliang/.local/lib/python3.10/site-packages/botorch/models/utils/assorted.py:201: InputDataWarning: Input data is not standardized. Please consider scaling the input to zero mean and unit variance.\n",
      "  warnings.warn(msg, InputDataWarning)\n",
      "/home/zhiliang/dev/AutoAI/GraphDecomposition/DirectedFunctionalGraph.py:171: UserWarning: To copy construct from a tensor, it is recommended to use sourceTensor.clone().detach() or sourceTensor.clone().detach().requires_grad_(True), rather than torch.tensor(sourceTensor).\n",
      "  norm_difference = torch.subtract(self.get_local_losses(), torch.tensor(losses))\n"
     ]
    },
    {
     "name": "stdout",
     "output_type": "stream",
     "text": [
      "5\n",
      "20\n",
      "5\n",
      "number to sample:  5\n",
      "[(0,), (1,), (2,), (4,), (3,)]\n",
      "number of combination of params with matching loss:  5\n",
      "candidate: tensor([[0.0065]], dtype=torch.float64)\n",
      "BO iteration:  4\n",
      "Current best objective:  tensor(-0.0117, dtype=torch.float64)\n",
      "loss to look for:  tensor([0.0065], dtype=torch.float64)\n"
     ]
    },
    {
     "name": "stderr",
     "output_type": "stream",
     "text": [
      "/home/zhiliang/dev/AutoAI/GraphDecomposition/DirectedFunctionalGraph.py:296: UserWarning: To copy construct from a tensor, it is recommended to use sourceTensor.clone().detach() or sourceTensor.clone().detach().requires_grad_(True), rather than torch.tensor(sourceTensor).\n",
      "  norm_difference = torch.subtract(torch.tensor(self.get_local_losses()), torch.tensor(losses))\n",
      "/home/zhiliang/.local/lib/python3.10/site-packages/botorch/models/utils/assorted.py:173: InputDataWarning: Input data is not contained to the unit cube. Please consider min-max scaling the input data.\n",
      "  warnings.warn(msg, InputDataWarning)\n",
      "/home/zhiliang/.local/lib/python3.10/site-packages/botorch/models/utils/assorted.py:201: InputDataWarning: Input data is not standardized. Please consider scaling the input to zero mean and unit variance.\n",
      "  warnings.warn(msg, InputDataWarning)\n",
      "/home/zhiliang/dev/AutoAI/GraphDecomposition/DirectedFunctionalGraph.py:171: UserWarning: To copy construct from a tensor, it is recommended to use sourceTensor.clone().detach() or sourceTensor.clone().detach().requires_grad_(True), rather than torch.tensor(sourceTensor).\n",
      "  norm_difference = torch.subtract(self.get_local_losses(), torch.tensor(losses))\n"
     ]
    },
    {
     "name": "stdout",
     "output_type": "stream",
     "text": [
      "5\n",
      "20\n",
      "5\n",
      "number to sample:  5\n",
      "[(2,), (1,), (4,), (0,), (3,)]\n",
      "number of combination of params with matching loss:  5\n",
      "candidate: tensor([[0.0065]], dtype=torch.float64)\n",
      "BO iteration:  5\n",
      "Current best objective:  tensor(-0.0062, dtype=torch.float64)\n",
      "loss to look for:  tensor([0.0065], dtype=torch.float64)\n"
     ]
    },
    {
     "name": "stderr",
     "output_type": "stream",
     "text": [
      "/home/zhiliang/dev/AutoAI/GraphDecomposition/DirectedFunctionalGraph.py:296: UserWarning: To copy construct from a tensor, it is recommended to use sourceTensor.clone().detach() or sourceTensor.clone().detach().requires_grad_(True), rather than torch.tensor(sourceTensor).\n",
      "  norm_difference = torch.subtract(torch.tensor(self.get_local_losses()), torch.tensor(losses))\n",
      "/home/zhiliang/.local/lib/python3.10/site-packages/botorch/models/utils/assorted.py:173: InputDataWarning: Input data is not contained to the unit cube. Please consider min-max scaling the input data.\n",
      "  warnings.warn(msg, InputDataWarning)\n",
      "/home/zhiliang/.local/lib/python3.10/site-packages/botorch/models/utils/assorted.py:201: InputDataWarning: Input data is not standardized. Please consider scaling the input to zero mean and unit variance.\n",
      "  warnings.warn(msg, InputDataWarning)\n",
      "/home/zhiliang/dev/AutoAI/GraphDecomposition/DirectedFunctionalGraph.py:171: UserWarning: To copy construct from a tensor, it is recommended to use sourceTensor.clone().detach() or sourceTensor.clone().detach().requires_grad_(True), rather than torch.tensor(sourceTensor).\n",
      "  norm_difference = torch.subtract(self.get_local_losses(), torch.tensor(losses))\n"
     ]
    },
    {
     "name": "stdout",
     "output_type": "stream",
     "text": [
      "5\n",
      "20\n",
      "5\n",
      "number to sample:  5\n",
      "[(3,), (2,), (0,), (1,), (4,)]\n",
      "number of combination of params with matching loss:  5\n",
      "candidate: tensor([[0.0065]], dtype=torch.float64)\n",
      "BO iteration:  6\n",
      "Current best objective:  tensor(-0.0062, dtype=torch.float64)\n",
      "loss to look for:  tensor([0.0065], dtype=torch.float64)\n"
     ]
    },
    {
     "name": "stderr",
     "output_type": "stream",
     "text": [
      "/home/zhiliang/dev/AutoAI/GraphDecomposition/DirectedFunctionalGraph.py:296: UserWarning: To copy construct from a tensor, it is recommended to use sourceTensor.clone().detach() or sourceTensor.clone().detach().requires_grad_(True), rather than torch.tensor(sourceTensor).\n",
      "  norm_difference = torch.subtract(torch.tensor(self.get_local_losses()), torch.tensor(losses))\n",
      "/home/zhiliang/.local/lib/python3.10/site-packages/botorch/models/utils/assorted.py:173: InputDataWarning: Input data is not contained to the unit cube. Please consider min-max scaling the input data.\n",
      "  warnings.warn(msg, InputDataWarning)\n",
      "/home/zhiliang/.local/lib/python3.10/site-packages/botorch/models/utils/assorted.py:201: InputDataWarning: Input data is not standardized. Please consider scaling the input to zero mean and unit variance.\n",
      "  warnings.warn(msg, InputDataWarning)\n",
      "/home/zhiliang/dev/AutoAI/GraphDecomposition/DirectedFunctionalGraph.py:171: UserWarning: To copy construct from a tensor, it is recommended to use sourceTensor.clone().detach() or sourceTensor.clone().detach().requires_grad_(True), rather than torch.tensor(sourceTensor).\n",
      "  norm_difference = torch.subtract(self.get_local_losses(), torch.tensor(losses))\n"
     ]
    },
    {
     "name": "stdout",
     "output_type": "stream",
     "text": [
      "5\n",
      "20\n",
      "5\n",
      "number to sample:  5\n",
      "[(0,), (4,), (2,), (3,), (1,)]\n",
      "number of combination of params with matching loss:  5\n",
      "candidate: tensor([[0.0065]], dtype=torch.float64)\n",
      "BO iteration:  7\n",
      "Current best objective:  tensor(-0.0062, dtype=torch.float64)\n",
      "loss to look for:  tensor([0.0065], dtype=torch.float64)\n"
     ]
    },
    {
     "name": "stderr",
     "output_type": "stream",
     "text": [
      "/home/zhiliang/dev/AutoAI/GraphDecomposition/DirectedFunctionalGraph.py:296: UserWarning: To copy construct from a tensor, it is recommended to use sourceTensor.clone().detach() or sourceTensor.clone().detach().requires_grad_(True), rather than torch.tensor(sourceTensor).\n",
      "  norm_difference = torch.subtract(torch.tensor(self.get_local_losses()), torch.tensor(losses))\n",
      "/home/zhiliang/.local/lib/python3.10/site-packages/botorch/models/utils/assorted.py:173: InputDataWarning: Input data is not contained to the unit cube. Please consider min-max scaling the input data.\n",
      "  warnings.warn(msg, InputDataWarning)\n",
      "/home/zhiliang/.local/lib/python3.10/site-packages/botorch/models/utils/assorted.py:201: InputDataWarning: Input data is not standardized. Please consider scaling the input to zero mean and unit variance.\n",
      "  warnings.warn(msg, InputDataWarning)\n",
      "/home/zhiliang/dev/AutoAI/GraphDecomposition/DirectedFunctionalGraph.py:171: UserWarning: To copy construct from a tensor, it is recommended to use sourceTensor.clone().detach() or sourceTensor.clone().detach().requires_grad_(True), rather than torch.tensor(sourceTensor).\n",
      "  norm_difference = torch.subtract(self.get_local_losses(), torch.tensor(losses))\n"
     ]
    },
    {
     "name": "stdout",
     "output_type": "stream",
     "text": [
      "5\n",
      "20\n",
      "5\n",
      "number to sample:  5\n",
      "[(1,), (4,), (3,), (0,), (2,)]\n",
      "number of combination of params with matching loss:  5\n",
      "candidate: tensor([[0.0065]], dtype=torch.float64)\n",
      "BO iteration:  8\n",
      "Current best objective:  tensor(-0.0062, dtype=torch.float64)\n",
      "loss to look for:  tensor([0.0065], dtype=torch.float64)\n"
     ]
    },
    {
     "name": "stderr",
     "output_type": "stream",
     "text": [
      "/home/zhiliang/dev/AutoAI/GraphDecomposition/DirectedFunctionalGraph.py:296: UserWarning: To copy construct from a tensor, it is recommended to use sourceTensor.clone().detach() or sourceTensor.clone().detach().requires_grad_(True), rather than torch.tensor(sourceTensor).\n",
      "  norm_difference = torch.subtract(torch.tensor(self.get_local_losses()), torch.tensor(losses))\n",
      "/home/zhiliang/.local/lib/python3.10/site-packages/botorch/models/utils/assorted.py:173: InputDataWarning: Input data is not contained to the unit cube. Please consider min-max scaling the input data.\n",
      "  warnings.warn(msg, InputDataWarning)\n",
      "/home/zhiliang/.local/lib/python3.10/site-packages/botorch/models/utils/assorted.py:201: InputDataWarning: Input data is not standardized. Please consider scaling the input to zero mean and unit variance.\n",
      "  warnings.warn(msg, InputDataWarning)\n",
      "/home/zhiliang/dev/AutoAI/GraphDecomposition/DirectedFunctionalGraph.py:171: UserWarning: To copy construct from a tensor, it is recommended to use sourceTensor.clone().detach() or sourceTensor.clone().detach().requires_grad_(True), rather than torch.tensor(sourceTensor).\n",
      "  norm_difference = torch.subtract(self.get_local_losses(), torch.tensor(losses))\n"
     ]
    },
    {
     "name": "stdout",
     "output_type": "stream",
     "text": [
      "5\n",
      "20\n",
      "5\n",
      "number to sample:  5\n",
      "[(0,), (3,), (1,), (4,), (2,)]\n",
      "number of combination of params with matching loss:  5\n",
      "candidate: tensor([[0.0065]], dtype=torch.float64)\n",
      "BO iteration:  9\n",
      "Current best objective:  tensor(-0.0062, dtype=torch.float64)\n",
      "loss to look for:  tensor([0.0065], dtype=torch.float64)\n"
     ]
    },
    {
     "name": "stderr",
     "output_type": "stream",
     "text": [
      "/home/zhiliang/dev/AutoAI/GraphDecomposition/DirectedFunctionalGraph.py:296: UserWarning: To copy construct from a tensor, it is recommended to use sourceTensor.clone().detach() or sourceTensor.clone().detach().requires_grad_(True), rather than torch.tensor(sourceTensor).\n",
      "  norm_difference = torch.subtract(torch.tensor(self.get_local_losses()), torch.tensor(losses))\n",
      "/home/zhiliang/.local/lib/python3.10/site-packages/botorch/models/utils/assorted.py:173: InputDataWarning: Input data is not contained to the unit cube. Please consider min-max scaling the input data.\n",
      "  warnings.warn(msg, InputDataWarning)\n",
      "/home/zhiliang/.local/lib/python3.10/site-packages/botorch/models/utils/assorted.py:201: InputDataWarning: Input data is not standardized. Please consider scaling the input to zero mean and unit variance.\n",
      "  warnings.warn(msg, InputDataWarning)\n",
      "/home/zhiliang/dev/AutoAI/GraphDecomposition/DirectedFunctionalGraph.py:171: UserWarning: To copy construct from a tensor, it is recommended to use sourceTensor.clone().detach() or sourceTensor.clone().detach().requires_grad_(True), rather than torch.tensor(sourceTensor).\n",
      "  norm_difference = torch.subtract(self.get_local_losses(), torch.tensor(losses))\n"
     ]
    },
    {
     "name": "stdout",
     "output_type": "stream",
     "text": [
      "5\n",
      "20\n",
      "5\n",
      "number to sample:  5\n",
      "[(4,), (0,), (3,), (1,), (2,)]\n",
      "number of combination of params with matching loss:  5\n",
      "candidate: tensor([[0.0065]], dtype=torch.float64)\n"
     ]
    },
    {
     "name": "stderr",
     "output_type": "stream",
     "text": [
      "/home/zhiliang/dev/AutoAI/GraphDecomposition/DirectedFunctionalGraph.py:296: UserWarning: To copy construct from a tensor, it is recommended to use sourceTensor.clone().detach() or sourceTensor.clone().detach().requires_grad_(True), rather than torch.tensor(sourceTensor).\n",
      "  norm_difference = torch.subtract(torch.tensor(self.get_local_losses()), torch.tensor(losses))\n",
      "/home/zhiliang/.local/lib/python3.10/site-packages/botorch/models/utils/assorted.py:173: InputDataWarning: Input data is not contained to the unit cube. Please consider min-max scaling the input data.\n",
      "  warnings.warn(msg, InputDataWarning)\n",
      "/home/zhiliang/.local/lib/python3.10/site-packages/botorch/models/utils/assorted.py:201: InputDataWarning: Input data is not standardized. Please consider scaling the input to zero mean and unit variance.\n",
      "  warnings.warn(msg, InputDataWarning)\n"
     ]
    }
   ],
   "source": [
    "# assign M.I to each component\n",
    "DG = generate_dg()\n",
    "DG = assign_mi(DG)\n",
    "\n",
    "# get decomposition via some partitioning method\n",
    "all_black_box = [\"Blackbox3\", \"Blackbox5\", \"Blackbox6\"]\n",
    "all_decomp = find_all_decomposition_full(all_black_box, DG)\n",
    "all_valid_decomp = get_all_valid_decomposition(all_decomp)\n",
    "best_decomposition, score = get_best_decomposition(all_valid_decomp, DG, l=1, measure=\"mi\")\n",
    "\n",
    "# for each decomposition, optimize it\n",
    "for sub_system_set in best_decomposition:\n",
    "    print(\"subsystem: \", sub_system_set)\n",
    "    graph_temp = copy.deepcopy(DG)\n",
    "    sub_system = generate_sub_system(sub_system_set, graph_temp, ground_truth_param)\n",
    "    X,y = get_end_to_end_data(sub_system,ground_truth_param)\n",
    "    \n",
    "    sub_system.system_x = X\n",
    "    sub_system.system_y = y\n",
    "    \n",
    "    # vanilla BO\n",
    "    # all_best_losses, _, _ = BO_graph(graph_temp,printout=False,iteration=10)\n",
    "    \n",
    "    # ours\n",
    "    sub_system.random_initialize_param()\n",
    "    sub_system.fit_locally_partial(100)\n",
    "\n",
    "    lower_bound_local_loss = show_system_loss_from_grad_descent(sub_system, itr=1000, plot=True)\n",
    "    lower_bound_local_loss = [x.detach().numpy().tolist() for x in lower_bound_local_loss]\n",
    "    print(\"system loss at after descent: \", sub_system.get_system_loss())\n",
    "    sub_system.random_initialize_param()\n",
    "    bounds = torch.tensor([np.array(lower_bound_local_loss), np.array(lower_bound_local_loss) * 3])\n",
    "    all_best_losses_ours, best_param = BO_graph_local_loss(sub_system, bounds, \"multi_search\", iteration=10)\n",
    "    break\n"
   ]
  },
  {
   "attachments": {},
   "cell_type": "markdown",
   "metadata": {},
   "source": [
    "# For debugging purposes: provide a fixed partitioning"
   ]
  },
  {
   "cell_type": "code",
   "execution_count": 874,
   "metadata": {},
   "outputs": [
    {
     "name": "stdout",
     "output_type": "stream",
     "text": [
      "subsystem local loss:  tensor([[0.0195, 0.2991]], dtype=torch.float64)\n",
      "subsystem system loss:  tensor(0.0193, dtype=torch.float64)\n",
      "BO iteration:  0\n",
      "Current best objective:  -10000\n",
      "loss to look for:  tensor([0.0027, 0.0026], dtype=torch.float64)\n"
     ]
    },
    {
     "name": "stderr",
     "output_type": "stream",
     "text": [
      "/home/zhiliang/dev/AutoAI/GraphDecomposition/DirectedFunctionalGraph.py:171: UserWarning: To copy construct from a tensor, it is recommended to use sourceTensor.clone().detach() or sourceTensor.clone().detach().requires_grad_(True), rather than torch.tensor(sourceTensor).\n",
      "  norm_difference = torch.subtract(self.get_local_losses(), torch.tensor(losses))\n"
     ]
    },
    {
     "name": "stdout",
     "output_type": "stream",
     "text": [
      "9\n",
      "20\n",
      "9\n",
      "number to sample:  9\n",
      "[(1, 1), (2, 1), (0, 1), (1, 2), (2, 0), (0, 0), (2, 2), (1, 0), (0, 2)]\n",
      "number of combination of params with matching loss:  9\n"
     ]
    },
    {
     "name": "stderr",
     "output_type": "stream",
     "text": [
      "/home/zhiliang/dev/AutoAI/GraphDecomposition/DirectedFunctionalGraph.py:296: UserWarning: To copy construct from a tensor, it is recommended to use sourceTensor.clone().detach() or sourceTensor.clone().detach().requires_grad_(True), rather than torch.tensor(sourceTensor).\n",
      "  norm_difference = torch.subtract(torch.tensor(self.get_local_losses()), torch.tensor(losses))\n",
      "/home/zhiliang/.local/lib/python3.10/site-packages/botorch/models/utils/assorted.py:201: InputDataWarning: Input data is not standardized. Please consider scaling the input to zero mean and unit variance.\n",
      "  warnings.warn(msg, InputDataWarning)\n",
      "/home/zhiliang/dev/AutoAI/GraphDecomposition/DirectedFunctionalGraph.py:171: UserWarning: To copy construct from a tensor, it is recommended to use sourceTensor.clone().detach() or sourceTensor.clone().detach().requires_grad_(True), rather than torch.tensor(sourceTensor).\n",
      "  norm_difference = torch.subtract(self.get_local_losses(), torch.tensor(losses))\n"
     ]
    },
    {
     "name": "stdout",
     "output_type": "stream",
     "text": [
      "candidate: tensor([[0.0081, 0.0078]], dtype=torch.float64)\n",
      "BO iteration:  1\n",
      "Current best objective:  tensor(-0.0088, dtype=torch.float64)\n",
      "loss to look for:  tensor([0.0081, 0.0078], dtype=torch.float64)\n",
      "9\n",
      "20\n",
      "9\n",
      "number to sample:  9\n",
      "[(1, 0), (1, 1), (2, 0), (0, 2), (2, 2), (1, 2), (2, 1), (0, 1), (0, 0)]\n",
      "number of combination of params with matching loss:  9\n",
      "candidate: tensor([[0.0030, 0.0078]], dtype=torch.float64)\n",
      "BO iteration:  2\n",
      "Current best objective:  tensor(-0.0071, dtype=torch.float64)\n",
      "loss to look for:  tensor([0.0030, 0.0078], dtype=torch.float64)\n"
     ]
    },
    {
     "name": "stderr",
     "output_type": "stream",
     "text": [
      "/home/zhiliang/dev/AutoAI/GraphDecomposition/DirectedFunctionalGraph.py:296: UserWarning: To copy construct from a tensor, it is recommended to use sourceTensor.clone().detach() or sourceTensor.clone().detach().requires_grad_(True), rather than torch.tensor(sourceTensor).\n",
      "  norm_difference = torch.subtract(torch.tensor(self.get_local_losses()), torch.tensor(losses))\n",
      "/home/zhiliang/.local/lib/python3.10/site-packages/botorch/models/utils/assorted.py:201: InputDataWarning: Input data is not standardized. Please consider scaling the input to zero mean and unit variance.\n",
      "  warnings.warn(msg, InputDataWarning)\n",
      "/home/zhiliang/dev/AutoAI/GraphDecomposition/DirectedFunctionalGraph.py:171: UserWarning: To copy construct from a tensor, it is recommended to use sourceTensor.clone().detach() or sourceTensor.clone().detach().requires_grad_(True), rather than torch.tensor(sourceTensor).\n",
      "  norm_difference = torch.subtract(self.get_local_losses(), torch.tensor(losses))\n"
     ]
    },
    {
     "name": "stdout",
     "output_type": "stream",
     "text": [
      "9\n",
      "20\n",
      "9\n",
      "number to sample:  9\n",
      "[(0, 0), (1, 0), (0, 1), (2, 0), (0, 2), (2, 1), (2, 2), (1, 2), (1, 1)]\n",
      "number of combination of params with matching loss:  9\n",
      "candidate: tensor([[0.0081, 0.0078]], dtype=torch.float64)\n",
      "BO iteration:  3\n",
      "Current best objective:  tensor(-0.0067, dtype=torch.float64)\n",
      "loss to look for:  tensor([0.0081, 0.0078], dtype=torch.float64)\n"
     ]
    },
    {
     "name": "stderr",
     "output_type": "stream",
     "text": [
      "/home/zhiliang/dev/AutoAI/GraphDecomposition/DirectedFunctionalGraph.py:296: UserWarning: To copy construct from a tensor, it is recommended to use sourceTensor.clone().detach() or sourceTensor.clone().detach().requires_grad_(True), rather than torch.tensor(sourceTensor).\n",
      "  norm_difference = torch.subtract(torch.tensor(self.get_local_losses()), torch.tensor(losses))\n",
      "/home/zhiliang/.local/lib/python3.10/site-packages/botorch/models/utils/assorted.py:201: InputDataWarning: Input data is not standardized. Please consider scaling the input to zero mean and unit variance.\n",
      "  warnings.warn(msg, InputDataWarning)\n",
      "/home/zhiliang/dev/AutoAI/GraphDecomposition/DirectedFunctionalGraph.py:171: UserWarning: To copy construct from a tensor, it is recommended to use sourceTensor.clone().detach() or sourceTensor.clone().detach().requires_grad_(True), rather than torch.tensor(sourceTensor).\n",
      "  norm_difference = torch.subtract(self.get_local_losses(), torch.tensor(losses))\n"
     ]
    },
    {
     "name": "stdout",
     "output_type": "stream",
     "text": [
      "9\n",
      "20\n",
      "9\n",
      "number to sample:  9\n",
      "[(2, 1), (2, 2), (0, 1), (0, 2), (2, 0), (1, 1), (0, 0), (1, 0), (1, 2)]\n",
      "number of combination of params with matching loss:  9\n",
      "candidate: tensor([[0.0030, 0.0028]], dtype=torch.float64)\n",
      "BO iteration:  4\n",
      "Current best objective:  tensor(-0.0067, dtype=torch.float64)\n",
      "loss to look for:  tensor([0.0030, 0.0028], dtype=torch.float64)\n"
     ]
    },
    {
     "name": "stderr",
     "output_type": "stream",
     "text": [
      "/home/zhiliang/dev/AutoAI/GraphDecomposition/DirectedFunctionalGraph.py:296: UserWarning: To copy construct from a tensor, it is recommended to use sourceTensor.clone().detach() or sourceTensor.clone().detach().requires_grad_(True), rather than torch.tensor(sourceTensor).\n",
      "  norm_difference = torch.subtract(torch.tensor(self.get_local_losses()), torch.tensor(losses))\n",
      "/home/zhiliang/.local/lib/python3.10/site-packages/botorch/models/utils/assorted.py:201: InputDataWarning: Input data is not standardized. Please consider scaling the input to zero mean and unit variance.\n",
      "  warnings.warn(msg, InputDataWarning)\n",
      "/home/zhiliang/dev/AutoAI/GraphDecomposition/DirectedFunctionalGraph.py:171: UserWarning: To copy construct from a tensor, it is recommended to use sourceTensor.clone().detach() or sourceTensor.clone().detach().requires_grad_(True), rather than torch.tensor(sourceTensor).\n",
      "  norm_difference = torch.subtract(self.get_local_losses(), torch.tensor(losses))\n"
     ]
    },
    {
     "name": "stdout",
     "output_type": "stream",
     "text": [
      "9\n",
      "20\n",
      "9\n",
      "number to sample:  9\n",
      "[(2, 1), (1, 1), (2, 0), (0, 1), (1, 0), (1, 2), (0, 2), (0, 0), (2, 2)]\n",
      "number of combination of params with matching loss:  9\n",
      "candidate: tensor([[0.0030, 0.0078]], dtype=torch.float64)\n",
      "BO iteration:  5\n",
      "Current best objective:  tensor(-0.0067, dtype=torch.float64)\n",
      "loss to look for:  tensor([0.0030, 0.0078], dtype=torch.float64)\n"
     ]
    },
    {
     "name": "stderr",
     "output_type": "stream",
     "text": [
      "/home/zhiliang/dev/AutoAI/GraphDecomposition/DirectedFunctionalGraph.py:296: UserWarning: To copy construct from a tensor, it is recommended to use sourceTensor.clone().detach() or sourceTensor.clone().detach().requires_grad_(True), rather than torch.tensor(sourceTensor).\n",
      "  norm_difference = torch.subtract(torch.tensor(self.get_local_losses()), torch.tensor(losses))\n",
      "/home/zhiliang/.local/lib/python3.10/site-packages/botorch/models/utils/assorted.py:201: InputDataWarning: Input data is not standardized. Please consider scaling the input to zero mean and unit variance.\n",
      "  warnings.warn(msg, InputDataWarning)\n",
      "/home/zhiliang/dev/AutoAI/GraphDecomposition/DirectedFunctionalGraph.py:171: UserWarning: To copy construct from a tensor, it is recommended to use sourceTensor.clone().detach() or sourceTensor.clone().detach().requires_grad_(True), rather than torch.tensor(sourceTensor).\n",
      "  norm_difference = torch.subtract(self.get_local_losses(), torch.tensor(losses))\n"
     ]
    },
    {
     "name": "stdout",
     "output_type": "stream",
     "text": [
      "9\n",
      "20\n",
      "9\n",
      "number to sample:  9\n",
      "[(2, 1), (2, 0), (1, 1), (0, 0), (0, 2), (1, 0), (0, 1), (2, 2), (1, 2)]\n",
      "number of combination of params with matching loss:  9\n",
      "candidate: tensor([[0.0030, 0.0028]], dtype=torch.float64)\n",
      "BO iteration:  6\n",
      "Current best objective:  tensor(-0.0067, dtype=torch.float64)\n",
      "loss to look for:  tensor([0.0030, 0.0028], dtype=torch.float64)\n"
     ]
    },
    {
     "name": "stderr",
     "output_type": "stream",
     "text": [
      "/home/zhiliang/dev/AutoAI/GraphDecomposition/DirectedFunctionalGraph.py:296: UserWarning: To copy construct from a tensor, it is recommended to use sourceTensor.clone().detach() or sourceTensor.clone().detach().requires_grad_(True), rather than torch.tensor(sourceTensor).\n",
      "  norm_difference = torch.subtract(torch.tensor(self.get_local_losses()), torch.tensor(losses))\n",
      "/home/zhiliang/.local/lib/python3.10/site-packages/botorch/models/utils/assorted.py:201: InputDataWarning: Input data is not standardized. Please consider scaling the input to zero mean and unit variance.\n",
      "  warnings.warn(msg, InputDataWarning)\n",
      "/home/zhiliang/dev/AutoAI/GraphDecomposition/DirectedFunctionalGraph.py:171: UserWarning: To copy construct from a tensor, it is recommended to use sourceTensor.clone().detach() or sourceTensor.clone().detach().requires_grad_(True), rather than torch.tensor(sourceTensor).\n",
      "  norm_difference = torch.subtract(self.get_local_losses(), torch.tensor(losses))\n"
     ]
    },
    {
     "name": "stdout",
     "output_type": "stream",
     "text": [
      "9\n",
      "20\n",
      "9\n",
      "number to sample:  9\n",
      "[(1, 2), (1, 0), (0, 2), (0, 1), (2, 1), (2, 0), (2, 2), (0, 0), (1, 1)]\n",
      "number of combination of params with matching loss:  9\n",
      "candidate: tensor([[0.0030, 0.0028]], dtype=torch.float64)\n",
      "BO iteration:  7\n",
      "Current best objective:  tensor(-0.0067, dtype=torch.float64)\n",
      "loss to look for:  tensor([0.0030, 0.0028], dtype=torch.float64)\n"
     ]
    },
    {
     "name": "stderr",
     "output_type": "stream",
     "text": [
      "/home/zhiliang/dev/AutoAI/GraphDecomposition/DirectedFunctionalGraph.py:296: UserWarning: To copy construct from a tensor, it is recommended to use sourceTensor.clone().detach() or sourceTensor.clone().detach().requires_grad_(True), rather than torch.tensor(sourceTensor).\n",
      "  norm_difference = torch.subtract(torch.tensor(self.get_local_losses()), torch.tensor(losses))\n",
      "/home/zhiliang/.local/lib/python3.10/site-packages/botorch/models/utils/assorted.py:201: InputDataWarning: Input data is not standardized. Please consider scaling the input to zero mean and unit variance.\n",
      "  warnings.warn(msg, InputDataWarning)\n",
      "/home/zhiliang/dev/AutoAI/GraphDecomposition/DirectedFunctionalGraph.py:171: UserWarning: To copy construct from a tensor, it is recommended to use sourceTensor.clone().detach() or sourceTensor.clone().detach().requires_grad_(True), rather than torch.tensor(sourceTensor).\n",
      "  norm_difference = torch.subtract(self.get_local_losses(), torch.tensor(losses))\n"
     ]
    },
    {
     "name": "stdout",
     "output_type": "stream",
     "text": [
      "9\n",
      "20\n",
      "9\n",
      "number to sample:  9\n",
      "[(2, 2), (2, 0), (2, 1), (1, 0), (0, 2), (1, 1), (1, 2), (0, 0), (0, 1)]\n",
      "number of combination of params with matching loss:  9\n"
     ]
    },
    {
     "name": "stderr",
     "output_type": "stream",
     "text": [
      "/home/zhiliang/dev/AutoAI/GraphDecomposition/DirectedFunctionalGraph.py:296: UserWarning: To copy construct from a tensor, it is recommended to use sourceTensor.clone().detach() or sourceTensor.clone().detach().requires_grad_(True), rather than torch.tensor(sourceTensor).\n",
      "  norm_difference = torch.subtract(torch.tensor(self.get_local_losses()), torch.tensor(losses))\n",
      "/home/zhiliang/.local/lib/python3.10/site-packages/botorch/models/utils/assorted.py:201: InputDataWarning: Input data is not standardized. Please consider scaling the input to zero mean and unit variance.\n",
      "  warnings.warn(msg, InputDataWarning)\n",
      "/home/zhiliang/dev/AutoAI/GraphDecomposition/DirectedFunctionalGraph.py:171: UserWarning: To copy construct from a tensor, it is recommended to use sourceTensor.clone().detach() or sourceTensor.clone().detach().requires_grad_(True), rather than torch.tensor(sourceTensor).\n",
      "  norm_difference = torch.subtract(self.get_local_losses(), torch.tensor(losses))\n"
     ]
    },
    {
     "name": "stdout",
     "output_type": "stream",
     "text": [
      "candidate: tensor([[0.0030, 0.0078]], dtype=torch.float64)\n",
      "BO iteration:  8\n",
      "Current best objective:  tensor(-0.0067, dtype=torch.float64)\n",
      "loss to look for:  tensor([0.0030, 0.0078], dtype=torch.float64)\n",
      "9\n",
      "20\n",
      "9\n",
      "number to sample:  9\n",
      "[(2, 2), (2, 1), (0, 0), (1, 2), (0, 1), (1, 1), (1, 0), (0, 2), (2, 0)]\n",
      "number of combination of params with matching loss:  9\n",
      "candidate: tensor([[0.0030, 0.0028]], dtype=torch.float64)\n",
      "BO iteration:  9\n",
      "Current best objective:  tensor(-0.0067, dtype=torch.float64)\n",
      "loss to look for:  tensor([0.0030, 0.0028], dtype=torch.float64)\n"
     ]
    },
    {
     "name": "stderr",
     "output_type": "stream",
     "text": [
      "/home/zhiliang/dev/AutoAI/GraphDecomposition/DirectedFunctionalGraph.py:296: UserWarning: To copy construct from a tensor, it is recommended to use sourceTensor.clone().detach() or sourceTensor.clone().detach().requires_grad_(True), rather than torch.tensor(sourceTensor).\n",
      "  norm_difference = torch.subtract(torch.tensor(self.get_local_losses()), torch.tensor(losses))\n",
      "/home/zhiliang/.local/lib/python3.10/site-packages/botorch/models/utils/assorted.py:201: InputDataWarning: Input data is not standardized. Please consider scaling the input to zero mean and unit variance.\n",
      "  warnings.warn(msg, InputDataWarning)\n",
      "/home/zhiliang/dev/AutoAI/GraphDecomposition/DirectedFunctionalGraph.py:171: UserWarning: To copy construct from a tensor, it is recommended to use sourceTensor.clone().detach() or sourceTensor.clone().detach().requires_grad_(True), rather than torch.tensor(sourceTensor).\n",
      "  norm_difference = torch.subtract(self.get_local_losses(), torch.tensor(losses))\n"
     ]
    },
    {
     "name": "stdout",
     "output_type": "stream",
     "text": [
      "9\n",
      "20\n",
      "9\n",
      "number to sample:  9\n",
      "[(2, 0), (2, 1), (0, 2), (1, 1), (1, 2), (2, 2), (0, 0), (0, 1), (1, 0)]\n",
      "number of combination of params with matching loss:  9\n",
      "candidate: tensor([[0.0030, 0.0028]], dtype=torch.float64)\n"
     ]
    },
    {
     "name": "stderr",
     "output_type": "stream",
     "text": [
      "/home/zhiliang/dev/AutoAI/GraphDecomposition/DirectedFunctionalGraph.py:296: UserWarning: To copy construct from a tensor, it is recommended to use sourceTensor.clone().detach() or sourceTensor.clone().detach().requires_grad_(True), rather than torch.tensor(sourceTensor).\n",
      "  norm_difference = torch.subtract(torch.tensor(self.get_local_losses()), torch.tensor(losses))\n",
      "/home/zhiliang/.local/lib/python3.10/site-packages/botorch/models/utils/assorted.py:201: InputDataWarning: Input data is not standardized. Please consider scaling the input to zero mean and unit variance.\n",
      "  warnings.warn(msg, InputDataWarning)\n"
     ]
    }
   ],
   "source": [
    "\n",
    "DG.random_initialize_param()\n",
    "sub_system = {1, 2, 'Blackbox3'}\n",
    "sub_system = generate_sub_system(sub_system, DG, ground_truth_param)\n",
    "print(\"subsystem local loss: \", sub_system.get_local_losses())\n",
    "print(\"subsystem system loss: \", sub_system.get_system_loss())\n",
    "\n",
    "# vanilla\n",
    "# all_best_losses, _, _ = BO_graph(sub_system,printout=False,iteration=50)\n",
    "\n",
    "# ours\n",
    "sub_system.random_initialize_param()\n",
    "sub_system.fit_locally_partial(100)\n",
    "\n",
    "lower_bound_local_loss = show_system_loss_from_grad_descent(sub_system, itr=500, plot=False)\n",
    "lower_bound_local_loss = [x.detach().numpy().tolist() for x in lower_bound_local_loss]\n",
    "bounds = torch.tensor([np.array(lower_bound_local_loss)*1.1, np.array(lower_bound_local_loss) * 3])\n",
    "all_best_losses_ours, best_param = BO_graph_local_loss(sub_system, bounds, \"multi_search\", iteration=10)"
   ]
  },
  {
   "cell_type": "code",
   "execution_count": null,
   "metadata": {},
   "outputs": [],
   "source": []
  }
 ],
 "metadata": {
  "kernelspec": {
   "display_name": "bo",
   "language": "python",
   "name": "python3"
  },
  "language_info": {
   "codemirror_mode": {
    "name": "ipython",
    "version": 3
   },
   "file_extension": ".py",
   "mimetype": "text/x-python",
   "name": "python",
   "nbconvert_exporter": "python",
   "pygments_lexer": "ipython3",
   "version": "3.10.6"
  },
  "orig_nbformat": 4
 },
 "nbformat": 4,
 "nbformat_minor": 2
}
